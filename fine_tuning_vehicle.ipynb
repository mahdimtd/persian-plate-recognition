{
  "nbformat": 4,
  "nbformat_minor": 0,
  "metadata": {
    "colab": {
      "provenance": [],
      "gpuType": "T4"
    },
    "kernelspec": {
      "name": "python3",
      "display_name": "Python 3"
    },
    "language_info": {
      "name": "python"
    },
    "accelerator": "GPU"
  },
  "cells": [
    {
      "cell_type": "code",
      "source": [
        "import kagglehub\n",
        "\n",
        "# Download latest version\n",
        "path = kagglehub.dataset_download(\"farzadnekouei/top-view-vehicle-detection-image-dataset\")\n",
        "\n",
        "print(\"Path to dataset files:\", path)"
      ],
      "metadata": {
        "colab": {
          "base_uri": "https://localhost:8080/"
        },
        "id": "uOPZMje-vAoc",
        "outputId": "a8544f0c-6ea5-4013-d9ae-48d9344169d5"
      },
      "execution_count": 6,
      "outputs": [
        {
          "output_type": "stream",
          "name": "stdout",
          "text": [
            "Path to dataset files: /kaggle/input/top-view-vehicle-detection-image-dataset\n"
          ]
        }
      ]
    },
    {
      "cell_type": "code",
      "source": [
        "import os\n",
        "\n",
        "print(\"Path to dataset files:\", path)\n",
        "print(\"Contents of the dataset folder:\")\n",
        "print(os.listdir(path))\n"
      ],
      "metadata": {
        "colab": {
          "base_uri": "https://localhost:8080/"
        },
        "id": "9qjb4I40tRqS",
        "outputId": "04bdf30b-71d9-4a3c-aa67-bebff37250f5"
      },
      "execution_count": 7,
      "outputs": [
        {
          "output_type": "stream",
          "name": "stdout",
          "text": [
            "Path to dataset files: /kaggle/input/top-view-vehicle-detection-image-dataset\n",
            "Contents of the dataset folder:\n",
            "['Vehicle_Detection_Image_Dataset']\n"
          ]
        }
      ]
    },
    {
      "cell_type": "code",
      "source": [
        "for root, dirs, files in os.walk(path):\n",
        "    print(\"In:\", root)\n",
        "    print(\"Dirs:\", dirs)\n",
        "    print(\"Files:\", files)\n",
        "    print(\"-\" * 30)\n"
      ],
      "metadata": {
        "colab": {
          "base_uri": "https://localhost:8080/"
        },
        "id": "snZv-4_UtRs-",
        "outputId": "a4d608bb-32ad-444a-dc2e-c6fdfff6e1d8"
      },
      "execution_count": 8,
      "outputs": [
        {
          "output_type": "stream",
          "name": "stdout",
          "text": [
            "In: /kaggle/input/top-view-vehicle-detection-image-dataset\n",
            "Dirs: ['Vehicle_Detection_Image_Dataset']\n",
            "Files: []\n",
            "------------------------------\n",
            "In: /kaggle/input/top-view-vehicle-detection-image-dataset/Vehicle_Detection_Image_Dataset\n",
            "Dirs: ['valid', 'train']\n",
            "Files: ['README.dataset.txt', 'README.roboflow.txt', 'data.yaml', 'sample_video.mp4', 'sample_image.jpg']\n",
            "------------------------------\n",
            "In: /kaggle/input/top-view-vehicle-detection-image-dataset/Vehicle_Detection_Image_Dataset/valid\n",
            "Dirs: ['labels', 'images']\n",
            "Files: []\n",
            "------------------------------\n",
            "In: /kaggle/input/top-view-vehicle-detection-image-dataset/Vehicle_Detection_Image_Dataset/valid/labels\n",
            "Dirs: []\n",
            "Files: ['12_mp4-10_jpg.rf.4bb699a2ec90e19cb4680ee239ae579c.txt', '6_mp4-31_jpg.rf.c786274ab129629ca618e454b4146f11.txt', '6_mp4-29_jpg.rf.e73ca25e92e590b325006f010ad4e319.txt', '4_mp4-8_jpg.rf.1d199d41f6c3738763c192883ad1a5b4.txt', '7_mp4-24_jpg.rf.ed2484fe45c32f27443cccd8bbf99361.txt', '2_mp4-1_jpg.rf.b52c12a365fbeb71e302f0505038959b.txt', 'test2_mp4-21_jpg.rf.bbb3ba4e4b69e5a12822300829bf75f0.txt', '7_mp4-11_jpg.rf.02a513fa7473144494b7a53fc14b6560.txt', '3_mp4-2_jpg.rf.fb3ec30812baf2bbaca8718878601bde.txt', '11_mp4-7_jpg.rf.c29830bf45870c97e8667ce13c0994a9.txt', '5_mp4-5_jpg.rf.47c7656c79a6cfa7dbabfcaaeef94dea.txt', 'test2_mp4-8_jpg.rf.c10dd559d44a868fd6f6877fd734815a.txt', '5_mp4-9_jpg.rf.7935a441141908423532c47b7ac06cde.txt', '11_mp4-29_jpg.rf.f4e8f8309727d46eec20a7c469f54d9c.txt', '10_mp4-13_jpg.rf.aff71e875ee297d3086b715b7d6aaf26.txt', '13_mp4-16_jpg.rf.dbcfa7de2863879d3000ca35d30610e9.txt', '6_mp4-23_jpg.rf.1b0bacb47ce35aab7a6ddd69b6f7f334.txt', '8_mp4-45_jpg.rf.459ab8691a64f40ebf3a5ab525476aca.txt', '12_mp4-18_jpg.rf.3a9772dc3c051396fd79732651cb66a3.txt', '8_mp4-14_jpg.rf.e15e22de0316fce6d319640eae7a04c3.txt', '8_mp4-39_jpg.rf.bf01d183fca62e3316a0e4b31bfdf0da.txt', 'test_mp4-2_jpg.rf.7aa04dc29802950b7aa81fd4f5cc5d7c.txt', '12_mp4-16_jpg.rf.0fcd57e7a8e7f4345ede8d494fbc75be.txt', '14_mp4-10_jpg.rf.edf4723435ff483f7d55c474a60be14d.txt', '15_mp4-10_jpg.rf.36bd6816aa11df00d569dd41116d9322.txt', '14_mp4-0_jpg.rf.a9de046366e99b1b12a43c93614e1c60.txt', '6_mp4-1_jpg.rf.a30955a1b5b2a8db39354221db4f5b5f.txt', 'test3_mp4-5_jpg.rf.9750bf1cd88f2dce07edd907b7dc61f4.txt', '5_mp4-27_jpg.rf.30a8975089fb66bc245019de9d868801.txt', 'test_mp4-15_jpg.rf.2e20880f4bc2ad6347a6a98e8f4ef849.txt', '8_mp4-6_jpg.rf.9eddb296d3861c6af62c2d2c3ca30fb2.txt', '6_mp4-0_jpg.rf.9a055d040151678e04cb48a8bde76f55.txt', '16_mp4-1_jpg.rf.3493f4b7618e207609847857a20dbaff.txt', '5_mp4-29_jpg.rf.de506ae3402dafeffb1e6427af894871.txt', '2_mp4-5_jpg.rf.bb490ff3835ac898dedea95c973038f5.txt', '13_mp4-9_jpg.rf.e26b4d37b22952e51e74e45fccb725c4.txt', '11_mp4-15_jpg.rf.b1bdb8b4864b5bed3c78f1a70e2dc011.txt', '2_mp4-10_jpg.rf.97b46cb44bcae5057b47db4ebbbe9305.txt', '13_mp4-5_jpg.rf.8c55dff632bf3a3a35da021c5bd43091.txt', '4_mp4-1_jpg.rf.a1b873f83491736ca8bc5817761a2ec3.txt', 'test2_mp4-19_jpg.rf.a3723816acc8bacb1350cc05fb78b924.txt', '8_mp4-22_jpg.rf.cc0d05137c80f5ef9057177e101b4e13.txt', 'test3_mp4-4_jpg.rf.4117c2b721818a818f810d1ed547e1db.txt', '13_mp4-21_jpg.rf.384d3e564126403c9eeb3ad9deebf3a6.txt', '8_mp4-3_jpg.rf.05628975b0d5e011fe6ada765f915cd1.txt', '10_mp4-31_jpg.rf.0daa09b648954e3a19824a49ad49876e.txt', '7_mp4-5_jpg.rf.4fbccc6bf11dc163e1ff276014a55561.txt', '12_mp4-24_jpg.rf.b5c9acb867e41055973828d5c43ed57e.txt', '8_mp4-19_jpg.rf.5a133390424449e110bab4a90be94355.txt', '2_mp4-22_jpg.rf.7e53e9a475efa9889dc0a74380255e9b.txt', '14_mp4-5_jpg.rf.56b529ccef99d8c81d68610e5a5e3929.txt', '11_mp4-28_jpg.rf.afaa0527199e4ac7b9564b9552575d33.txt', '4_mp4-7_jpg.rf.439bc6176789cd7ca6bd686e23fc5ddf.txt', '14_mp4-15_jpg.rf.9640ab027504af3733b76827756764eb.txt', '8_mp4-12_jpg.rf.dcbef9dfc2cf3b8eecf139c256caa179.txt', '1_mp4-0_jpg.rf.71f17d5bdbcac3f9939ae34558b63288.txt', '6_mp4-10_jpg.rf.4e74eb10d5dc733c083cdf4f227386ab.txt', '2_mp4-17_jpg.rf.2948c849931a8eff6c6641d24c1cfc8f.txt', '10_mp4-0_jpg.rf.08b3bd34bbb73fb80c2d662c34474a98.txt', '14_mp4-24_jpg.rf.57d5fe50d543f58e3b1f761ee53e1aa8.txt', '10_mp4-9_jpg.rf.72a35ba2f76343afc7a101e720dbbb81.txt', '5_mp4-21_jpg.rf.e1f8c70bc4d3aee7e30f029aa44fd7a0.txt', '10_mp4-39_jpg.rf.af70092b5f2277f16d2703a4d59c3313.txt', '10_mp4-16_jpg.rf.b01cbf556a5a2c4154322deda0339880.txt', '10_mp4-23_jpg.rf.13b084ba8417c6d0aaf5d4c35ddba6ac.txt', '7_mp4-6_jpg.rf.3f9214d14313fa7dd572e7739bbe7398.txt', '5_mp4-26_jpg.rf.61d8ef7774c6c33aa7015c91dc91aa34.txt', '11_mp4-24_jpg.rf.49cf501f701c9bba3f940e2c9530d258.txt', '15_mp4-6_jpg.rf.f8ad77cac61af6ee1b551af09789bc24.txt', 'test_mp4-10_jpg.rf.2ca4c14abaa5734493da3c35e2089f1c.txt', '3_mp4-8_jpg.rf.4a784fedfdd385032614371ea5cb78fa.txt', 'test3_mp4-8_jpg.rf.8223a2cf9be640b80ee97b8c3e46d8c3.txt', 'test2_mp4-16_jpg.rf.585413166ce3fb74dc3e975edc009020.txt', '13_mp4-18_jpg.rf.4ad6c1d97b9a99efd21cbbf3f6da9d89.txt', 'test2_mp4-1_jpg.rf.695e12d07d9427f18d33d1e69827075f.txt', 'test_mp4-13_jpg.rf.98cd77f75c4492f8f103aaf4ce2ca8f8.txt', '6_mp4-24_jpg.rf.b11ebad90583e724f447a295f04e9bf0.txt', '11_mp4-2_jpg.rf.4297efcf4f8f508d37d3310e30dc2b96.txt', '3_mp4-17_jpg.rf.fdfd6a4ddf7c5f516a940b2452857d67.txt', '10_mp4-35_jpg.rf.5de759e599ee930d33ec127e04347f97.txt', '3_mp4-14_jpg.rf.6597c5732e0d554f1f07edb59abb4f8b.txt', '8_mp4-0_jpg.rf.3b2c1cfee1946594ca79d413e945d30a.txt', '7_mp4-16_jpg.rf.4adf9f6fc7b5f6571fd1ef429cd79026.txt', '10_mp4-46_jpg.rf.6f582e01a1a77c50f2716ac606abe4fe.txt', '15_mp4-0_jpg.rf.f4bc7ddd112a3eca776a8cf90c3f7bb1.txt', '6_mp4-14_jpg.rf.a5099c3eeb2c707a2193c0efa467bb2a.txt', '10_mp4-25_jpg.rf.11c919cc683cc6a0d0a658be13483748.txt', '12_mp4-27_jpg.rf.2b272befa75f6ccd269223ccc84e5391.txt', '12_mp4-2_jpg.rf.079207e8096200ec6c611a449898ad40.txt', '14_mp4-2_jpg.rf.2f13b98e9712d8b5bef0b7b419a376b2.txt']\n",
            "------------------------------\n",
            "In: /kaggle/input/top-view-vehicle-detection-image-dataset/Vehicle_Detection_Image_Dataset/valid/images\n",
            "Dirs: []\n",
            "Files: ['6_mp4-0_jpg.rf.9a055d040151678e04cb48a8bde76f55.jpg', '12_mp4-10_jpg.rf.4bb699a2ec90e19cb4680ee239ae579c.jpg', '13_mp4-21_jpg.rf.384d3e564126403c9eeb3ad9deebf3a6.jpg', '14_mp4-0_jpg.rf.a9de046366e99b1b12a43c93614e1c60.jpg', '13_mp4-5_jpg.rf.8c55dff632bf3a3a35da021c5bd43091.jpg', '7_mp4-6_jpg.rf.3f9214d14313fa7dd572e7739bbe7398.jpg', '7_mp4-5_jpg.rf.4fbccc6bf11dc163e1ff276014a55561.jpg', '14_mp4-5_jpg.rf.56b529ccef99d8c81d68610e5a5e3929.jpg', '2_mp4-17_jpg.rf.2948c849931a8eff6c6641d24c1cfc8f.jpg', '12_mp4-24_jpg.rf.b5c9acb867e41055973828d5c43ed57e.jpg', '4_mp4-7_jpg.rf.439bc6176789cd7ca6bd686e23fc5ddf.jpg', '1_mp4-0_jpg.rf.71f17d5bdbcac3f9939ae34558b63288.jpg', '8_mp4-19_jpg.rf.5a133390424449e110bab4a90be94355.jpg', '12_mp4-18_jpg.rf.3a9772dc3c051396fd79732651cb66a3.jpg', '6_mp4-24_jpg.rf.b11ebad90583e724f447a295f04e9bf0.jpg', '14_mp4-2_jpg.rf.2f13b98e9712d8b5bef0b7b419a376b2.jpg', '6_mp4-1_jpg.rf.a30955a1b5b2a8db39354221db4f5b5f.jpg', 'test2_mp4-21_jpg.rf.bbb3ba4e4b69e5a12822300829bf75f0.jpg', '11_mp4-24_jpg.rf.49cf501f701c9bba3f940e2c9530d258.jpg', '2_mp4-5_jpg.rf.bb490ff3835ac898dedea95c973038f5.jpg', '6_mp4-14_jpg.rf.a5099c3eeb2c707a2193c0efa467bb2a.jpg', '10_mp4-39_jpg.rf.af70092b5f2277f16d2703a4d59c3313.jpg', '8_mp4-39_jpg.rf.bf01d183fca62e3316a0e4b31bfdf0da.jpg', '3_mp4-14_jpg.rf.6597c5732e0d554f1f07edb59abb4f8b.jpg', 'test2_mp4-8_jpg.rf.c10dd559d44a868fd6f6877fd734815a.jpg', '12_mp4-27_jpg.rf.2b272befa75f6ccd269223ccc84e5391.jpg', '3_mp4-2_jpg.rf.fb3ec30812baf2bbaca8718878601bde.jpg', 'test2_mp4-16_jpg.rf.585413166ce3fb74dc3e975edc009020.jpg', 'test3_mp4-5_jpg.rf.9750bf1cd88f2dce07edd907b7dc61f4.jpg', '5_mp4-29_jpg.rf.de506ae3402dafeffb1e6427af894871.jpg', '11_mp4-15_jpg.rf.b1bdb8b4864b5bed3c78f1a70e2dc011.jpg', '5_mp4-21_jpg.rf.e1f8c70bc4d3aee7e30f029aa44fd7a0.jpg', '5_mp4-27_jpg.rf.30a8975089fb66bc245019de9d868801.jpg', '10_mp4-0_jpg.rf.08b3bd34bbb73fb80c2d662c34474a98.jpg', '8_mp4-6_jpg.rf.9eddb296d3861c6af62c2d2c3ca30fb2.jpg', '7_mp4-11_jpg.rf.02a513fa7473144494b7a53fc14b6560.jpg', '7_mp4-24_jpg.rf.ed2484fe45c32f27443cccd8bbf99361.jpg', '4_mp4-8_jpg.rf.1d199d41f6c3738763c192883ad1a5b4.jpg', '8_mp4-14_jpg.rf.e15e22de0316fce6d319640eae7a04c3.jpg', '10_mp4-46_jpg.rf.6f582e01a1a77c50f2716ac606abe4fe.jpg', '2_mp4-10_jpg.rf.97b46cb44bcae5057b47db4ebbbe9305.jpg', 'test3_mp4-8_jpg.rf.8223a2cf9be640b80ee97b8c3e46d8c3.jpg', '6_mp4-31_jpg.rf.c786274ab129629ca618e454b4146f11.jpg', '11_mp4-28_jpg.rf.afaa0527199e4ac7b9564b9552575d33.jpg', '11_mp4-7_jpg.rf.c29830bf45870c97e8667ce13c0994a9.jpg', '11_mp4-2_jpg.rf.4297efcf4f8f508d37d3310e30dc2b96.jpg', '15_mp4-10_jpg.rf.36bd6816aa11df00d569dd41116d9322.jpg', 'test_mp4-2_jpg.rf.7aa04dc29802950b7aa81fd4f5cc5d7c.jpg', '6_mp4-10_jpg.rf.4e74eb10d5dc733c083cdf4f227386ab.jpg', '10_mp4-35_jpg.rf.5de759e599ee930d33ec127e04347f97.jpg', '10_mp4-23_jpg.rf.13b084ba8417c6d0aaf5d4c35ddba6ac.jpg', '10_mp4-13_jpg.rf.aff71e875ee297d3086b715b7d6aaf26.jpg', '7_mp4-16_jpg.rf.4adf9f6fc7b5f6571fd1ef429cd79026.jpg', '16_mp4-1_jpg.rf.3493f4b7618e207609847857a20dbaff.jpg', '10_mp4-16_jpg.rf.b01cbf556a5a2c4154322deda0339880.jpg', '12_mp4-16_jpg.rf.0fcd57e7a8e7f4345ede8d494fbc75be.jpg', '15_mp4-6_jpg.rf.f8ad77cac61af6ee1b551af09789bc24.jpg', '8_mp4-45_jpg.rf.459ab8691a64f40ebf3a5ab525476aca.jpg', '5_mp4-9_jpg.rf.7935a441141908423532c47b7ac06cde.jpg', '5_mp4-26_jpg.rf.61d8ef7774c6c33aa7015c91dc91aa34.jpg', '2_mp4-22_jpg.rf.7e53e9a475efa9889dc0a74380255e9b.jpg', 'test2_mp4-19_jpg.rf.a3723816acc8bacb1350cc05fb78b924.jpg', 'test_mp4-13_jpg.rf.98cd77f75c4492f8f103aaf4ce2ca8f8.jpg', '15_mp4-0_jpg.rf.f4bc7ddd112a3eca776a8cf90c3f7bb1.jpg', '3_mp4-8_jpg.rf.4a784fedfdd385032614371ea5cb78fa.jpg', '6_mp4-29_jpg.rf.e73ca25e92e590b325006f010ad4e319.jpg', '5_mp4-5_jpg.rf.47c7656c79a6cfa7dbabfcaaeef94dea.jpg', '10_mp4-9_jpg.rf.72a35ba2f76343afc7a101e720dbbb81.jpg', '8_mp4-12_jpg.rf.dcbef9dfc2cf3b8eecf139c256caa179.jpg', 'test2_mp4-1_jpg.rf.695e12d07d9427f18d33d1e69827075f.jpg', 'test_mp4-15_jpg.rf.2e20880f4bc2ad6347a6a98e8f4ef849.jpg', '8_mp4-0_jpg.rf.3b2c1cfee1946594ca79d413e945d30a.jpg', '3_mp4-17_jpg.rf.fdfd6a4ddf7c5f516a940b2452857d67.jpg', '6_mp4-23_jpg.rf.1b0bacb47ce35aab7a6ddd69b6f7f334.jpg', '8_mp4-3_jpg.rf.05628975b0d5e011fe6ada765f915cd1.jpg', '14_mp4-10_jpg.rf.edf4723435ff483f7d55c474a60be14d.jpg', '2_mp4-1_jpg.rf.b52c12a365fbeb71e302f0505038959b.jpg', '14_mp4-15_jpg.rf.9640ab027504af3733b76827756764eb.jpg', '13_mp4-18_jpg.rf.4ad6c1d97b9a99efd21cbbf3f6da9d89.jpg', '14_mp4-24_jpg.rf.57d5fe50d543f58e3b1f761ee53e1aa8.jpg', '13_mp4-16_jpg.rf.dbcfa7de2863879d3000ca35d30610e9.jpg', 'test_mp4-10_jpg.rf.2ca4c14abaa5734493da3c35e2089f1c.jpg', '11_mp4-29_jpg.rf.f4e8f8309727d46eec20a7c469f54d9c.jpg', '4_mp4-1_jpg.rf.a1b873f83491736ca8bc5817761a2ec3.jpg', 'test3_mp4-4_jpg.rf.4117c2b721818a818f810d1ed547e1db.jpg', '10_mp4-31_jpg.rf.0daa09b648954e3a19824a49ad49876e.jpg', '12_mp4-2_jpg.rf.079207e8096200ec6c611a449898ad40.jpg', '13_mp4-9_jpg.rf.e26b4d37b22952e51e74e45fccb725c4.jpg', '8_mp4-22_jpg.rf.cc0d05137c80f5ef9057177e101b4e13.jpg', '10_mp4-25_jpg.rf.11c919cc683cc6a0d0a658be13483748.jpg']\n",
            "------------------------------\n",
            "In: /kaggle/input/top-view-vehicle-detection-image-dataset/Vehicle_Detection_Image_Dataset/train\n",
            "Dirs: ['labels', 'images']\n",
            "Files: []\n",
            "------------------------------\n",
            "In: /kaggle/input/top-view-vehicle-detection-image-dataset/Vehicle_Detection_Image_Dataset/train/labels\n",
            "Dirs: []\n",
            "Files: ['12_mp4-0_jpg.rf.13768a6bc89343d1f3a551945edea8ed.txt', '5_mp4-7_jpg.rf.8624d28bb3c29c80ec9283fdab5f19e8.txt', '11_mp4-10_jpg.rf.4700be742c709d3ebbac02e5f323cd12.txt', '2_mp4-8_jpg.rf.25c000e17a6f603a228386f9780e87a1.txt', '10_mp4-41_jpg.rf.4dee909f4a5f9be3f96de326a0d087e0.txt', '5_mp4-14_jpg.rf.00ee0a5c6158d66128aded7ba6c5e3c2.txt', 'test2_mp4-4_jpg.rf.a20b7a6e45f87da6fb6a63f76ec8130d.txt', 'test_mp4-4_jpg.rf.c92ba4917bf77f870bd07eeac79fdfb1.txt', '15_mp4-8_jpg.rf.c12aa7b103f55effa7a163a438e2e007.txt', '10_mp4-28_jpg.rf.725015477afc0e20fa01fee42ed7f6d9.txt', '13_mp4-6_jpg.rf.684f923a639ff5c8659bf85ad06ffc0e.txt', '5_mp4-17_jpg.rf.2e3ed9c1f0377b9c96f90eca8f4bdb89.txt', '6_mp4-3_jpg.rf.effcef40b551938436308ac1eef276bc.txt', '6_mp4-2_jpg.rf.93839f8a7f08d9dbdc08e77656f9ab9d.txt', '4_mp4-9_jpg.rf.e3a0948ae1c9e253e1926ed1a7f921e7.txt', '13_mp4-13_jpg.rf.8a0240ede51d6ffd963d0cf7cf26eb3a.txt', '5_mp4-20_jpg.rf.6c674e43bf5be6b4071c65291ac2b13c.txt', 'test2_mp4-20_jpg.rf.5f56c19d629aec9af8972f03b80764b4.txt', '2_mp4-8_jpg.rf.8912d23559a90d712ef2cacace5a3370.txt', '14_mp4-12_jpg.rf.e120108ef5fe771c4687aac68f87d470.txt', '3_mp4-3_jpg.rf.4cd6ebd1fb8dd1a97e3320f0d63d02bb.txt', '1_mp4-8_jpg.rf.2641280818f70f41aff18978dc2b189e.txt', '13_mp4-0_jpg.rf.620b394144dc86057a91d894c3d9fc3f.txt', 'test3_mp4-15_jpg.rf.1fac3e2c2d15c1be7beeac54f1257278.txt', '10_mp4-42_jpg.rf.f9b68b0eda6ceec8b0447dfbe184600d.txt', '12_mp4-9_jpg.rf.6ef67b89a1db64a28d72b3fc76166f18.txt', '10_mp4-32_jpg.rf.76db89bfdfeb0e355e9ad3c05ee8ac8e.txt', 'test_mp4-11_jpg.rf.264e26445af0bb22012f9f6ed5b4026b.txt', '2_mp4-7_jpg.rf.ecf31a5f0a3ade904c24d0fef1a18506.txt', 'test3_mp4-9_jpg.rf.ad91cc5f0adc2a68f4e733329c9d06ea.txt', '13_mp4-2_jpg.rf.91937da497cdf5495ee3fd2d4b8ab29c.txt', '4_mp4-5_jpg.rf.2b8ca422636e50569ca285a2cc484759.txt', '6_mp4-32_jpg.rf.2fbf5f14e51e9a234d170de78381cfbb.txt', '10_mp4-40_jpg.rf.c87ea31b3ee340155d9d5a389565aa13.txt', '8_mp4-7_jpg.rf.fab6475c4142d7bce5b9b4951adc03dc.txt', '8_mp4-33_jpg.rf.beb62cf3f5093f147e9156aa8144c8a0.txt', '5_mp4-4_jpg.rf.a9d56eba757aa96a9e1e7d70518133db.txt', '6_mp4-28_jpg.rf.9a9bcb32780aa931718551884825de05.txt', '2_mp4-4_jpg.rf.3f43e19049f651b66e3f965067ffcc72.txt', '12_mp4-1_jpg.rf.0244caebff9c38f077c73832a1b99def.txt', '6_mp4-19_jpg.rf.6ae16e974bff5573d4908ba74de6bad7.txt', '10_mp4-40_jpg.rf.d16cc80521ce7580afbf20eda5adf6d3.txt', '5_mp4-2_jpg.rf.80ba24bc2c575533fd8859a640c4e6b7.txt', '1_mp4-5_jpg.rf.402cab70fefdc188c812bbc47a4ed5fd.txt', '6_mp4-37_jpg.rf.5cc75f111b203c26d41614719c2ee50e.txt', '10_mp4-48_jpg.rf.b136b51c70d8645bcb71e77a647c9c23.txt', '5_mp4-8_jpg.rf.a0e1a9d3a8cb937318b64d250da13d21.txt', '10_mp4-43_jpg.rf.4bcb6ffca030d883c8c959a810a21398.txt', '5_mp4-28_jpg.rf.f6db4c3a56b99c14c71e544330e1ce9c.txt', '12_mp4-26_jpg.rf.43acbba3d5b062f823f545eca92636fd.txt', '2_mp4-12_jpg.rf.9e1176035b38e59879d9744521174cc9.txt', '14_mp4-4_jpg.rf.9ffe523f7e7e8e84bade81014fb428f3.txt', '6_mp4-15_jpg.rf.8004ad58a025777c63c98e28c7f97a40.txt', '10_mp4-5_jpg.rf.4658c3b313fae76b64c72163de6ffa3a.txt', '14_mp4-13_jpg.rf.a72cc7ec3a11f2749ce52f59d91bb8e2.txt', '14_mp4-29_jpg.rf.34ff90a6933dde0cddf6f6a4a92e5c8e.txt', '5_mp4-0_jpg.rf.2696be0f494f104bce56016175f438dc.txt', '8_mp4-33_jpg.rf.f43198a40d00d999acb21250bb837256.txt', '6_mp4-6_jpg.rf.5baaaf56d93028a9c01bc7f1696d033e.txt', '10_mp4-26_jpg.rf.9f4ddce5c1bb0ee02fd1c1f6a9220fcc.txt', '2_mp4-11_jpg.rf.730138939319fc38b0f80ebc71dfee4b.txt', '8_mp4-7_jpg.rf.88df9b56e4c2322a9160241b63872bfd.txt', '3_mp4-6_jpg.rf.5b6942de895ed79a12ff6a65888e7f17.txt', '10_mp4-8_jpg.rf.d87434ea22954af69d2692f24484a62f.txt', 'test_mp4-16_jpg.rf.b12a186127cb94dc8bc944a0ef428251.txt', '6_mp4-13_jpg.rf.a065f14e787f2be7a3d9f2149256f7ed.txt', '11_mp4-9_jpg.rf.da40e3a3763ab632f2546a683a2cf63a.txt', '7_mp4-8_jpg.rf.756a6c6425b6de09a0ef29517c7b6c1f.txt', '10_mp4-36_jpg.rf.28a8e51eebbdaefee515582821f1c033.txt', '8_mp4-28_jpg.rf.e5c6953d26633f73c485d2c5a389a565.txt', '10_mp4-29_jpg.rf.11ac820cd8ab2ff5beac952edd73282b.txt', '15_mp4-12_jpg.rf.5bb8ac4e9d13f6e2e0ccd39318f4a2f2.txt', '12_mp4-23_jpg.rf.2d867a2c21f60ad6738206710c8edf1b.txt', '6_mp4-12_jpg.rf.e719ef93a518a13b4653899c443a0479.txt', '14_mp4-28_jpg.rf.4344efaadc635c8dd42d8f9186f1ad71.txt', '13_mp4-7_jpg.rf.dd0f0e260a201d7e60b1df8705877838.txt', 'test2_mp4-6_jpg.rf.7854ea55c88c26a6a3b349e31fcb9964.txt', '2_mp4-16_jpg.rf.4b04bbdd5fae04f213e3c91e9c4b1b7d.txt', '10_mp4-38_jpg.rf.55f0590d14f6c99d48c77d167c621314.txt', '1_mp4-3_jpg.rf.f92d5d0c2629b03306c8fa91917f3ebf.txt', 'test2_mp4-12_jpg.rf.dfcc35ec0d85720ffdc2d3fa5ccbc6f1.txt', '12_mp4-8_jpg.rf.239f33195af4df09618f08d958997ef1.txt', '1_mp4-5_jpg.rf.11d181be65dc49ad1857dd37a817816b.txt', '14_mp4-25_jpg.rf.2a6c6c461210b5066240288447ce7606.txt', 'test2_mp4-18_jpg.rf.232eb0c62531b8d80bc603479037dd19.txt', '2_mp4-23_jpg.rf.d6c70bd918c7036dc4822fed74817bad.txt', '11_mp4-0_jpg.rf.47b087257df01a5096eb2ac85f06b278.txt', '10_mp4-44_jpg.rf.57a54adb829943b4a4e208c0b2176b53.txt', '13_mp4-1_jpg.rf.e32506b2b1227a71abf30d5669e62a9a.txt', '10_mp4-2_jpg.rf.82a65b2ef22f38a52ab4a45b6734bd7f.txt', 'test2_mp4-14_jpg.rf.9b21d06644b165842c77f0c5ace1af8c.txt', '6_mp4-35_jpg.rf.48307485007b75d42c317ef120f39758.txt', '8_mp4-2_jpg.rf.bce7192fe62613a748e7041b93e703bf.txt', '8_mp4-25_jpg.rf.17b87829fcab7614f59da979438029f5.txt', 'test3_mp4-12_jpg.rf.4d7c26225449831445c08fc842caeb48.txt', '10_mp4-26_jpg.rf.4a510cf9628a48a134aba5889a56a228.txt', '12_mp4-5_jpg.rf.598eb70537e759bb3ff0127826bad1c1.txt', '14_mp4-8_jpg.rf.6a5cd35540382c3fbe00632805ba7a18.txt', '10_mp4-21_jpg.rf.fdf9ca13094603f25c5323c71537b39c.txt', '7_mp4-13_jpg.rf.a448a1afa3608c0c65f76fbbc6f21389.txt', '7_mp4-1_jpg.rf.0aca74d617d7e49e8ce1b361f55bd39a.txt', '10_mp4-10_jpg.rf.b87509668caff369c5501325477e6d9a.txt', '12_mp4-21_jpg.rf.9d2986bb8a605563c3006bae400e21ff.txt', '2_mp4-21_jpg.rf.e775b93681848cb2a2a0f2e0101ea67c.txt', '13_mp4-14_jpg.rf.347d62482862a92cbfa009ce06e6ca82.txt', '4_mp4-3_jpg.rf.24133af9a76ae8e25d2271059cd57edd.txt', 'test3_mp4-7_jpg.rf.4770e23f8843725328596c4ae7e2ee40.txt', '11_mp4-3_jpg.rf.2b5cba201b56df739b95e501427ac5f1.txt', '4_mp4-6_jpg.rf.a1790a3342455a63f510d31ed789421d.txt', '11_mp4-14_jpg.rf.0d47483007a70d056747d619748e0e0a.txt', '11_mp4-22_jpg.rf.ad54dce64386ae27a580eaba4148fde4.txt', '1_mp4-11_jpg.rf.a41edc350c5d4dbdd6c00f77c9245233.txt', '13_mp4-8_jpg.rf.4b59181b0d71d00ba84f2925c6ed2413.txt', '8_mp4-31_jpg.rf.28c8daf49c5008a60e512341cfb79352.txt', '6_mp4-27_jpg.rf.8bf4487b15fa86e85a5bfe527fbca8de.txt', '2_mp4-18_jpg.rf.5a293877d4a4d20a8bfa9cdf7e062acd.txt', '15_mp4-11_jpg.rf.d9560da9663dba2cc2e1c6cc0937ddab.txt', '3_mp4-6_jpg.rf.b9cdd6989470f53d1e5e229abfaa82e1.txt', 'test3_mp4-3_jpg.rf.91ab3bd359dbc8cfe7331b899161be52.txt', '8_mp4-9_jpg.rf.96d62616cba7f1351137c379b83bbc6c.txt', '14_mp4-17_jpg.rf.11aa87d1f1b9f3d2b7e97091cf100588.txt', '8_mp4-11_jpg.rf.b6939bdda9abe332ee65b4672626d24b.txt', '10_mp4-22_jpg.rf.9fab549aabb1a27af45313dcf1110285.txt', '6_mp4-38_jpg.rf.d9fa042ed2767de9a03b10c90794a33b.txt', '14_mp4-16_jpg.rf.96743b16582cfefbb336e23cfc0ad137.txt', '10_mp4-47_jpg.rf.c9acbc3f5131327b281f3c4efd496455.txt', '6_mp4-17_jpg.rf.d95b42ea41270dad58df2fac3234fc4a.txt', '5_mp4-3_jpg.rf.ceca85e307966190ef2dc0444b462490.txt', '3_mp4-15_jpg.rf.ec6dc259617ea230e7f887b2bf13f067.txt', '11_mp4-27_jpg.rf.b1a5c9056348ce08ccb6bdadde8911a9.txt', '6_mp4-20_jpg.rf.fddf8750c1c1eaa6e43377e6e5028576.txt', '6_mp4-18_jpg.rf.a7d2bb35b6d0131ff01083f64244f27c.txt', '5_mp4-16_jpg.rf.35a8d10e978328cd1ab87e911169b0f9.txt', '11_mp4-23_jpg.rf.ccaf85702e19a073ba49b4814d15e282.txt', '15_mp4-1_jpg.rf.d9e25b0686dad85b97ebd560d917fb67.txt', '8_mp4-35_jpg.rf.438a197399d1df7f8ab56f81ff845475.txt', '7_mp4-12_jpg.rf.28303fed2256dac5798dbf0f4f23145a.txt', '10_mp4-34_jpg.rf.24149d8b7f6202bae6717110780e5c95.txt', '6_mp4-33_jpg.rf.e6259974f6ff91def84d687db31b44d9.txt', '6_mp4-3_jpg.rf.1f86559aebcf2d5c702f5b12c02f121c.txt', '2_mp4-3_jpg.rf.9df05747484088464191b55d5ff379f4.txt', 'test3_mp4-1_jpg.rf.016315de09e8befd7cb08f04805bbe98.txt', '7_mp4-18_jpg.rf.375c66297d68d427418697d3778553fa.txt', '14_mp4-26_jpg.rf.fae0f0e4cbc5c3563680182e8dae8483.txt', '3_mp4-23_jpg.rf.1795ebf65f44c643262e9abc56d89104.txt', '5_mp4-24_jpg.rf.5da4f014b207261b073ddf18806f58d6.txt', '10_mp4-6_jpg.rf.1ccc4d77ec0dabdcecdce2ed942c886b.txt', '11_mp4-25_jpg.rf.ef41c1bc4522e38ce1816e5884b1761c.txt', 'test3_mp4-2_jpg.rf.0eb8b9c1b003d3e856e0e3d959904d0d.txt', '13_mp4-19_jpg.rf.545677168812e2d50c6902861373205c.txt', 'test2_mp4-2_jpg.rf.98ade04a432ddb5023dbcac0ae2a155c.txt', '10_mp4-45_jpg.rf.5aaed7f7db29ad6c15a4b18a7ecc0b7e.txt', '11_mp4-18_jpg.rf.a95aa1242272f730fde1eff19f24fbc0.txt', '3_mp4-7_jpg.rf.6a4f5863e2cbb994ec424cf728a19a6d.txt', '10_mp4-38_jpg.rf.76cdb330ed3dde7d0327c472dc71703f.txt', '1_mp4-6_jpg.rf.23b382bca47939ebcf23f544c0f33e42.txt', '14_mp4-20_jpg.rf.75c4d223b3e358d3a586fc0247467647.txt', 'test_mp4-6_jpg.rf.ab38a9d333977a3fcab122470c9e0f1e.txt', '12_mp4-5_jpg.rf.6f4501c66d7db589329e2b0640a38263.txt', '14_mp4-26_jpg.rf.eded278a2f01b39511564084ee73fa19.txt', '6_mp4-34_jpg.rf.aa50d3efc81bf097dea5f5253c154aaf.txt', 'test_mp4-0_jpg.rf.232bf375741c2f099f7c5574920f52e1.txt', '11_mp4-5_jpg.rf.0f649cf86a28d3c1bf566457bd741fd2.txt', 'test2_mp4-7_jpg.rf.e6fd259878736bb130789076b260d0c5.txt', '2_mp4-9_jpg.rf.a577fbe347e44a73a27f71bef2280343.txt', '7_mp4-10_jpg.rf.5a004a3e81fecf70932025e0a55e4c97.txt', '14_mp4-3_jpg.rf.5531b7d160afcc77a61e2a2ca57a73d2.txt', '15_mp4-4_jpg.rf.42ed2a92f886524020cf13233fab7d2b.txt', '10_mp4-21_jpg.rf.f4a71342a87fe4b057dfdfd961ea7f56.txt', 'test3_mp4-0_jpg.rf.dc0ac3591666d7ed5e8fefa5b41836ff.txt', '6_mp4-39_jpg.rf.9d02f67923967da4bd61d641a7b73bc8.txt', '11_mp4-12_jpg.rf.61c94dbcac908e69c10575351f04fda4.txt', '5_mp4-18_jpg.rf.a100a7aa041746e8df5dbfa2898a2e57.txt', '10_mp4-18_jpg.rf.4319bfbb7bc9b9f40a62a13cacc1e71c.txt', '8_mp4-17_jpg.rf.02e3d8a618f9ac724fa0c2f286c728b2.txt', '12_mp4-15_jpg.rf.02b161cef4b0b0f8c2e0d76a0298c959.txt', '14_mp4-23_jpg.rf.3323026776a47d27e926c90a938ada33.txt', '7_mp4-7_jpg.rf.56e4e81d0c272cf24f32de07ea200ae1.txt', '6_mp4-8_jpg.rf.4c673a07eb2036f47402d162d559c7d1.txt', '10_mp4-30_jpg.rf.73eafea5e7f73f941543d3dcbe68afe4.txt', '1_mp4-6_jpg.rf.b1942799e938382319ad0a67b09f5737.txt', '8_mp4-34_jpg.rf.5628b69630116859633feaa1b4062547.txt', '3_mp4-0_jpg.rf.486762d73755e270c07dd8cfbeb78c05.txt', '2_mp4-23_jpg.rf.9630295f3c98ec2ad851a859992d2527.txt', '11_mp4-8_jpg.rf.76097ce0ac4ef6c0a569cae4a890a860.txt', '6_mp4-30_jpg.rf.b58c644f3265885bafe83b36369026eb.txt', '14_mp4-18_jpg.rf.de728b4158742cd5145f798bb8f28f1f.txt', '10_mp4-1_jpg.rf.95d7900831e7287cafe8f30b7ff9dcb6.txt', '1_mp4-10_jpg.rf.efbf093676a1b487d1e89066689cb42b.txt', 'test_mp4-5_jpg.rf.26235610c8dea9da5c268fdccab4708d.txt', '12_mp4-7_jpg.rf.3772fccf9706393c58387ed585727446.txt', '13_mp4-3_jpg.rf.e2c753716f39f02eb40f213a7b15a6c7.txt', '10_mp4-30_jpg.rf.b925fd8ed9bd23c8011292c6eda3e69b.txt', '8_mp4-15_jpg.rf.dfb0a15fa6d3cd31bc959c8108103644.txt', '12_mp4-7_jpg.rf.284c9be103a7a8ce600e4b551456f733.txt', '11_mp4-14_jpg.rf.a6c45353302e18201614a5b3f5a375a9.txt', '1_mp4-7_jpg.rf.ac2a271a5a65215847db83795e848aeb.txt', '1_mp4-1_jpg.rf.9115af93de4cbf89e48a9c33dfe996c8.txt', '6_mp4-25_jpg.rf.e8c0b76723f677598e6863520ec02e2e.txt', '11_mp4-1_jpg.rf.de00bc564859a4ccd6d2949c6db07dec.txt', '5_mp4-8_jpg.rf.71c95cfe2fd0833c1d883674c9f64dc0.txt', 'test3_mp4-2_jpg.rf.427a25cd37cd34579b0549254b76f8ed.txt', 'test2_mp4-7_jpg.rf.16ac55ef0554d1232db8749f7ed0f8be.txt', '12_mp4-25_jpg.rf.7d566fdc0a2fc6724202d8749dc7e42f.txt', '10_mp4-3_jpg.rf.5a7c2c046737a3469d5e74a2c7e06d6e.txt', '14_mp4-8_jpg.rf.7d2094c86c3594bbf5da59e3777ee929.txt', '7_mp4-0_jpg.rf.caff8c9896c6f6985f2dd82b83657e4e.txt', '11_mp4-27_jpg.rf.b50ed53071de55bd4882d8401cd4764d.txt', 'test_mp4-17_jpg.rf.8eccce93a3d7b586f8a75e1f4d7f5727.txt', '8_mp4-36_jpg.rf.4ecae1c1db8d348de07e4f6e9aeff577.txt', 'test2_mp4-15_jpg.rf.908f4888d0fa2c7bde31ba6d17768cf8.txt', 'test2_mp4-13_jpg.rf.a107982b284a27b0e03cf09e254f89d2.txt', 'test2_mp4-9_jpg.rf.efc7c8ae5059cc27b41a1f38decc1991.txt', '12_mp4-22_jpg.rf.3cc9c3957581c0df541bcf44be601d7e.txt', '5_mp4-10_jpg.rf.654cb269de522379187cee9e5c17a8b4.txt', '10_mp4-2_jpg.rf.0256336d7e7d945db5ddf335f3097b71.txt', '10_mp4-37_jpg.rf.dd8108fe58b63d6e952658e2dec667a1.txt', '14_mp4-11_jpg.rf.eb7a2f3c3bcf58091300f5af498e383e.txt', '8_mp4-44_jpg.rf.963a709ba0be12904630b0bb1b8d47b0.txt', 'test2_mp4-3_jpg.rf.bd6588768c0b73ff537f89246693dda0.txt', '8_mp4-24_jpg.rf.a3f21fe2d8de6cf32b6e764621a472a9.txt', '6_mp4-37_jpg.rf.f36158435095f18be51dac0b9082f9c1.txt', '8_mp4-23_jpg.rf.b925a3e8ca3197928e98d4a53af12f0d.txt', '14_mp4-27_jpg.rf.51ccb25c5a85fe582a56186a9a605ecc.txt', '5_mp4-20_jpg.rf.629369c91009fb19267aea9b620cf440.txt', '6_mp4-21_jpg.rf.6c5b9419e6a48a636766242c33aaa8ae.txt', 'test2_mp4-5_jpg.rf.4a09fadc41431ce8f47ec493e6607738.txt', '11_mp4-30_jpg.rf.ebc32f17681ef96ef87ad35a7df4f8ce.txt', '14_mp4-7_jpg.rf.014bc6f8eb5e765634814571e4e0ebd6.txt', '13_mp4-3_jpg.rf.c4e1d23f8cb1d10f46bd93ba7935b850.txt', '14_mp4-13_jpg.rf.2b700aacf776452575176f9bcd39be5a.txt', '5_mp4-23_jpg.rf.b5a2feb8c6c3748bcfeb81e8e5e50044.txt', '5_mp4-11_jpg.rf.91ad9a7d8c9f22124eedb3614b25d244.txt', '15_mp4-3_jpg.rf.571ef78f735494ec58a6dc47ca2b24c1.txt', '2_mp4-2_jpg.rf.21f08e5a11fdf6bc50e4e7eb17f02a4f.txt', '4_mp4-6_jpg.rf.e6aea79b034a43ab502918189dff7d18.txt', 'test_mp4-8_jpg.rf.e6917f65ee3321d6598ed177e741d6cf.txt', '14_mp4-27_jpg.rf.df581ec733941f4a8e951f4c03965299.txt', '10_mp4-27_jpg.rf.130965de5fdc30b45137233ee4f810f5.txt', '8_mp4-2_jpg.rf.8462155edecc784ea2e3184fa218afb7.txt', '12_mp4-3_jpg.rf.67c910ead2f715a757a80458d7590828.txt', '1_mp4-1_jpg.rf.28673bb16c8118ae1ea27e334cc38be5.txt', '10_mp4-4_jpg.rf.e249d623a8a9739d0c00dcbb592235d2.txt', '12_mp4-20_jpg.rf.e33c19dad2e03c34047a7983a14e2339.txt', '12_mp4-6_jpg.rf.bfc1143e304de7f4b5b76766fcf53927.txt', '11_mp4-21_jpg.rf.92f54914eeac90df65bd9276453d6b5a.txt', '11_mp4-20_jpg.rf.07891e59b6d3fd6ff19d61eac9cdc89c.txt', 'test3_mp4-14_jpg.rf.4d418ce9fe701a7bfb020df31ac94f69.txt', '6_mp4-16_jpg.rf.ff6c214cc9d679ddbf98a384e6989b23.txt', '14_mp4-22_jpg.rf.864085c1afac497201c5163fee862d09.txt', '3_mp4-7_jpg.rf.a244ca9fac9c14239bd81b11985de853.txt', '15_mp4-7_jpg.rf.87ac7da6f082f9c7f77dc199b3d8fd6c.txt', '8_mp4-13_jpg.rf.600c766124a8140be6389efb9eec6f93.txt', '15_mp4-2_jpg.rf.11c7e3e44e25d1b36106c9992b02de9c.txt', '2_mp4-7_jpg.rf.3631fb077f4c0843c63578b08a8c5260.txt', 'test_mp4-4_jpg.rf.a4ab418c6cdcc81f49484a8aa098b691.txt', '2_mp4-21_jpg.rf.f9233cbbb714d35d55527306c2896ac6.txt', '11_mp4-17_jpg.rf.33e375d128d7ce910854936b2175e4c6.txt', '2_mp4-6_jpg.rf.66388163cccfee91e074cd4fcf94b370.txt', '11_mp4-0_jpg.rf.44c373b7b04605f8f7d1a8228baf9938.txt', '10_mp4-47_jpg.rf.e9259514eb111f8a8a33db5bea461edd.txt', '8_mp4-41_jpg.rf.c935e1a4400371fbed4509e8a77e565a.txt', '15_mp4-4_jpg.rf.798599fc657377631280430897f2b095.txt', '12_mp4-6_jpg.rf.2b36677c0bedee332f1ff6b5eeeeb5cf.txt', '12_mp4-4_jpg.rf.3e5daf1173313cc2c204b1384d04fee8.txt', '8_mp4-27_jpg.rf.47cd92661c6e4878374fc41c0f01882a.txt', '13_mp4-2_jpg.rf.a5367935c024920330f69e3be7d73d17.txt', '11_mp4-10_jpg.rf.ba5d481d1186cbc496fd795a04c802ae.txt', '2_mp4-15_jpg.rf.b3d315d43402ab866a289cfef78dc139.txt', '10_mp4-14_jpg.rf.0f71b11f7cbb40b498e9f8032bf9a51c.txt', '3_mp4-9_jpg.rf.cd556107b22fc2e0963969ccb79b3d9d.txt', '7_mp4-9_jpg.rf.a10a055515d62a73d4c5e357164e1328.txt', '10_mp4-33_jpg.rf.add6b975cf392d2aac79161bfc3de4a5.txt', '10_mp4-15_jpg.rf.54247e977cdc30cf8b27ca8fb7b87871.txt', '14_mp4-6_jpg.rf.3260caea303ecfec1d3677f1fc50ad5d.txt', '8_mp4-30_jpg.rf.385021806c9c0787d4c427c703a2937e.txt', '13_mp4-4_jpg.rf.ba0414f9ee92cf5450650e6ce58a28b1.txt', 'test2_mp4-9_jpg.rf.2b090dabb9ec5f73bf37807b3500b3da.txt', '11_mp4-25_jpg.rf.6edda502e0039d2148e4727277d62ee5.txt', '10_mp4-43_jpg.rf.ff8ca37b90dd5b5f5fcd2f584a14ea69.txt', '6_mp4-26_jpg.rf.feda78d82b8fd572031f985d42e89285.txt', '11_mp4-11_jpg.rf.fb647644b7b36fa548c601bb315f68a3.txt', '2_mp4-2_jpg.rf.87fc5764ed2380b33a29eec7da3416b6.txt', '13_mp4-15_jpg.rf.e756e6fcb5e18cee67ea86135c09ef98.txt', '5_mp4-13_jpg.rf.166ca64d0df04d97b7bfef546859ecb6.txt', '6_mp4-4_jpg.rf.baf02d172b17a1b2962d01a92bff3569.txt', 'test2_mp4-18_jpg.rf.dbc26dafb7497860bdd9af9f6dd86d97.txt', '4_mp4-10_jpg.rf.fba9a7a37f2fe9391b5ec792264618d7.txt', '6_mp4-25_jpg.rf.cbd2269ce037b1614b20df5c2e91cfed.txt', '7_mp4-12_jpg.rf.fc3f776e4a98caedafc6711fac3a8b0a.txt', '14_mp4-14_jpg.rf.0dd244d20329d1cd7cb6853603cb6aa1.txt', '2_mp4-18_jpg.rf.c0f24f4c0367d04d9f71eb53518c84d5.txt', '8_mp4-16_jpg.rf.93878bb2002cf485ccd73648a7fbab4b.txt', 'test_mp4-19_jpg.rf.f7d961917a8ad26e4907e193353ae4aa.txt', '5_mp4-17_jpg.rf.11452974cce0afd48110e3f0abe6bae6.txt', '5_mp4-15_jpg.rf.fa9fbe793e626eb4715d80ee7e9cc706.txt', 'test_mp4-6_jpg.rf.6980438ce0143b3d0874bf68e4bb00c5.txt', '14_mp4-4_jpg.rf.9d07f2273b0b6fc023e7e16bc4133c90.txt', '3_mp4-21_jpg.rf.6ac69fa7c83cd69137cb41ff9bf65af1.txt', '11_mp4-16_jpg.rf.574de6263b4b33aa750d85b243d4671c.txt', '8_mp4-20_jpg.rf.fb2946039ab2fa5483033e878241e22a.txt', 'test3_mp4-10_jpg.rf.11bdfe9aaa5fd635b6cdf7e40c75d018.txt', '8_mp4-38_jpg.rf.2ae3646242c4de70a9aae9f4ac23ef4a.txt', '13_mp4-17_jpg.rf.603c58983348a69f340496081c7c175d.txt', '6_mp4-7_jpg.rf.923f085fa5cf5cd2b4a698435176750d.txt', '13_mp4-19_jpg.rf.ccad6f714b217391e28055f473cdcfc3.txt', 'test2_mp4-11_jpg.rf.87755ad3684d15a90b06f8a10c54fabd.txt', '8_mp4-4_jpg.rf.939a7fd223a96cfe6ea6ce6b09be5767.txt', '5_mp4-7_jpg.rf.74a63b0a095dfe8e5bb8d4625219ff81.txt', '10_mp4-20_jpg.rf.aa955ef0c5dbb1974c6c0b13628f93b2.txt', '10_mp4-10_jpg.rf.ba480b311472ef957256801c3766128a.txt', '10_mp4-49_jpg.rf.6a330c2d933c2b037c814d81eb37c9ad.txt', '6_mp4-2_jpg.rf.5ef025c25a4abd04c14dd3d9f5bd9886.txt', '12_mp4-19_jpg.rf.724f36e12cf0d5c0de056306b2d256d3.txt', '6_mp4-7_jpg.rf.436beb74d5ff663cd4a3169a6f142812.txt', '3_mp4-4_jpg.rf.8ae76ee52bb6649db63b3efb907adccf.txt', '5_mp4-3_jpg.rf.0068b368b2e2a2353106adb938e3f93a.txt', '8_mp4-8_jpg.rf.05084d10c64faf025640e64ad2c24b37.txt', '12_mp4-13_jpg.rf.d7bd35455febcf89e018f6ec85db3502.txt', '1_mp4-10_jpg.rf.7a30b632f34ed5187117135337e41faa.txt', '5_mp4-14_jpg.rf.28be876c6996527d359df0fe43306fc5.txt', '2_mp4-12_jpg.rf.08051924f664b1dc51e25fa408609527.txt', '6_mp4-6_jpg.rf.18ed9550b1a0eec93f1a395b19cb20d8.txt', '7_mp4-23_jpg.rf.61fd91ce7878a1a24e57300c10fe4407.txt', '7_mp4-3_jpg.rf.014252f661a11036b7b07f7dc46b4af8.txt', '6_mp4-22_jpg.rf.f7ac0d15e2d881abcfac5db4bcd85b93.txt', '13_mp4-10_jpg.rf.907ddce360dab033fc8af7728a195442.txt', 'test_mp4-14_jpg.rf.876c4d185778e2911d9694222fe005e6.txt', '8_mp4-21_jpg.rf.a7f38083157e21d4172d02da10ec8a42.txt', '5_mp4-22_jpg.rf.aaa14b7c9dc5def67313b616114423dc.txt', '15_mp4-1_jpg.rf.4462bddda8bb6bd7cef780afdbd42a90.txt', 'test3_mp4-6_jpg.rf.b09cff430b44a8e71094c1eed686d068.txt', '6_mp4-11_jpg.rf.daf2e6df3b3bc1aae86610a58bf141ba.txt', '2_mp4-4_jpg.rf.39bbac020ae57a7c56403988b5d68b76.txt', '11_mp4-26_jpg.rf.5cfd0a1600babb3cfe874e81aad8ffff.txt', '7_mp4-17_jpg.rf.d675009ac11cc267c287c42e0f73a02d.txt', '6_mp4-5_jpg.rf.01fa21980affb5eef495aeda9ea74e92.txt', '10_mp4-17_jpg.rf.f29adb6ba74c526e626284888f787502.txt', '7_mp4-10_jpg.rf.c3df3fd718070345f01ea88314409a89.txt', 'test2_mp4-20_jpg.rf.7404c2acdcbf75fd5c4afba3de8d93c7.txt', '12_mp4-14_jpg.rf.745d1563d30c2ddd0fc4a18d335a314d.txt', '8_mp4-29_jpg.rf.627c51cafadf7b38a11bea975b6d07fd.txt', '7_mp4-22_jpg.rf.06ab2e90e3e1413c2f364b87adde340e.txt', '10_mp4-12_jpg.rf.daf65f51adfd1817d026f3d4c3cf3d4c.txt', '11_mp4-5_jpg.rf.c386c42521081b541dc1d2de420dbd6c.txt', '15_mp4-13_jpg.rf.9db8e6e1794b41046ffba60cc31ab27d.txt', '2_mp4-0_jpg.rf.d84cf4982d8ec443445f3447ed2a8564.txt', '14_mp4-11_jpg.rf.6e5c9bd73c7d36a6fb8e1a85d0c2edac.txt', '3_mp4-1_jpg.rf.e44963f8da0b658a9c42e5c77142f5bc.txt', '8_mp4-8_jpg.rf.e6ceae52df9205995ecf5ce9f68cc724.txt', '10_mp4-3_jpg.rf.5e257ce3d3d2d95f6acefba0d0e4d0da.txt', '12_mp4-31_jpg.rf.5d88ef0d5a371f82a813b901c42b454b.txt', '8_mp4-1_jpg.rf.68dd90fa012e2e4ef45f5031d02ed5cf.txt', '5_mp4-6_jpg.rf.04e04ecd253fee0a91865546faf4f0d0.txt', '10_mp4-27_jpg.rf.1b3ffdafb2f2340ccc9833ac3bc0bc1d.txt', 'test3_mp4-12_jpg.rf.d06993338b3668b94cac4f32cf26f8d0.txt', '11_mp4-30_jpg.rf.c72fb653509c4234b67115d6eeb6d282.txt', '14_mp4-21_jpg.rf.e6eeb4173b315a8d65d2e5761d5826af.txt', '13_mp4-7_jpg.rf.51c6d54bb83147769c799a41acbcaa9b.txt', '15_mp4-14_jpg.rf.b901a8e524e01d09ebfd38f6413c670d.txt', 'test_mp4-3_jpg.rf.3e652b310a9473c4d6dcd132699b992c.txt', '10_mp4-11_jpg.rf.eb1b06090bd1c1814b87c18a2661990a.txt', '3_mp4-22_jpg.rf.38c6e0d0ad870ce3ef888b87031ebc8b.txt', '7_mp4-21_jpg.rf.f36bd95de5528b0d2150373a0aee6d21.txt', '8_mp4-26_jpg.rf.d1d84377404e6a3d651b85399f209cc6.txt', '8_mp4-40_jpg.rf.70bb12fa6e1c00bf2af3770845dbb47f.txt', '2_mp4-14_jpg.rf.20fcbefba4cdaad06e0b339a23f9db0a.txt', '6_mp4-21_jpg.rf.31410105860ee1b3b3220ca8bbde1c10.txt', '2_mp4-20_jpg.rf.aab1691e52ece29104fede43c3134172.txt', 'test3_mp4-0_jpg.rf.cb97f052b603304f6ed0506c7f741feb.txt', 'test3_mp4-1_jpg.rf.cd8c2361792acd66a1dd4aac0ebc33f1.txt', '8_mp4-15_jpg.rf.203f38a51824a2752509ece8acd0a97b.txt', '11_mp4-11_jpg.rf.a91d87ce59dd7218384471b1ce58700a.txt', '5_mp4-10_jpg.rf.e7da8a551f88dbb7b06eba112bd55869.txt', '3_mp4-13_jpg.rf.bf5e2f295c79987b456e033cb6739d7e.txt', '15_mp4-5_jpg.rf.578602d6c0a234eaab93e9e6aecf66c2.txt', '1_mp4-2_jpg.rf.574ccc47458551b67abef255fb54f372.txt', '12_mp4-28_jpg.rf.2eda7e5c85703d24599231e1ee9de874.txt', '8_mp4-31_jpg.rf.e7660e0606787d80a49f7c371a3a9432.txt', '3_mp4-3_jpg.rf.2b61a5c3545c950fd089695695854054.txt', '16_mp4-0_jpg.rf.fff3fd2cdb4558d95c9737836ec78767.txt', 'test_mp4-14_jpg.rf.fd8f574abb39fad1d9229ff62da83e00.txt', '10_mp4-28_jpg.rf.7d87467428bd81c5ec26717ae744e02f.txt', '8_mp4-43_jpg.rf.ada43ee787ca7abca913660747a0f679.txt', '10_mp4-41_jpg.rf.d0efdaec1b4597cff52e9db76cafcdc9.txt', '10_mp4-20_jpg.rf.12c73bfcb61d1b3861225afc11528467.txt', '13_mp4-17_jpg.rf.1881ace9f2816b05595305a782274f4d.txt', '8_mp4-24_jpg.rf.17ffb4f2519a46eef09a6ed06a532fa5.txt', '14_mp4-23_jpg.rf.35d4eeb8b2fb62d88ceb22132b20a837.txt', '12_mp4-12_jpg.rf.27e1160e1f6a7a304420380cc6dcd539.txt', 'test2_mp4-2_jpg.rf.22744ebb77d52a99c51ede00dca79dfe.txt', '7_mp4-14_jpg.rf.f7d5ef7b266e19a8e20bec772d6de106.txt', '12_mp4-20_jpg.rf.f49080daab734a25af85d858615f1d1e.txt', '3_mp4-16_jpg.rf.00d2a912cb0a5227257a2d6f18fbca29.txt', 'test_mp4-1_jpg.rf.4615955e7a34d3aba2cab0a6139833bf.txt', '11_mp4-19_jpg.rf.f43787f647e4ab8015eb19adf9168a1a.txt', '15_mp4-13_jpg.rf.d7793072977a5b029ea78dd8c15f2d56.txt', '8_mp4-18_jpg.rf.540554c884e2af926805783564ef50f0.txt', '1_mp4-12_jpg.rf.b3f0e0fdf1b9edfa66e09ccd732b7610.txt', '13_mp4-12_jpg.rf.53b43fd669d6d3f0b3a649fca03f8368.txt', '8_mp4-41_jpg.rf.9f3b79836e8477ef0f9dc2122e2a34f2.txt', '6_mp4-32_jpg.rf.fa26a1febbf9f234f33830d9b28a1888.txt', '6_mp4-5_jpg.rf.ba3f856015d56022ad3a0d584216405e.txt', '3_mp4-23_jpg.rf.a5486e0d16b0c67ab2cd103acfe81673.txt', '6_mp4-15_jpg.rf.620011b1ceef37bd326c474f62efb51c.txt', 'test_mp4-18_jpg.rf.388f58f0bcc577efbe1e6c6d07374fcb.txt', 'test_mp4-9_jpg.rf.6b9fa7ff25fa2c73f9325942a994eb9a.txt', '11_mp4-6_jpg.rf.0e2403b7629aac48f36b3f88118526e9.txt', 'test3_mp4-17_jpg.rf.70d026e3148d012f48b100149e6087c5.txt', '6_mp4-26_jpg.rf.aea45cf36b5f24e7ce9e81cafbc41131.txt', '14_mp4-6_jpg.rf.ec7d015efb0295a10936351106b40fd0.txt', '13_mp4-20_jpg.rf.7d2bfe84c01a840512582754c5b32608.txt', 'test2_mp4-0_jpg.rf.18f380b2c42c9868eb11dea014818ee2.txt', '6_mp4-9_jpg.rf.a9b36dee5db121dc1cb557b779f5b2c5.txt', '11_mp4-21_jpg.rf.de5170ee7fb8d7db8b639de3f87e6bb7.txt', 'test_mp4-8_jpg.rf.749a7dfc1055b0d8d1893eeabe69e9c7.txt', '11_mp4-8_jpg.rf.a518f66363f060be88615a28505cf9cc.txt', '7_mp4-15_jpg.rf.81f129cc66a954087df13ff7468586b6.txt', '6_mp4-33_jpg.rf.6ad429103fd1e6642570c797db6d977e.txt', '8_mp4-42_jpg.rf.ebbdfdf705bbc3807292c16250408574.txt', '2_mp4-3_jpg.rf.10fc94d0da3631b26544c48b19c49ae6.txt', '4_mp4-4_jpg.rf.23304bc14339e455081aba910b4167b9.txt', '11_mp4-20_jpg.rf.a1c845470c2857a14af106ce328d23fd.txt', '8_mp4-5_jpg.rf.467fa1e6a1c1e4b5eca5dbbee2f6ea79.txt', '14_mp4-16_jpg.rf.b6aa0a4716ba080dde464b36bb97c65c.txt', 'test3_mp4-14_jpg.rf.7dba2ba74b966aaf179fa73557acbe79.txt', '5_mp4-12_jpg.rf.d85a9310d34099edbdeea033ad180682.txt', '2_mp4-13_jpg.rf.cd1dd2a44c560f709b2279d1589da640.txt', '12_mp4-21_jpg.rf.1a76dc7688ec7362fcda9771f6607ebe.txt', '6_mp4-11_jpg.rf.b7bd3f6daf1e3a43806fc9b03b2ecea5.txt', '2_mp4-6_jpg.rf.f71d57005ef038823826288abf44279f.txt', '14_mp4-1_jpg.rf.f03077b02611b006acf86cadf0ef0672.txt', '3_mp4-0_jpg.rf.3572a3c47999df8230662391c2d11406.txt', '3_mp4-18_jpg.rf.1a05f45fb34b0e4c4892bcdb677e0a07.txt', '7_mp4-21_jpg.rf.d9c3d2e856caf2596bb5e7885a25ca1e.txt', '12_mp4-31_jpg.rf.79ff9b9516a541426045d697c7870e86.txt', 'test2_mp4-10_jpg.rf.560aea78ce9197590eeff18d206a0586.txt', '6_mp4-36_jpg.rf.af56a8b6ab65b8c0beb12417d94fbdf0.txt', 'test3_mp4-11_jpg.rf.56a66f6b9812f034e114bfe034e960c1.txt', '12_mp4-30_jpg.rf.a024aeca12ac8979dce9c02e9815168f.txt', '2_mp4-19_jpg.rf.1dad49c01e0d743b9a1836c6d0ee6854.txt', '12_mp4-17_jpg.rf.6a153289ca1f5817e71ca17f37e1c8e3.txt', '14_mp4-21_jpg.rf.94fca4d72973e2556751763078ded36a.txt', '8_mp4-29_jpg.rf.1a2883a208b3a1630d699d05008c0f22.txt', '4_mp4-11_jpg.rf.7cc9e1487681533dd2c730a56c47197c.txt', '1_mp4-7_jpg.rf.e4bf20d1e037cdbddd350e12174878fe.txt', '8_mp4-4_jpg.rf.8f2767c92032b487e0abaaaa4dd1c986.txt', '14_mp4-9_jpg.rf.626683e5af82a80084007a2e8ef946f6.txt', '8_mp4-10_jpg.rf.9f85be68196c57cdc3e5caac4090ca8c.txt', '6_mp4-40_jpg.rf.035c1330e112df02206a4761b21446a6.txt', '8_mp4-43_jpg.rf.7efe27cd84227a7064943a3fa528be0c.txt', '8_mp4-10_jpg.rf.c504b381a507f97332f84821c5acd586.txt', '8_mp4-13_jpg.rf.e8d40904585a9f6d53003e5ef8dbaaf1.txt', 'test3_mp4-13_jpg.rf.5aa0cbc72fb04ebdd5d34600138fc729.txt', '11_mp4-19_jpg.rf.047b3b6425c092b819188747274907f9.txt', '8_mp4-21_jpg.rf.614ac99808b2a87fe494591f6597ccf1.txt', 'test_mp4-12_jpg.rf.9b0b7e964f77dc4b08ed5a5bd7b2a809.txt', 'test3_mp4-11_jpg.rf.a8808a5434df4d7b43512ebec6c9930f.txt', '10_mp4-17_jpg.rf.3def0a8d4f135b823f17b0ac72b89137.txt', '15_mp4-9_jpg.rf.d1c20efd7bfea54b7e679d6409527038.txt', '5_mp4-28_jpg.rf.bb1927e742e0782befed866576bb87d9.txt', 'test_mp4-3_jpg.rf.2ef85d96211a309a195c777219a4f813.txt', '10_mp4-24_jpg.rf.3cb03ff26f564f1cfcb327a6cb47c6d5.txt', '7_mp4-19_jpg.rf.d65d7d237b3ca73a7471f51c3dd07a30.txt', '10_mp4-49_jpg.rf.9c1d8359286be990fd5f0568c9e45d86.txt', '8_mp4-32_jpg.rf.2c6ea991e02f045b4f48e45f77c84f35.txt', '7_mp4-1_jpg.rf.0d6e5845c5ecf9d5c430de98065afaa8.txt', '5_mp4-19_jpg.rf.dcb3a8472c01fb411762536dc78c16a3.txt', '8_mp4-5_jpg.rf.c4d1431c00ae66465f5f43a3d1df4d8a.txt', 'test2_mp4-3_jpg.rf.c32e2f78759e8d07b9abe9c2b6575d76.txt', '7_mp4-3_jpg.rf.6dcd52cc1740426e79a54b65ffb993f8.txt', '11_mp4-16_jpg.rf.a1b638ad4d949a9960b7a67a2c8e3316.txt', '13_mp4-10_jpg.rf.0f17b5003834559e43156ea3fa7700e6.txt', '11_mp4-13_jpg.rf.38f130f1b50209662a12ccffdb286cfd.txt', '14_mp4-7_jpg.rf.a56831534066591bd6e253c11c057172.txt', '10_mp4-7_jpg.rf.1100d669f7f2f8d475700594a20da77b.txt', '13_mp4-6_jpg.rf.8754cfc4bf82ba3d680be9ed0db01c2a.txt', '8_mp4-38_jpg.rf.1429170c16453fae36f9508c0e735c8b.txt', '1_mp4-9_jpg.rf.ed78d9705a0166fb5bea65fb838f6438.txt', '15_mp4-12_jpg.rf.1f65bc481957ccc0786c4cc7b62b6264.txt', '15_mp4-8_jpg.rf.9156332f384d212d27d75b22dab1d209.txt', '13_mp4-11_jpg.rf.c62f4e3fa67d3508e45c1a076c57a56f.txt', '8_mp4-46_jpg.rf.d21b7bff3878804690dde85ce0ae2d7d.txt', '10_mp4-36_jpg.rf.a82ecfeefb23c88da241fce04c254075.txt', '8_mp4-11_jpg.rf.8fea274827ce0127aab7a5fa516c1e82.txt', '8_mp4-23_jpg.rf.147994ef197c5473097110bf803922c0.txt', '4_mp4-3_jpg.rf.7eeb9f783d65ed301251957118f8b979.txt', '10_mp4-8_jpg.rf.45d7b1ba52914a549a80bc090945bd61.txt', '3_mp4-5_jpg.rf.a8c17d52a0abb8931cd0f7e3dfaaa42b.txt', '14_mp4-19_jpg.rf.10897316d2e82a9221d952e5b6da6974.txt', '15_mp4-3_jpg.rf.c1c6d144957ab390188e095881dc24e5.txt', '12_mp4-11_jpg.rf.d84d5d40e48a2cd2bb12b38cff026fea.txt', '1_mp4-2_jpg.rf.a79f8eb621bf4ca2bef4cc2aa16f75e4.txt', '3_mp4-5_jpg.rf.a16d871f4a42e0e4640d12c6222a3efe.txt', '6_mp4-30_jpg.rf.eb11f9c9f408d358d4f5b46ab23c06c4.txt', '7_mp4-4_jpg.rf.86a25e64a8eb7928deb532b33d906cce.txt', '10_mp4-19_jpg.rf.55b753da9e84a61ecdb1322c020e746f.txt', '5_mp4-12_jpg.rf.d1666bab618f76bdb8e10417872da081.txt', '4_mp4-0_jpg.rf.74d872ec0958f969f23f6bda0d061d3e.txt', '12_mp4-29_jpg.rf.742ce641675667f01b16cfb310113c24.txt', '3_mp4-22_jpg.rf.56a9d5f1d7b9833a5a79e2d8d6f2dd5e.txt', '14_mp4-1_jpg.rf.60830adb584408fa21d94c7d49fc5761.txt', '5_mp4-23_jpg.rf.1af6945901aadab59e9ee210b568c1cb.txt', '6_mp4-19_jpg.rf.046761a7ae1ec88f274374a6fa8ddbcc.txt', '5_mp4-1_jpg.rf.dfea49ba73f794f7d8e354cf81f5a18f.txt', 'test_mp4-12_jpg.rf.b981a3feb29e09143cd2674237f43d68.txt', 'test3_mp4-16_jpg.rf.7914586ca52488f782f794b4c4a85e9f.txt', '12_mp4-19_jpg.rf.f8f06d8f32d5f07d8ad929cd877f1149.txt', '1_mp4-4_jpg.rf.721d802f68e593843318bd3b0a07087d.txt', '3_mp4-15_jpg.rf.99cfe8212d09c2ea9f6b6615f35084fa.txt', '13_mp4-14_jpg.rf.4408357b7b363f4bc01fa27757a03c30.txt', 'test2_mp4-15_jpg.rf.d170bb8cf4bbd1a3c88670de869cbcc6.txt', '8_mp4-35_jpg.rf.1b0d94f9aebaab5c97c7acf5c9eab6f3.txt', '6_mp4-38_jpg.rf.ff0afa6d5077dbcee7ae225a559c784d.txt', '12_mp4-32_jpg.rf.cd0b9192eb8996e8e68b022bcd304668.txt', '13_mp4-11_jpg.rf.c8a8aaf68131d29c1f69f862a45b61e8.txt', 'test2_mp4-17_jpg.rf.87e0a998a8066c932ba7dce5edf06fbb.txt', '13_mp4-8_jpg.rf.06ea4dc0c5748837919fe2c225a092e1.txt', '3_mp4-18_jpg.rf.28d1e7d7f63dc0f798602069d69e540a.txt', '8_mp4-37_jpg.rf.ed4bcb7bb14b90d6d7c0d30203ad6d4f.txt', '7_mp4-2_jpg.rf.cf40db58b437d06043b53e19d2e5f924.txt', '4_mp4-4_jpg.rf.ca75d1aeaccd71438b8befbcb0df4d13.txt', '8_mp4-46_jpg.rf.3132ebe3a693515002395415e1ea853a.txt', '4_mp4-2_jpg.rf.085d0c1923f20d8253a0c88c2c9c9452.txt', '11_mp4-6_jpg.rf.054251ea7232184b512f5cd0115fe950.txt', '8_mp4-26_jpg.rf.7b7e31f78015a7f36049680f550f53de.txt', '10_mp4-15_jpg.rf.7c56c088a40d06ad42da2024516df7d9.txt', 'test_mp4-7_jpg.rf.cf8fd6a7fc83868e8fcc8aa128eff9da.txt', '11_mp4-23_jpg.rf.b0fe1d09f0660fff16ef09a7b9a44ed3.txt', '14_mp4-20_jpg.rf.26e5de0273080c4d9ce394feed68f5c3.txt', 'test_mp4-1_jpg.rf.0ab9c0b7d95152a8e5d6cfa749695d32.txt', '7_mp4-23_jpg.rf.d45346bc100c9c6a0100ee7757843cb7.txt', '11_mp4-4_jpg.rf.c43aaf1a74e6c48925ba391c97956a8c.txt', '10_mp4-7_jpg.rf.d2804558f98e3290a1fa542cbb5d9cc9.txt', '14_mp4-18_jpg.rf.a7e06f6038a431aad33c25a9b9b87f16.txt', 'test3_mp4-16_jpg.rf.545af2db76904c26b74606db905d934b.txt']\n",
            "------------------------------\n",
            "In: /kaggle/input/top-view-vehicle-detection-image-dataset/Vehicle_Detection_Image_Dataset/train/images\n",
            "Dirs: []\n",
            "Files: ['3_mp4-4_jpg.rf.8ae76ee52bb6649db63b3efb907adccf.jpg', '10_mp4-17_jpg.rf.3def0a8d4f135b823f17b0ac72b89137.jpg', '13_mp4-6_jpg.rf.8754cfc4bf82ba3d680be9ed0db01c2a.jpg', '5_mp4-10_jpg.rf.654cb269de522379187cee9e5c17a8b4.jpg', '8_mp4-5_jpg.rf.467fa1e6a1c1e4b5eca5dbbee2f6ea79.jpg', '10_mp4-34_jpg.rf.24149d8b7f6202bae6717110780e5c95.jpg', '6_mp4-38_jpg.rf.d9fa042ed2767de9a03b10c90794a33b.jpg', '11_mp4-5_jpg.rf.0f649cf86a28d3c1bf566457bd741fd2.jpg', '14_mp4-21_jpg.rf.e6eeb4173b315a8d65d2e5761d5826af.jpg', 'test3_mp4-10_jpg.rf.11bdfe9aaa5fd635b6cdf7e40c75d018.jpg', '15_mp4-13_jpg.rf.9db8e6e1794b41046ffba60cc31ab27d.jpg', '7_mp4-17_jpg.rf.d675009ac11cc267c287c42e0f73a02d.jpg', '2_mp4-18_jpg.rf.c0f24f4c0367d04d9f71eb53518c84d5.jpg', '13_mp4-15_jpg.rf.e756e6fcb5e18cee67ea86135c09ef98.jpg', '3_mp4-23_jpg.rf.1795ebf65f44c643262e9abc56d89104.jpg', '11_mp4-20_jpg.rf.07891e59b6d3fd6ff19d61eac9cdc89c.jpg', '14_mp4-4_jpg.rf.9d07f2273b0b6fc023e7e16bc4133c90.jpg', '15_mp4-5_jpg.rf.578602d6c0a234eaab93e9e6aecf66c2.jpg', '6_mp4-8_jpg.rf.4c673a07eb2036f47402d162d559c7d1.jpg', '6_mp4-19_jpg.rf.046761a7ae1ec88f274374a6fa8ddbcc.jpg', '11_mp4-25_jpg.rf.6edda502e0039d2148e4727277d62ee5.jpg', '10_mp4-36_jpg.rf.a82ecfeefb23c88da241fce04c254075.jpg', '11_mp4-18_jpg.rf.a95aa1242272f730fde1eff19f24fbc0.jpg', '6_mp4-38_jpg.rf.ff0afa6d5077dbcee7ae225a559c784d.jpg', '3_mp4-22_jpg.rf.56a9d5f1d7b9833a5a79e2d8d6f2dd5e.jpg', '14_mp4-14_jpg.rf.0dd244d20329d1cd7cb6853603cb6aa1.jpg', '12_mp4-3_jpg.rf.67c910ead2f715a757a80458d7590828.jpg', '2_mp4-13_jpg.rf.cd1dd2a44c560f709b2279d1589da640.jpg', '1_mp4-4_jpg.rf.721d802f68e593843318bd3b0a07087d.jpg', '5_mp4-3_jpg.rf.ceca85e307966190ef2dc0444b462490.jpg', '15_mp4-12_jpg.rf.5bb8ac4e9d13f6e2e0ccd39318f4a2f2.jpg', '7_mp4-1_jpg.rf.0d6e5845c5ecf9d5c430de98065afaa8.jpg', 'test3_mp4-11_jpg.rf.56a66f6b9812f034e114bfe034e960c1.jpg', '10_mp4-4_jpg.rf.e249d623a8a9739d0c00dcbb592235d2.jpg', '13_mp4-2_jpg.rf.91937da497cdf5495ee3fd2d4b8ab29c.jpg', '2_mp4-15_jpg.rf.b3d315d43402ab866a289cfef78dc139.jpg', 'test2_mp4-2_jpg.rf.98ade04a432ddb5023dbcac0ae2a155c.jpg', '2_mp4-4_jpg.rf.39bbac020ae57a7c56403988b5d68b76.jpg', '5_mp4-13_jpg.rf.166ca64d0df04d97b7bfef546859ecb6.jpg', '1_mp4-7_jpg.rf.e4bf20d1e037cdbddd350e12174878fe.jpg', '8_mp4-7_jpg.rf.fab6475c4142d7bce5b9b4951adc03dc.jpg', '3_mp4-0_jpg.rf.3572a3c47999df8230662391c2d11406.jpg', '11_mp4-6_jpg.rf.054251ea7232184b512f5cd0115fe950.jpg', '10_mp4-38_jpg.rf.55f0590d14f6c99d48c77d167c621314.jpg', '8_mp4-37_jpg.rf.ed4bcb7bb14b90d6d7c0d30203ad6d4f.jpg', '14_mp4-9_jpg.rf.626683e5af82a80084007a2e8ef946f6.jpg', '14_mp4-1_jpg.rf.60830adb584408fa21d94c7d49fc5761.jpg', '8_mp4-30_jpg.rf.385021806c9c0787d4c427c703a2937e.jpg', '13_mp4-10_jpg.rf.0f17b5003834559e43156ea3fa7700e6.jpg', '10_mp4-12_jpg.rf.daf65f51adfd1817d026f3d4c3cf3d4c.jpg', '6_mp4-21_jpg.rf.31410105860ee1b3b3220ca8bbde1c10.jpg', '3_mp4-1_jpg.rf.e44963f8da0b658a9c42e5c77142f5bc.jpg', '6_mp4-30_jpg.rf.b58c644f3265885bafe83b36369026eb.jpg', '14_mp4-7_jpg.rf.014bc6f8eb5e765634814571e4e0ebd6.jpg', '7_mp4-18_jpg.rf.375c66297d68d427418697d3778553fa.jpg', '15_mp4-3_jpg.rf.c1c6d144957ab390188e095881dc24e5.jpg', '11_mp4-10_jpg.rf.4700be742c709d3ebbac02e5f323cd12.jpg', '10_mp4-28_jpg.rf.725015477afc0e20fa01fee42ed7f6d9.jpg', '10_mp4-1_jpg.rf.95d7900831e7287cafe8f30b7ff9dcb6.jpg', '11_mp4-12_jpg.rf.61c94dbcac908e69c10575351f04fda4.jpg', '13_mp4-2_jpg.rf.a5367935c024920330f69e3be7d73d17.jpg', 'test3_mp4-6_jpg.rf.b09cff430b44a8e71094c1eed686d068.jpg', '13_mp4-12_jpg.rf.53b43fd669d6d3f0b3a649fca03f8368.jpg', '14_mp4-6_jpg.rf.3260caea303ecfec1d3677f1fc50ad5d.jpg', '7_mp4-8_jpg.rf.756a6c6425b6de09a0ef29517c7b6c1f.jpg', '8_mp4-35_jpg.rf.438a197399d1df7f8ab56f81ff845475.jpg', '11_mp4-23_jpg.rf.ccaf85702e19a073ba49b4814d15e282.jpg', '14_mp4-26_jpg.rf.fae0f0e4cbc5c3563680182e8dae8483.jpg', 'test_mp4-0_jpg.rf.232bf375741c2f099f7c5574920f52e1.jpg', '4_mp4-9_jpg.rf.e3a0948ae1c9e253e1926ed1a7f921e7.jpg', '7_mp4-10_jpg.rf.c3df3fd718070345f01ea88314409a89.jpg', '7_mp4-21_jpg.rf.f36bd95de5528b0d2150373a0aee6d21.jpg', '14_mp4-17_jpg.rf.11aa87d1f1b9f3d2b7e97091cf100588.jpg', '6_mp4-16_jpg.rf.ff6c214cc9d679ddbf98a384e6989b23.jpg', 'test2_mp4-3_jpg.rf.bd6588768c0b73ff537f89246693dda0.jpg', '1_mp4-7_jpg.rf.ac2a271a5a65215847db83795e848aeb.jpg', '12_mp4-0_jpg.rf.13768a6bc89343d1f3a551945edea8ed.jpg', '14_mp4-12_jpg.rf.e120108ef5fe771c4687aac68f87d470.jpg', '5_mp4-19_jpg.rf.dcb3a8472c01fb411762536dc78c16a3.jpg', '4_mp4-6_jpg.rf.a1790a3342455a63f510d31ed789421d.jpg', '6_mp4-6_jpg.rf.18ed9550b1a0eec93f1a395b19cb20d8.jpg', '8_mp4-27_jpg.rf.47cd92661c6e4878374fc41c0f01882a.jpg', '12_mp4-22_jpg.rf.3cc9c3957581c0df541bcf44be601d7e.jpg', '2_mp4-6_jpg.rf.66388163cccfee91e074cd4fcf94b370.jpg', '3_mp4-6_jpg.rf.b9cdd6989470f53d1e5e229abfaa82e1.jpg', '11_mp4-9_jpg.rf.da40e3a3763ab632f2546a683a2cf63a.jpg', '2_mp4-12_jpg.rf.08051924f664b1dc51e25fa408609527.jpg', '2_mp4-3_jpg.rf.9df05747484088464191b55d5ff379f4.jpg', '12_mp4-6_jpg.rf.2b36677c0bedee332f1ff6b5eeeeb5cf.jpg', '8_mp4-10_jpg.rf.c504b381a507f97332f84821c5acd586.jpg', 'test_mp4-19_jpg.rf.f7d961917a8ad26e4907e193353ae4aa.jpg', '15_mp4-12_jpg.rf.1f65bc481957ccc0786c4cc7b62b6264.jpg', '12_mp4-23_jpg.rf.2d867a2c21f60ad6738206710c8edf1b.jpg', '5_mp4-11_jpg.rf.91ad9a7d8c9f22124eedb3614b25d244.jpg', '10_mp4-38_jpg.rf.76cdb330ed3dde7d0327c472dc71703f.jpg', '8_mp4-32_jpg.rf.2c6ea991e02f045b4f48e45f77c84f35.jpg', '12_mp4-14_jpg.rf.745d1563d30c2ddd0fc4a18d335a314d.jpg', 'test3_mp4-2_jpg.rf.0eb8b9c1b003d3e856e0e3d959904d0d.jpg', '10_mp4-22_jpg.rf.9fab549aabb1a27af45313dcf1110285.jpg', '10_mp4-15_jpg.rf.7c56c088a40d06ad42da2024516df7d9.jpg', 'test_mp4-1_jpg.rf.0ab9c0b7d95152a8e5d6cfa749695d32.jpg', '10_mp4-30_jpg.rf.73eafea5e7f73f941543d3dcbe68afe4.jpg', '7_mp4-13_jpg.rf.a448a1afa3608c0c65f76fbbc6f21389.jpg', 'test3_mp4-0_jpg.rf.dc0ac3591666d7ed5e8fefa5b41836ff.jpg', '12_mp4-20_jpg.rf.e33c19dad2e03c34047a7983a14e2339.jpg', '12_mp4-15_jpg.rf.02b161cef4b0b0f8c2e0d76a0298c959.jpg', 'test2_mp4-14_jpg.rf.9b21d06644b165842c77f0c5ace1af8c.jpg', 'test_mp4-6_jpg.rf.ab38a9d333977a3fcab122470c9e0f1e.jpg', 'test3_mp4-14_jpg.rf.7dba2ba74b966aaf179fa73557acbe79.jpg', 'test_mp4-4_jpg.rf.a4ab418c6cdcc81f49484a8aa098b691.jpg', '8_mp4-15_jpg.rf.dfb0a15fa6d3cd31bc959c8108103644.jpg', 'test3_mp4-14_jpg.rf.4d418ce9fe701a7bfb020df31ac94f69.jpg', '7_mp4-19_jpg.rf.d65d7d237b3ca73a7471f51c3dd07a30.jpg', '10_mp4-42_jpg.rf.f9b68b0eda6ceec8b0447dfbe184600d.jpg', '8_mp4-23_jpg.rf.147994ef197c5473097110bf803922c0.jpg', '7_mp4-1_jpg.rf.0aca74d617d7e49e8ce1b361f55bd39a.jpg', 'test_mp4-18_jpg.rf.388f58f0bcc577efbe1e6c6d07374fcb.jpg', '8_mp4-42_jpg.rf.ebbdfdf705bbc3807292c16250408574.jpg', '14_mp4-3_jpg.rf.5531b7d160afcc77a61e2a2ca57a73d2.jpg', '12_mp4-31_jpg.rf.79ff9b9516a541426045d697c7870e86.jpg', '8_mp4-31_jpg.rf.28c8daf49c5008a60e512341cfb79352.jpg', '12_mp4-7_jpg.rf.3772fccf9706393c58387ed585727446.jpg', '7_mp4-23_jpg.rf.61fd91ce7878a1a24e57300c10fe4407.jpg', '11_mp4-14_jpg.rf.0d47483007a70d056747d619748e0e0a.jpg', '14_mp4-7_jpg.rf.a56831534066591bd6e253c11c057172.jpg', '6_mp4-12_jpg.rf.e719ef93a518a13b4653899c443a0479.jpg', 'test2_mp4-4_jpg.rf.a20b7a6e45f87da6fb6a63f76ec8130d.jpg', '6_mp4-40_jpg.rf.035c1330e112df02206a4761b21446a6.jpg', '15_mp4-13_jpg.rf.d7793072977a5b029ea78dd8c15f2d56.jpg', '5_mp4-24_jpg.rf.5da4f014b207261b073ddf18806f58d6.jpg', '8_mp4-9_jpg.rf.96d62616cba7f1351137c379b83bbc6c.jpg', '3_mp4-15_jpg.rf.99cfe8212d09c2ea9f6b6615f35084fa.jpg', '8_mp4-29_jpg.rf.1a2883a208b3a1630d699d05008c0f22.jpg', 'test3_mp4-13_jpg.rf.5aa0cbc72fb04ebdd5d34600138fc729.jpg', '7_mp4-2_jpg.rf.cf40db58b437d06043b53e19d2e5f924.jpg', '10_mp4-17_jpg.rf.f29adb6ba74c526e626284888f787502.jpg', '6_mp4-9_jpg.rf.a9b36dee5db121dc1cb557b779f5b2c5.jpg', '5_mp4-23_jpg.rf.b5a2feb8c6c3748bcfeb81e8e5e50044.jpg', '6_mp4-15_jpg.rf.620011b1ceef37bd326c474f62efb51c.jpg', 'test2_mp4-15_jpg.rf.d170bb8cf4bbd1a3c88670de869cbcc6.jpg', '5_mp4-15_jpg.rf.fa9fbe793e626eb4715d80ee7e9cc706.jpg', '1_mp4-11_jpg.rf.a41edc350c5d4dbdd6c00f77c9245233.jpg', '11_mp4-0_jpg.rf.47b087257df01a5096eb2ac85f06b278.jpg', '2_mp4-2_jpg.rf.21f08e5a11fdf6bc50e4e7eb17f02a4f.jpg', '1_mp4-9_jpg.rf.ed78d9705a0166fb5bea65fb838f6438.jpg', '6_mp4-27_jpg.rf.8bf4487b15fa86e85a5bfe527fbca8de.jpg', 'test_mp4-8_jpg.rf.749a7dfc1055b0d8d1893eeabe69e9c7.jpg', '14_mp4-8_jpg.rf.6a5cd35540382c3fbe00632805ba7a18.jpg', '5_mp4-28_jpg.rf.bb1927e742e0782befed866576bb87d9.jpg', '10_mp4-26_jpg.rf.9f4ddce5c1bb0ee02fd1c1f6a9220fcc.jpg', '13_mp4-6_jpg.rf.684f923a639ff5c8659bf85ad06ffc0e.jpg', '4_mp4-0_jpg.rf.74d872ec0958f969f23f6bda0d061d3e.jpg', '8_mp4-35_jpg.rf.1b0d94f9aebaab5c97c7acf5c9eab6f3.jpg', 'test3_mp4-7_jpg.rf.4770e23f8843725328596c4ae7e2ee40.jpg', '11_mp4-11_jpg.rf.fb647644b7b36fa548c601bb315f68a3.jpg', '10_mp4-33_jpg.rf.add6b975cf392d2aac79161bfc3de4a5.jpg', '10_mp4-3_jpg.rf.5a7c2c046737a3469d5e74a2c7e06d6e.jpg', '10_mp4-37_jpg.rf.dd8108fe58b63d6e952658e2dec667a1.jpg', '5_mp4-1_jpg.rf.dfea49ba73f794f7d8e354cf81f5a18f.jpg', 'test3_mp4-12_jpg.rf.4d7c26225449831445c08fc842caeb48.jpg', '13_mp4-20_jpg.rf.7d2bfe84c01a840512582754c5b32608.jpg', '13_mp4-0_jpg.rf.620b394144dc86057a91d894c3d9fc3f.jpg', '14_mp4-23_jpg.rf.3323026776a47d27e926c90a938ada33.jpg', '10_mp4-8_jpg.rf.45d7b1ba52914a549a80bc090945bd61.jpg', 'test_mp4-16_jpg.rf.b12a186127cb94dc8bc944a0ef428251.jpg', '3_mp4-15_jpg.rf.ec6dc259617ea230e7f887b2bf13f067.jpg', '2_mp4-21_jpg.rf.e775b93681848cb2a2a0f2e0101ea67c.jpg', '3_mp4-13_jpg.rf.bf5e2f295c79987b456e033cb6739d7e.jpg', '11_mp4-25_jpg.rf.ef41c1bc4522e38ce1816e5884b1761c.jpg', '14_mp4-18_jpg.rf.a7e06f6038a431aad33c25a9b9b87f16.jpg', '6_mp4-26_jpg.rf.aea45cf36b5f24e7ce9e81cafbc41131.jpg', '2_mp4-18_jpg.rf.5a293877d4a4d20a8bfa9cdf7e062acd.jpg', '2_mp4-8_jpg.rf.8912d23559a90d712ef2cacace5a3370.jpg', '6_mp4-25_jpg.rf.e8c0b76723f677598e6863520ec02e2e.jpg', 'test2_mp4-7_jpg.rf.e6fd259878736bb130789076b260d0c5.jpg', '12_mp4-12_jpg.rf.27e1160e1f6a7a304420380cc6dcd539.jpg', '2_mp4-3_jpg.rf.10fc94d0da3631b26544c48b19c49ae6.jpg', '10_mp4-41_jpg.rf.d0efdaec1b4597cff52e9db76cafcdc9.jpg', '10_mp4-3_jpg.rf.5e257ce3d3d2d95f6acefba0d0e4d0da.jpg', '4_mp4-2_jpg.rf.085d0c1923f20d8253a0c88c2c9c9452.jpg', '10_mp4-49_jpg.rf.6a330c2d933c2b037c814d81eb37c9ad.jpg', '10_mp4-18_jpg.rf.4319bfbb7bc9b9f40a62a13cacc1e71c.jpg', '10_mp4-8_jpg.rf.d87434ea22954af69d2692f24484a62f.jpg', 'test2_mp4-7_jpg.rf.16ac55ef0554d1232db8749f7ed0f8be.jpg', 'test_mp4-8_jpg.rf.e6917f65ee3321d6598ed177e741d6cf.jpg', '12_mp4-6_jpg.rf.bfc1143e304de7f4b5b76766fcf53927.jpg', '11_mp4-1_jpg.rf.de00bc564859a4ccd6d2949c6db07dec.jpg', '6_mp4-3_jpg.rf.1f86559aebcf2d5c702f5b12c02f121c.jpg', '8_mp4-8_jpg.rf.05084d10c64faf025640e64ad2c24b37.jpg', '13_mp4-14_jpg.rf.347d62482862a92cbfa009ce06e6ca82.jpg', '12_mp4-30_jpg.rf.a024aeca12ac8979dce9c02e9815168f.jpg', '10_mp4-7_jpg.rf.1100d669f7f2f8d475700594a20da77b.jpg', '2_mp4-23_jpg.rf.9630295f3c98ec2ad851a859992d2527.jpg', '13_mp4-3_jpg.rf.e2c753716f39f02eb40f213a7b15a6c7.jpg', '2_mp4-8_jpg.rf.25c000e17a6f603a228386f9780e87a1.jpg', '6_mp4-2_jpg.rf.5ef025c25a4abd04c14dd3d9f5bd9886.jpg', '1_mp4-5_jpg.rf.11d181be65dc49ad1857dd37a817816b.jpg', '6_mp4-37_jpg.rf.5cc75f111b203c26d41614719c2ee50e.jpg', 'test2_mp4-18_jpg.rf.dbc26dafb7497860bdd9af9f6dd86d97.jpg', 'test3_mp4-9_jpg.rf.ad91cc5f0adc2a68f4e733329c9d06ea.jpg', '8_mp4-33_jpg.rf.beb62cf3f5093f147e9156aa8144c8a0.jpg', '12_mp4-13_jpg.rf.d7bd35455febcf89e018f6ec85db3502.jpg', '7_mp4-12_jpg.rf.fc3f776e4a98caedafc6711fac3a8b0a.jpg', '15_mp4-8_jpg.rf.c12aa7b103f55effa7a163a438e2e007.jpg', '8_mp4-7_jpg.rf.88df9b56e4c2322a9160241b63872bfd.jpg', '11_mp4-30_jpg.rf.ebc32f17681ef96ef87ad35a7df4f8ce.jpg', '11_mp4-14_jpg.rf.a6c45353302e18201614a5b3f5a375a9.jpg', 'test2_mp4-3_jpg.rf.c32e2f78759e8d07b9abe9c2b6575d76.jpg', '5_mp4-7_jpg.rf.74a63b0a095dfe8e5bb8d4625219ff81.jpg', '5_mp4-20_jpg.rf.629369c91009fb19267aea9b620cf440.jpg', '10_mp4-24_jpg.rf.3cb03ff26f564f1cfcb327a6cb47c6d5.jpg', '3_mp4-9_jpg.rf.cd556107b22fc2e0963969ccb79b3d9d.jpg', '6_mp4-2_jpg.rf.93839f8a7f08d9dbdc08e77656f9ab9d.jpg', '4_mp4-11_jpg.rf.7cc9e1487681533dd2c730a56c47197c.jpg', '6_mp4-4_jpg.rf.baf02d172b17a1b2962d01a92bff3569.jpg', '8_mp4-29_jpg.rf.627c51cafadf7b38a11bea975b6d07fd.jpg', '8_mp4-46_jpg.rf.d21b7bff3878804690dde85ce0ae2d7d.jpg', '5_mp4-28_jpg.rf.f6db4c3a56b99c14c71e544330e1ce9c.jpg', '14_mp4-27_jpg.rf.51ccb25c5a85fe582a56186a9a605ecc.jpg', '7_mp4-12_jpg.rf.28303fed2256dac5798dbf0f4f23145a.jpg', '8_mp4-38_jpg.rf.1429170c16453fae36f9508c0e735c8b.jpg', '1_mp4-12_jpg.rf.b3f0e0fdf1b9edfa66e09ccd732b7610.jpg', '1_mp4-6_jpg.rf.23b382bca47939ebcf23f544c0f33e42.jpg', '5_mp4-8_jpg.rf.a0e1a9d3a8cb937318b64d250da13d21.jpg', '3_mp4-16_jpg.rf.00d2a912cb0a5227257a2d6f18fbca29.jpg', '1_mp4-5_jpg.rf.402cab70fefdc188c812bbc47a4ed5fd.jpg', '13_mp4-8_jpg.rf.06ea4dc0c5748837919fe2c225a092e1.jpg', '6_mp4-37_jpg.rf.f36158435095f18be51dac0b9082f9c1.jpg', '14_mp4-13_jpg.rf.a72cc7ec3a11f2749ce52f59d91bb8e2.jpg', '8_mp4-40_jpg.rf.70bb12fa6e1c00bf2af3770845dbb47f.jpg', '10_mp4-41_jpg.rf.4dee909f4a5f9be3f96de326a0d087e0.jpg', '6_mp4-33_jpg.rf.6ad429103fd1e6642570c797db6d977e.jpg', '13_mp4-7_jpg.rf.51c6d54bb83147769c799a41acbcaa9b.jpg', '15_mp4-2_jpg.rf.11c7e3e44e25d1b36106c9992b02de9c.jpg', '2_mp4-7_jpg.rf.ecf31a5f0a3ade904c24d0fef1a18506.jpg', '15_mp4-9_jpg.rf.d1c20efd7bfea54b7e679d6409527038.jpg', '6_mp4-7_jpg.rf.923f085fa5cf5cd2b4a698435176750d.jpg', '10_mp4-21_jpg.rf.fdf9ca13094603f25c5323c71537b39c.jpg', '5_mp4-3_jpg.rf.0068b368b2e2a2353106adb938e3f93a.jpg', '14_mp4-1_jpg.rf.f03077b02611b006acf86cadf0ef0672.jpg', 'test_mp4-17_jpg.rf.8eccce93a3d7b586f8a75e1f4d7f5727.jpg', '1_mp4-10_jpg.rf.efbf093676a1b487d1e89066689cb42b.jpg', '11_mp4-23_jpg.rf.b0fe1d09f0660fff16ef09a7b9a44ed3.jpg', '5_mp4-12_jpg.rf.d1666bab618f76bdb8e10417872da081.jpg', '6_mp4-39_jpg.rf.9d02f67923967da4bd61d641a7b73bc8.jpg', '11_mp4-0_jpg.rf.44c373b7b04605f8f7d1a8228baf9938.jpg', '5_mp4-10_jpg.rf.e7da8a551f88dbb7b06eba112bd55869.jpg', '6_mp4-25_jpg.rf.cbd2269ce037b1614b20df5c2e91cfed.jpg', '8_mp4-24_jpg.rf.a3f21fe2d8de6cf32b6e764621a472a9.jpg', '8_mp4-26_jpg.rf.d1d84377404e6a3d651b85399f209cc6.jpg', '6_mp4-35_jpg.rf.48307485007b75d42c317ef120f39758.jpg', '15_mp4-8_jpg.rf.9156332f384d212d27d75b22dab1d209.jpg', '8_mp4-16_jpg.rf.93878bb2002cf485ccd73648a7fbab4b.jpg', '6_mp4-32_jpg.rf.2fbf5f14e51e9a234d170de78381cfbb.jpg', '11_mp4-19_jpg.rf.047b3b6425c092b819188747274907f9.jpg', '10_mp4-14_jpg.rf.0f71b11f7cbb40b498e9f8032bf9a51c.jpg', 'test2_mp4-9_jpg.rf.efc7c8ae5059cc27b41a1f38decc1991.jpg', '11_mp4-27_jpg.rf.b50ed53071de55bd4882d8401cd4764d.jpg', '12_mp4-19_jpg.rf.f8f06d8f32d5f07d8ad929cd877f1149.jpg', '10_mp4-44_jpg.rf.57a54adb829943b4a4e208c0b2176b53.jpg', '1_mp4-1_jpg.rf.28673bb16c8118ae1ea27e334cc38be5.jpg', '7_mp4-23_jpg.rf.d45346bc100c9c6a0100ee7757843cb7.jpg', '8_mp4-2_jpg.rf.bce7192fe62613a748e7041b93e703bf.jpg', '7_mp4-10_jpg.rf.5a004a3e81fecf70932025e0a55e4c97.jpg', 'test3_mp4-1_jpg.rf.cd8c2361792acd66a1dd4aac0ebc33f1.jpg', '14_mp4-28_jpg.rf.4344efaadc635c8dd42d8f9186f1ad71.jpg', 'test_mp4-9_jpg.rf.6b9fa7ff25fa2c73f9325942a994eb9a.jpg', '10_mp4-36_jpg.rf.28a8e51eebbdaefee515582821f1c033.jpg', 'test2_mp4-13_jpg.rf.a107982b284a27b0e03cf09e254f89d2.jpg', '6_mp4-21_jpg.rf.6c5b9419e6a48a636766242c33aaa8ae.jpg', '3_mp4-21_jpg.rf.6ac69fa7c83cd69137cb41ff9bf65af1.jpg', '11_mp4-4_jpg.rf.c43aaf1a74e6c48925ba391c97956a8c.jpg', '1_mp4-1_jpg.rf.9115af93de4cbf89e48a9c33dfe996c8.jpg', 'test3_mp4-11_jpg.rf.a8808a5434df4d7b43512ebec6c9930f.jpg', 'test3_mp4-0_jpg.rf.cb97f052b603304f6ed0506c7f741feb.jpg', '2_mp4-4_jpg.rf.3f43e19049f651b66e3f965067ffcc72.jpg', '10_mp4-43_jpg.rf.4bcb6ffca030d883c8c959a810a21398.jpg', '13_mp4-3_jpg.rf.c4e1d23f8cb1d10f46bd93ba7935b850.jpg', 'test3_mp4-17_jpg.rf.70d026e3148d012f48b100149e6087c5.jpg', '10_mp4-7_jpg.rf.d2804558f98e3290a1fa542cbb5d9cc9.jpg', '13_mp4-17_jpg.rf.1881ace9f2816b05595305a782274f4d.jpg', '11_mp4-20_jpg.rf.a1c845470c2857a14af106ce328d23fd.jpg', '4_mp4-3_jpg.rf.7eeb9f783d65ed301251957118f8b979.jpg', 'test2_mp4-11_jpg.rf.87755ad3684d15a90b06f8a10c54fabd.jpg', '13_mp4-7_jpg.rf.dd0f0e260a201d7e60b1df8705877838.jpg', '6_mp4-15_jpg.rf.8004ad58a025777c63c98e28c7f97a40.jpg', '8_mp4-11_jpg.rf.8fea274827ce0127aab7a5fa516c1e82.jpg', '11_mp4-27_jpg.rf.b1a5c9056348ce08ccb6bdadde8911a9.jpg', 'test_mp4-3_jpg.rf.2ef85d96211a309a195c777219a4f813.jpg', '5_mp4-20_jpg.rf.6c674e43bf5be6b4071c65291ac2b13c.jpg', '5_mp4-7_jpg.rf.8624d28bb3c29c80ec9283fdab5f19e8.jpg', '12_mp4-32_jpg.rf.cd0b9192eb8996e8e68b022bcd304668.jpg', 'test3_mp4-12_jpg.rf.d06993338b3668b94cac4f32cf26f8d0.jpg', '10_mp4-21_jpg.rf.f4a71342a87fe4b057dfdfd961ea7f56.jpg', '3_mp4-6_jpg.rf.5b6942de895ed79a12ff6a65888e7f17.jpg', '5_mp4-8_jpg.rf.71c95cfe2fd0833c1d883674c9f64dc0.jpg', '10_mp4-40_jpg.rf.c87ea31b3ee340155d9d5a389565aa13.jpg', '6_mp4-19_jpg.rf.6ae16e974bff5573d4908ba74de6bad7.jpg', '13_mp4-11_jpg.rf.c62f4e3fa67d3508e45c1a076c57a56f.jpg', '10_mp4-10_jpg.rf.b87509668caff369c5501325477e6d9a.jpg', 'test2_mp4-20_jpg.rf.7404c2acdcbf75fd5c4afba3de8d93c7.jpg', '3_mp4-22_jpg.rf.38c6e0d0ad870ce3ef888b87031ebc8b.jpg', '14_mp4-13_jpg.rf.2b700aacf776452575176f9bcd39be5a.jpg', '8_mp4-23_jpg.rf.b925a3e8ca3197928e98d4a53af12f0d.jpg', '6_mp4-30_jpg.rf.eb11f9c9f408d358d4f5b46ab23c06c4.jpg', '11_mp4-26_jpg.rf.5cfd0a1600babb3cfe874e81aad8ffff.jpg', '8_mp4-43_jpg.rf.ada43ee787ca7abca913660747a0f679.jpg', '6_mp4-32_jpg.rf.fa26a1febbf9f234f33830d9b28a1888.jpg', '5_mp4-23_jpg.rf.1af6945901aadab59e9ee210b568c1cb.jpg', '13_mp4-10_jpg.rf.907ddce360dab033fc8af7728a195442.jpg', '1_mp4-2_jpg.rf.574ccc47458551b67abef255fb54f372.jpg', '5_mp4-17_jpg.rf.11452974cce0afd48110e3f0abe6bae6.jpg', '7_mp4-9_jpg.rf.a10a055515d62a73d4c5e357164e1328.jpg', '2_mp4-21_jpg.rf.f9233cbbb714d35d55527306c2896ac6.jpg', '14_mp4-8_jpg.rf.7d2094c86c3594bbf5da59e3777ee929.jpg', '11_mp4-8_jpg.rf.a518f66363f060be88615a28505cf9cc.jpg', '12_mp4-5_jpg.rf.598eb70537e759bb3ff0127826bad1c1.jpg', '11_mp4-19_jpg.rf.f43787f647e4ab8015eb19adf9168a1a.jpg', 'test3_mp4-16_jpg.rf.7914586ca52488f782f794b4c4a85e9f.jpg', '6_mp4-13_jpg.rf.a065f14e787f2be7a3d9f2149256f7ed.jpg', 'test2_mp4-12_jpg.rf.dfcc35ec0d85720ffdc2d3fa5ccbc6f1.jpg', 'test_mp4-14_jpg.rf.fd8f574abb39fad1d9229ff62da83e00.jpg', '8_mp4-43_jpg.rf.7efe27cd84227a7064943a3fa528be0c.jpg', '14_mp4-21_jpg.rf.94fca4d72973e2556751763078ded36a.jpg', '10_mp4-20_jpg.rf.12c73bfcb61d1b3861225afc11528467.jpg', '15_mp4-7_jpg.rf.87ac7da6f082f9c7f77dc199b3d8fd6c.jpg', '10_mp4-32_jpg.rf.76db89bfdfeb0e355e9ad3c05ee8ac8e.jpg', '2_mp4-2_jpg.rf.87fc5764ed2380b33a29eec7da3416b6.jpg', 'test_mp4-12_jpg.rf.9b0b7e964f77dc4b08ed5a5bd7b2a809.jpg', '8_mp4-28_jpg.rf.e5c6953d26633f73c485d2c5a389a565.jpg', '8_mp4-8_jpg.rf.e6ceae52df9205995ecf5ce9f68cc724.jpg', '8_mp4-13_jpg.rf.600c766124a8140be6389efb9eec6f93.jpg', '10_mp4-20_jpg.rf.aa955ef0c5dbb1974c6c0b13628f93b2.jpg', 'test_mp4-11_jpg.rf.264e26445af0bb22012f9f6ed5b4026b.jpg', '10_mp4-49_jpg.rf.9c1d8359286be990fd5f0568c9e45d86.jpg', 'test2_mp4-6_jpg.rf.7854ea55c88c26a6a3b349e31fcb9964.jpg', '5_mp4-4_jpg.rf.a9d56eba757aa96a9e1e7d70518133db.jpg', '14_mp4-20_jpg.rf.75c4d223b3e358d3a586fc0247467647.jpg', '11_mp4-11_jpg.rf.a91d87ce59dd7218384471b1ce58700a.jpg', '2_mp4-14_jpg.rf.20fcbefba4cdaad06e0b339a23f9db0a.jpg', '2_mp4-23_jpg.rf.d6c70bd918c7036dc4822fed74817bad.jpg', '8_mp4-20_jpg.rf.fb2946039ab2fa5483033e878241e22a.jpg', '5_mp4-6_jpg.rf.04e04ecd253fee0a91865546faf4f0d0.jpg', '12_mp4-26_jpg.rf.43acbba3d5b062f823f545eca92636fd.jpg', '8_mp4-25_jpg.rf.17b87829fcab7614f59da979438029f5.jpg', '10_mp4-2_jpg.rf.82a65b2ef22f38a52ab4a45b6734bd7f.jpg', '11_mp4-21_jpg.rf.92f54914eeac90df65bd9276453d6b5a.jpg', '8_mp4-41_jpg.rf.9f3b79836e8477ef0f9dc2122e2a34f2.jpg', 'test2_mp4-18_jpg.rf.232eb0c62531b8d80bc603479037dd19.jpg', 'test_mp4-14_jpg.rf.876c4d185778e2911d9694222fe005e6.jpg', '10_mp4-6_jpg.rf.1ccc4d77ec0dabdcecdce2ed942c886b.jpg', '5_mp4-0_jpg.rf.2696be0f494f104bce56016175f438dc.jpg', '10_mp4-27_jpg.rf.1b3ffdafb2f2340ccc9833ac3bc0bc1d.jpg', '8_mp4-26_jpg.rf.7b7e31f78015a7f36049680f550f53de.jpg', '12_mp4-7_jpg.rf.284c9be103a7a8ce600e4b551456f733.jpg', '13_mp4-8_jpg.rf.4b59181b0d71d00ba84f2925c6ed2413.jpg', '4_mp4-4_jpg.rf.ca75d1aeaccd71438b8befbcb0df4d13.jpg', '4_mp4-5_jpg.rf.2b8ca422636e50569ca285a2cc484759.jpg', '8_mp4-46_jpg.rf.3132ebe3a693515002395415e1ea853a.jpg', '12_mp4-31_jpg.rf.5d88ef0d5a371f82a813b901c42b454b.jpg', '6_mp4-33_jpg.rf.e6259974f6ff91def84d687db31b44d9.jpg', '12_mp4-25_jpg.rf.7d566fdc0a2fc6724202d8749dc7e42f.jpg', '13_mp4-13_jpg.rf.8a0240ede51d6ffd963d0cf7cf26eb3a.jpg', '2_mp4-20_jpg.rf.aab1691e52ece29104fede43c3134172.jpg', '10_mp4-28_jpg.rf.7d87467428bd81c5ec26717ae744e02f.jpg', '7_mp4-22_jpg.rf.06ab2e90e3e1413c2f364b87adde340e.jpg', '1_mp4-2_jpg.rf.a79f8eb621bf4ca2bef4cc2aa16f75e4.jpg', 'test3_mp4-2_jpg.rf.427a25cd37cd34579b0549254b76f8ed.jpg', '8_mp4-15_jpg.rf.203f38a51824a2752509ece8acd0a97b.jpg', 'test2_mp4-10_jpg.rf.560aea78ce9197590eeff18d206a0586.jpg', '3_mp4-5_jpg.rf.a16d871f4a42e0e4640d12c6222a3efe.jpg', '8_mp4-33_jpg.rf.f43198a40d00d999acb21250bb837256.jpg', '3_mp4-7_jpg.rf.a244ca9fac9c14239bd81b11985de853.jpg', '13_mp4-19_jpg.rf.ccad6f714b217391e28055f473cdcfc3.jpg', '14_mp4-4_jpg.rf.9ffe523f7e7e8e84bade81014fb428f3.jpg', 'test_mp4-6_jpg.rf.6980438ce0143b3d0874bf68e4bb00c5.jpg', '7_mp4-7_jpg.rf.56e4e81d0c272cf24f32de07ea200ae1.jpg', '11_mp4-3_jpg.rf.2b5cba201b56df739b95e501427ac5f1.jpg', '7_mp4-15_jpg.rf.81f129cc66a954087df13ff7468586b6.jpg', '11_mp4-30_jpg.rf.c72fb653509c4234b67115d6eeb6d282.jpg', '4_mp4-4_jpg.rf.23304bc14339e455081aba910b4167b9.jpg', '10_mp4-47_jpg.rf.e9259514eb111f8a8a33db5bea461edd.jpg', '8_mp4-41_jpg.rf.c935e1a4400371fbed4509e8a77e565a.jpg', '12_mp4-21_jpg.rf.1a76dc7688ec7362fcda9771f6607ebe.jpg', '10_mp4-15_jpg.rf.54247e977cdc30cf8b27ca8fb7b87871.jpg', '8_mp4-4_jpg.rf.939a7fd223a96cfe6ea6ce6b09be5767.jpg', '8_mp4-5_jpg.rf.c4d1431c00ae66465f5f43a3d1df4d8a.jpg', '16_mp4-0_jpg.rf.fff3fd2cdb4558d95c9737836ec78767.jpg', 'test_mp4-4_jpg.rf.c92ba4917bf77f870bd07eeac79fdfb1.jpg', '11_mp4-16_jpg.rf.a1b638ad4d949a9960b7a67a2c8e3316.jpg', 'test_mp4-3_jpg.rf.3e652b310a9473c4d6dcd132699b992c.jpg', 'test_mp4-7_jpg.rf.cf8fd6a7fc83868e8fcc8aa128eff9da.jpg', '14_mp4-22_jpg.rf.864085c1afac497201c5163fee862d09.jpg', 'test3_mp4-16_jpg.rf.545af2db76904c26b74606db905d934b.jpg', '8_mp4-4_jpg.rf.8f2767c92032b487e0abaaaa4dd1c986.jpg', '8_mp4-21_jpg.rf.614ac99808b2a87fe494591f6597ccf1.jpg', '12_mp4-28_jpg.rf.2eda7e5c85703d24599231e1ee9de874.jpg', 'test2_mp4-0_jpg.rf.18f380b2c42c9868eb11dea014818ee2.jpg', '10_mp4-19_jpg.rf.55b753da9e84a61ecdb1322c020e746f.jpg', 'test2_mp4-15_jpg.rf.908f4888d0fa2c7bde31ba6d17768cf8.jpg', '12_mp4-1_jpg.rf.0244caebff9c38f077c73832a1b99def.jpg', '8_mp4-34_jpg.rf.5628b69630116859633feaa1b4062547.jpg', '10_mp4-29_jpg.rf.11ac820cd8ab2ff5beac952edd73282b.jpg', '7_mp4-3_jpg.rf.014252f661a11036b7b07f7dc46b4af8.jpg', 'test3_mp4-1_jpg.rf.016315de09e8befd7cb08f04805bbe98.jpg', '11_mp4-16_jpg.rf.574de6263b4b33aa750d85b243d4671c.jpg', '14_mp4-26_jpg.rf.eded278a2f01b39511564084ee73fa19.jpg', '7_mp4-21_jpg.rf.d9c3d2e856caf2596bb5e7885a25ca1e.jpg', '6_mp4-6_jpg.rf.5baaaf56d93028a9c01bc7f1696d033e.jpg', '6_mp4-36_jpg.rf.af56a8b6ab65b8c0beb12417d94fbdf0.jpg', '13_mp4-14_jpg.rf.4408357b7b363f4bc01fa27757a03c30.jpg', '12_mp4-20_jpg.rf.f49080daab734a25af85d858615f1d1e.jpg', '14_mp4-23_jpg.rf.35d4eeb8b2fb62d88ceb22132b20a837.jpg', '11_mp4-5_jpg.rf.c386c42521081b541dc1d2de420dbd6c.jpg', '2_mp4-11_jpg.rf.730138939319fc38b0f80ebc71dfee4b.jpg', '8_mp4-44_jpg.rf.963a709ba0be12904630b0bb1b8d47b0.jpg', '5_mp4-2_jpg.rf.80ba24bc2c575533fd8859a640c4e6b7.jpg', '6_mp4-11_jpg.rf.daf2e6df3b3bc1aae86610a58bf141ba.jpg', '6_mp4-5_jpg.rf.01fa21980affb5eef495aeda9ea74e92.jpg', '14_mp4-11_jpg.rf.eb7a2f3c3bcf58091300f5af498e383e.jpg', '11_mp4-10_jpg.rf.ba5d481d1186cbc496fd795a04c802ae.jpg', '6_mp4-5_jpg.rf.ba3f856015d56022ad3a0d584216405e.jpg', '13_mp4-11_jpg.rf.c8a8aaf68131d29c1f69f862a45b61e8.jpg', '8_mp4-10_jpg.rf.9f85be68196c57cdc3e5caac4090ca8c.jpg', '14_mp4-18_jpg.rf.de728b4158742cd5145f798bb8f28f1f.jpg', '8_mp4-18_jpg.rf.540554c884e2af926805783564ef50f0.jpg', '12_mp4-21_jpg.rf.9d2986bb8a605563c3006bae400e21ff.jpg', '12_mp4-11_jpg.rf.d84d5d40e48a2cd2bb12b38cff026fea.jpg', '5_mp4-16_jpg.rf.35a8d10e978328cd1ab87e911169b0f9.jpg', '12_mp4-29_jpg.rf.742ce641675667f01b16cfb310113c24.jpg', 'test2_mp4-5_jpg.rf.4a09fadc41431ce8f47ec493e6607738.jpg', '14_mp4-11_jpg.rf.6e5c9bd73c7d36a6fb8e1a85d0c2edac.jpg', '5_mp4-18_jpg.rf.a100a7aa041746e8df5dbfa2898a2e57.jpg', '15_mp4-4_jpg.rf.42ed2a92f886524020cf13233fab7d2b.jpg', '6_mp4-28_jpg.rf.9a9bcb32780aa931718551884825de05.jpg', '6_mp4-17_jpg.rf.d95b42ea41270dad58df2fac3234fc4a.jpg', '3_mp4-23_jpg.rf.a5486e0d16b0c67ab2cd103acfe81673.jpg', '15_mp4-4_jpg.rf.798599fc657377631280430897f2b095.jpg', '8_mp4-17_jpg.rf.02e3d8a618f9ac724fa0c2f286c728b2.jpg', '5_mp4-12_jpg.rf.d85a9310d34099edbdeea033ad180682.jpg', '11_mp4-21_jpg.rf.de5170ee7fb8d7db8b639de3f87e6bb7.jpg', '10_mp4-26_jpg.rf.4a510cf9628a48a134aba5889a56a228.jpg', '6_mp4-22_jpg.rf.f7ac0d15e2d881abcfac5db4bcd85b93.jpg', '2_mp4-16_jpg.rf.4b04bbdd5fae04f213e3c91e9c4b1b7d.jpg', '3_mp4-18_jpg.rf.1a05f45fb34b0e4c4892bcdb677e0a07.jpg', '6_mp4-20_jpg.rf.fddf8750c1c1eaa6e43377e6e5028576.jpg', '8_mp4-38_jpg.rf.2ae3646242c4de70a9aae9f4ac23ef4a.jpg', '6_mp4-26_jpg.rf.feda78d82b8fd572031f985d42e89285.jpg', '14_mp4-20_jpg.rf.26e5de0273080c4d9ce394feed68f5c3.jpg', '3_mp4-7_jpg.rf.6a4f5863e2cbb994ec424cf728a19a6d.jpg', '10_mp4-48_jpg.rf.b136b51c70d8645bcb71e77a647c9c23.jpg', '14_mp4-16_jpg.rf.96743b16582cfefbb336e23cfc0ad137.jpg', '3_mp4-18_jpg.rf.28d1e7d7f63dc0f798602069d69e540a.jpg', '4_mp4-3_jpg.rf.24133af9a76ae8e25d2271059cd57edd.jpg', '2_mp4-12_jpg.rf.9e1176035b38e59879d9744521174cc9.jpg', '12_mp4-5_jpg.rf.6f4501c66d7db589329e2b0640a38263.jpg', '2_mp4-9_jpg.rf.a577fbe347e44a73a27f71bef2280343.jpg', '12_mp4-17_jpg.rf.6a153289ca1f5817e71ca17f37e1c8e3.jpg', '3_mp4-3_jpg.rf.2b61a5c3545c950fd089695695854054.jpg', '3_mp4-0_jpg.rf.486762d73755e270c07dd8cfbeb78c05.jpg', '12_mp4-19_jpg.rf.724f36e12cf0d5c0de056306b2d256d3.jpg', '6_mp4-3_jpg.rf.effcef40b551938436308ac1eef276bc.jpg', '14_mp4-16_jpg.rf.b6aa0a4716ba080dde464b36bb97c65c.jpg', 'test2_mp4-20_jpg.rf.5f56c19d629aec9af8972f03b80764b4.jpg', '2_mp4-7_jpg.rf.3631fb077f4c0843c63578b08a8c5260.jpg', '10_mp4-40_jpg.rf.d16cc80521ce7580afbf20eda5adf6d3.jpg', '14_mp4-19_jpg.rf.10897316d2e82a9221d952e5b6da6974.jpg', '10_mp4-10_jpg.rf.ba480b311472ef957256801c3766128a.jpg', '1_mp4-8_jpg.rf.2641280818f70f41aff18978dc2b189e.jpg', '8_mp4-13_jpg.rf.e8d40904585a9f6d53003e5ef8dbaaf1.jpg', '15_mp4-1_jpg.rf.4462bddda8bb6bd7cef780afdbd42a90.jpg', '2_mp4-0_jpg.rf.d84cf4982d8ec443445f3447ed2a8564.jpg', '12_mp4-9_jpg.rf.6ef67b89a1db64a28d72b3fc76166f18.jpg', '5_mp4-14_jpg.rf.28be876c6996527d359df0fe43306fc5.jpg', '4_mp4-10_jpg.rf.fba9a7a37f2fe9391b5ec792264618d7.jpg', '13_mp4-17_jpg.rf.603c58983348a69f340496081c7c175d.jpg', '12_mp4-8_jpg.rf.239f33195af4df09618f08d958997ef1.jpg', 'test_mp4-1_jpg.rf.4615955e7a34d3aba2cab0a6139833bf.jpg', '11_mp4-17_jpg.rf.33e375d128d7ce910854936b2175e4c6.jpg', '1_mp4-3_jpg.rf.f92d5d0c2629b03306c8fa91917f3ebf.jpg', '15_mp4-11_jpg.rf.d9560da9663dba2cc2e1c6cc0937ddab.jpg', '6_mp4-7_jpg.rf.436beb74d5ff663cd4a3169a6f142812.jpg', '4_mp4-6_jpg.rf.e6aea79b034a43ab502918189dff7d18.jpg', '6_mp4-11_jpg.rf.b7bd3f6daf1e3a43806fc9b03b2ecea5.jpg', 'test2_mp4-17_jpg.rf.87e0a998a8066c932ba7dce5edf06fbb.jpg', '12_mp4-4_jpg.rf.3e5daf1173313cc2c204b1384d04fee8.jpg', '7_mp4-3_jpg.rf.6dcd52cc1740426e79a54b65ffb993f8.jpg', 'test2_mp4-2_jpg.rf.22744ebb77d52a99c51ede00dca79dfe.jpg', '11_mp4-8_jpg.rf.76097ce0ac4ef6c0a569cae4a890a860.jpg', '14_mp4-25_jpg.rf.2a6c6c461210b5066240288447ce7606.jpg', '11_mp4-13_jpg.rf.38f130f1b50209662a12ccffdb286cfd.jpg', 'test_mp4-12_jpg.rf.b981a3feb29e09143cd2674237f43d68.jpg', 'test3_mp4-3_jpg.rf.91ab3bd359dbc8cfe7331b899161be52.jpg', '8_mp4-1_jpg.rf.68dd90fa012e2e4ef45f5031d02ed5cf.jpg', '15_mp4-1_jpg.rf.d9e25b0686dad85b97ebd560d917fb67.jpg', '8_mp4-31_jpg.rf.e7660e0606787d80a49f7c371a3a9432.jpg', '10_mp4-47_jpg.rf.c9acbc3f5131327b281f3c4efd496455.jpg', '7_mp4-0_jpg.rf.caff8c9896c6f6985f2dd82b83657e4e.jpg', '5_mp4-22_jpg.rf.aaa14b7c9dc5def67313b616114423dc.jpg', '10_mp4-43_jpg.rf.ff8ca37b90dd5b5f5fcd2f584a14ea69.jpg', '2_mp4-6_jpg.rf.f71d57005ef038823826288abf44279f.jpg', 'test_mp4-5_jpg.rf.26235610c8dea9da5c268fdccab4708d.jpg', '5_mp4-14_jpg.rf.00ee0a5c6158d66128aded7ba6c5e3c2.jpg', '11_mp4-22_jpg.rf.ad54dce64386ae27a580eaba4148fde4.jpg', '10_mp4-5_jpg.rf.4658c3b313fae76b64c72163de6ffa3a.jpg', '14_mp4-6_jpg.rf.ec7d015efb0295a10936351106b40fd0.jpg', '15_mp4-14_jpg.rf.b901a8e524e01d09ebfd38f6413c670d.jpg', '2_mp4-19_jpg.rf.1dad49c01e0d743b9a1836c6d0ee6854.jpg', '11_mp4-6_jpg.rf.0e2403b7629aac48f36b3f88118526e9.jpg', '8_mp4-24_jpg.rf.17ffb4f2519a46eef09a6ed06a532fa5.jpg', '5_mp4-17_jpg.rf.2e3ed9c1f0377b9c96f90eca8f4bdb89.jpg', '13_mp4-4_jpg.rf.ba0414f9ee92cf5450650e6ce58a28b1.jpg', '10_mp4-45_jpg.rf.5aaed7f7db29ad6c15a4b18a7ecc0b7e.jpg', '10_mp4-2_jpg.rf.0256336d7e7d945db5ddf335f3097b71.jpg', '8_mp4-11_jpg.rf.b6939bdda9abe332ee65b4672626d24b.jpg', 'test2_mp4-9_jpg.rf.2b090dabb9ec5f73bf37807b3500b3da.jpg', '1_mp4-6_jpg.rf.b1942799e938382319ad0a67b09f5737.jpg', '10_mp4-30_jpg.rf.b925fd8ed9bd23c8011292c6eda3e69b.jpg', '13_mp4-1_jpg.rf.e32506b2b1227a71abf30d5669e62a9a.jpg', '13_mp4-19_jpg.rf.545677168812e2d50c6902861373205c.jpg', '7_mp4-14_jpg.rf.f7d5ef7b266e19a8e20bec772d6de106.jpg', '14_mp4-27_jpg.rf.df581ec733941f4a8e951f4c03965299.jpg', '3_mp4-3_jpg.rf.4cd6ebd1fb8dd1a97e3320f0d63d02bb.jpg', '10_mp4-27_jpg.rf.130965de5fdc30b45137233ee4f810f5.jpg', '8_mp4-36_jpg.rf.4ecae1c1db8d348de07e4f6e9aeff577.jpg', '7_mp4-4_jpg.rf.86a25e64a8eb7928deb532b33d906cce.jpg', 'test3_mp4-15_jpg.rf.1fac3e2c2d15c1be7beeac54f1257278.jpg', '3_mp4-5_jpg.rf.a8c17d52a0abb8931cd0f7e3dfaaa42b.jpg', '10_mp4-11_jpg.rf.eb1b06090bd1c1814b87c18a2661990a.jpg', '8_mp4-2_jpg.rf.8462155edecc784ea2e3184fa218afb7.jpg', '14_mp4-29_jpg.rf.34ff90a6933dde0cddf6f6a4a92e5c8e.jpg', '15_mp4-3_jpg.rf.571ef78f735494ec58a6dc47ca2b24c1.jpg', '1_mp4-10_jpg.rf.7a30b632f34ed5187117135337e41faa.jpg', '8_mp4-21_jpg.rf.a7f38083157e21d4172d02da10ec8a42.jpg', '6_mp4-18_jpg.rf.a7d2bb35b6d0131ff01083f64244f27c.jpg', '6_mp4-34_jpg.rf.aa50d3efc81bf097dea5f5253c154aaf.jpg']\n",
            "------------------------------\n"
          ]
        }
      ]
    },
    {
      "cell_type": "code",
      "source": [
        "!pip install ultralytics"
      ],
      "metadata": {
        "colab": {
          "base_uri": "https://localhost:8080/"
        },
        "collapsed": true,
        "id": "wl_JXB_qC0H0",
        "outputId": "8ad171e8-c32f-4c3f-a37a-f7de80b85fa8"
      },
      "execution_count": 9,
      "outputs": [
        {
          "output_type": "stream",
          "name": "stdout",
          "text": [
            "Requirement already satisfied: ultralytics in /usr/local/lib/python3.11/dist-packages (8.3.160)\n",
            "Requirement already satisfied: numpy>=1.23.0 in /usr/local/lib/python3.11/dist-packages (from ultralytics) (2.0.2)\n",
            "Requirement already satisfied: matplotlib>=3.3.0 in /usr/local/lib/python3.11/dist-packages (from ultralytics) (3.10.0)\n",
            "Requirement already satisfied: opencv-python>=4.6.0 in /usr/local/lib/python3.11/dist-packages (from ultralytics) (4.11.0.86)\n",
            "Requirement already satisfied: pillow>=7.1.2 in /usr/local/lib/python3.11/dist-packages (from ultralytics) (11.2.1)\n",
            "Requirement already satisfied: pyyaml>=5.3.1 in /usr/local/lib/python3.11/dist-packages (from ultralytics) (6.0.2)\n",
            "Requirement already satisfied: requests>=2.23.0 in /usr/local/lib/python3.11/dist-packages (from ultralytics) (2.32.3)\n",
            "Requirement already satisfied: scipy>=1.4.1 in /usr/local/lib/python3.11/dist-packages (from ultralytics) (1.15.3)\n",
            "Requirement already satisfied: torch>=1.8.0 in /usr/local/lib/python3.11/dist-packages (from ultralytics) (2.6.0+cu124)\n",
            "Requirement already satisfied: torchvision>=0.9.0 in /usr/local/lib/python3.11/dist-packages (from ultralytics) (0.21.0+cu124)\n",
            "Requirement already satisfied: tqdm>=4.64.0 in /usr/local/lib/python3.11/dist-packages (from ultralytics) (4.67.1)\n",
            "Requirement already satisfied: psutil in /usr/local/lib/python3.11/dist-packages (from ultralytics) (5.9.5)\n",
            "Requirement already satisfied: py-cpuinfo in /usr/local/lib/python3.11/dist-packages (from ultralytics) (9.0.0)\n",
            "Requirement already satisfied: pandas>=1.1.4 in /usr/local/lib/python3.11/dist-packages (from ultralytics) (2.2.2)\n",
            "Requirement already satisfied: ultralytics-thop>=2.0.0 in /usr/local/lib/python3.11/dist-packages (from ultralytics) (2.0.14)\n",
            "Requirement already satisfied: contourpy>=1.0.1 in /usr/local/lib/python3.11/dist-packages (from matplotlib>=3.3.0->ultralytics) (1.3.2)\n",
            "Requirement already satisfied: cycler>=0.10 in /usr/local/lib/python3.11/dist-packages (from matplotlib>=3.3.0->ultralytics) (0.12.1)\n",
            "Requirement already satisfied: fonttools>=4.22.0 in /usr/local/lib/python3.11/dist-packages (from matplotlib>=3.3.0->ultralytics) (4.58.4)\n",
            "Requirement already satisfied: kiwisolver>=1.3.1 in /usr/local/lib/python3.11/dist-packages (from matplotlib>=3.3.0->ultralytics) (1.4.8)\n",
            "Requirement already satisfied: packaging>=20.0 in /usr/local/lib/python3.11/dist-packages (from matplotlib>=3.3.0->ultralytics) (24.2)\n",
            "Requirement already satisfied: pyparsing>=2.3.1 in /usr/local/lib/python3.11/dist-packages (from matplotlib>=3.3.0->ultralytics) (3.2.3)\n",
            "Requirement already satisfied: python-dateutil>=2.7 in /usr/local/lib/python3.11/dist-packages (from matplotlib>=3.3.0->ultralytics) (2.9.0.post0)\n",
            "Requirement already satisfied: pytz>=2020.1 in /usr/local/lib/python3.11/dist-packages (from pandas>=1.1.4->ultralytics) (2025.2)\n",
            "Requirement already satisfied: tzdata>=2022.7 in /usr/local/lib/python3.11/dist-packages (from pandas>=1.1.4->ultralytics) (2025.2)\n",
            "Requirement already satisfied: charset-normalizer<4,>=2 in /usr/local/lib/python3.11/dist-packages (from requests>=2.23.0->ultralytics) (3.4.2)\n",
            "Requirement already satisfied: idna<4,>=2.5 in /usr/local/lib/python3.11/dist-packages (from requests>=2.23.0->ultralytics) (3.10)\n",
            "Requirement already satisfied: urllib3<3,>=1.21.1 in /usr/local/lib/python3.11/dist-packages (from requests>=2.23.0->ultralytics) (2.4.0)\n",
            "Requirement already satisfied: certifi>=2017.4.17 in /usr/local/lib/python3.11/dist-packages (from requests>=2.23.0->ultralytics) (2025.6.15)\n",
            "Requirement already satisfied: filelock in /usr/local/lib/python3.11/dist-packages (from torch>=1.8.0->ultralytics) (3.18.0)\n",
            "Requirement already satisfied: typing-extensions>=4.10.0 in /usr/local/lib/python3.11/dist-packages (from torch>=1.8.0->ultralytics) (4.14.0)\n",
            "Requirement already satisfied: networkx in /usr/local/lib/python3.11/dist-packages (from torch>=1.8.0->ultralytics) (3.5)\n",
            "Requirement already satisfied: jinja2 in /usr/local/lib/python3.11/dist-packages (from torch>=1.8.0->ultralytics) (3.1.6)\n",
            "Requirement already satisfied: fsspec in /usr/local/lib/python3.11/dist-packages (from torch>=1.8.0->ultralytics) (2025.3.2)\n",
            "Requirement already satisfied: nvidia-cuda-nvrtc-cu12==12.4.127 in /usr/local/lib/python3.11/dist-packages (from torch>=1.8.0->ultralytics) (12.4.127)\n",
            "Requirement already satisfied: nvidia-cuda-runtime-cu12==12.4.127 in /usr/local/lib/python3.11/dist-packages (from torch>=1.8.0->ultralytics) (12.4.127)\n",
            "Requirement already satisfied: nvidia-cuda-cupti-cu12==12.4.127 in /usr/local/lib/python3.11/dist-packages (from torch>=1.8.0->ultralytics) (12.4.127)\n",
            "Requirement already satisfied: nvidia-cudnn-cu12==9.1.0.70 in /usr/local/lib/python3.11/dist-packages (from torch>=1.8.0->ultralytics) (9.1.0.70)\n",
            "Requirement already satisfied: nvidia-cublas-cu12==12.4.5.8 in /usr/local/lib/python3.11/dist-packages (from torch>=1.8.0->ultralytics) (12.4.5.8)\n",
            "Requirement already satisfied: nvidia-cufft-cu12==11.2.1.3 in /usr/local/lib/python3.11/dist-packages (from torch>=1.8.0->ultralytics) (11.2.1.3)\n",
            "Requirement already satisfied: nvidia-curand-cu12==10.3.5.147 in /usr/local/lib/python3.11/dist-packages (from torch>=1.8.0->ultralytics) (10.3.5.147)\n",
            "Requirement already satisfied: nvidia-cusolver-cu12==11.6.1.9 in /usr/local/lib/python3.11/dist-packages (from torch>=1.8.0->ultralytics) (11.6.1.9)\n",
            "Requirement already satisfied: nvidia-cusparse-cu12==12.3.1.170 in /usr/local/lib/python3.11/dist-packages (from torch>=1.8.0->ultralytics) (12.3.1.170)\n",
            "Requirement already satisfied: nvidia-cusparselt-cu12==0.6.2 in /usr/local/lib/python3.11/dist-packages (from torch>=1.8.0->ultralytics) (0.6.2)\n",
            "Requirement already satisfied: nvidia-nccl-cu12==2.21.5 in /usr/local/lib/python3.11/dist-packages (from torch>=1.8.0->ultralytics) (2.21.5)\n",
            "Requirement already satisfied: nvidia-nvtx-cu12==12.4.127 in /usr/local/lib/python3.11/dist-packages (from torch>=1.8.0->ultralytics) (12.4.127)\n",
            "Requirement already satisfied: nvidia-nvjitlink-cu12==12.4.127 in /usr/local/lib/python3.11/dist-packages (from torch>=1.8.0->ultralytics) (12.4.127)\n",
            "Requirement already satisfied: triton==3.2.0 in /usr/local/lib/python3.11/dist-packages (from torch>=1.8.0->ultralytics) (3.2.0)\n",
            "Requirement already satisfied: sympy==1.13.1 in /usr/local/lib/python3.11/dist-packages (from torch>=1.8.0->ultralytics) (1.13.1)\n",
            "Requirement already satisfied: mpmath<1.4,>=1.1.0 in /usr/local/lib/python3.11/dist-packages (from sympy==1.13.1->torch>=1.8.0->ultralytics) (1.3.0)\n",
            "Requirement already satisfied: six>=1.5 in /usr/local/lib/python3.11/dist-packages (from python-dateutil>=2.7->matplotlib>=3.3.0->ultralytics) (1.17.0)\n",
            "Requirement already satisfied: MarkupSafe>=2.0 in /usr/local/lib/python3.11/dist-packages (from jinja2->torch>=1.8.0->ultralytics) (3.0.2)\n"
          ]
        }
      ]
    },
    {
      "cell_type": "code",
      "source": [
        "from ultralytics import YOLO\n",
        "\n",
        "model = YOLO('yolov8n.pt')\n",
        "\n",
        "model.train(\n",
        "    data='/kaggle/input/top-view-vehicle-detection-image-dataset/Vehicle_Detection_Image_Dataset/data.yaml',\n",
        "    epochs = 15,\n",
        "    imgsz = 640,\n",
        "    batch = 10,\n",
        "    patience = 3\n",
        "\n",
        ")"
      ],
      "metadata": {
        "id": "pDWFJnvlC9c3",
        "colab": {
          "base_uri": "https://localhost:8080/"
        },
        "outputId": "f89223b6-25b1-492f-e1fa-b0bcd523442d"
      },
      "execution_count": 10,
      "outputs": [
        {
          "output_type": "stream",
          "name": "stdout",
          "text": [
            "Ultralytics 8.3.160 🚀 Python-3.11.13 torch-2.6.0+cu124 CUDA:0 (Tesla T4, 15095MiB)\n",
            "\u001b[34m\u001b[1mengine/trainer: \u001b[0magnostic_nms=False, amp=True, augment=False, auto_augment=randaugment, batch=10, bgr=0.0, box=7.5, cache=False, cfg=None, classes=None, close_mosaic=10, cls=0.5, conf=None, copy_paste=0.0, copy_paste_mode=flip, cos_lr=False, cutmix=0.0, data=/kaggle/input/top-view-vehicle-detection-image-dataset/Vehicle_Detection_Image_Dataset/data.yaml, degrees=0.0, deterministic=True, device=None, dfl=1.5, dnn=False, dropout=0.0, dynamic=False, embed=None, epochs=15, erasing=0.4, exist_ok=False, fliplr=0.5, flipud=0.0, format=torchscript, fraction=1.0, freeze=None, half=False, hsv_h=0.015, hsv_s=0.7, hsv_v=0.4, imgsz=640, int8=False, iou=0.7, keras=False, kobj=1.0, line_width=None, lr0=0.01, lrf=0.01, mask_ratio=4, max_det=300, mixup=0.0, mode=train, model=yolov8n.pt, momentum=0.937, mosaic=1.0, multi_scale=False, name=train2, nbs=64, nms=False, opset=None, optimize=False, optimizer=auto, overlap_mask=True, patience=3, perspective=0.0, plots=True, pose=12.0, pretrained=True, profile=False, project=None, rect=False, resume=False, retina_masks=False, save=True, save_conf=False, save_crop=False, save_dir=runs/detect/train2, save_frames=False, save_json=False, save_period=-1, save_txt=False, scale=0.5, seed=0, shear=0.0, show=False, show_boxes=True, show_conf=True, show_labels=True, simplify=True, single_cls=False, source=None, split=val, stream_buffer=False, task=detect, time=None, tracker=botsort.yaml, translate=0.1, val=True, verbose=True, vid_stride=1, visualize=False, warmup_bias_lr=0.1, warmup_epochs=3.0, warmup_momentum=0.8, weight_decay=0.0005, workers=8, workspace=None\n",
            "Downloading https://ultralytics.com/assets/Arial.ttf to '/root/.config/Ultralytics/Arial.ttf'...\n"
          ]
        },
        {
          "output_type": "stream",
          "name": "stderr",
          "text": [
            "100%|██████████| 755k/755k [00:00<00:00, 117MB/s]"
          ]
        },
        {
          "output_type": "stream",
          "name": "stdout",
          "text": [
            "Overriding model.yaml nc=80 with nc=1\n",
            "\n",
            "                   from  n    params  module                                       arguments                     \n",
            "  0                  -1  1       464  ultralytics.nn.modules.conv.Conv             [3, 16, 3, 2]                 \n",
            "  1                  -1  1      4672  ultralytics.nn.modules.conv.Conv             [16, 32, 3, 2]                \n",
            "  2                  -1  1      7360  ultralytics.nn.modules.block.C2f             [32, 32, 1, True]             \n",
            "  3                  -1  1     18560  ultralytics.nn.modules.conv.Conv             [32, 64, 3, 2]                \n",
            "  4                  -1  2     49664  ultralytics.nn.modules.block.C2f             [64, 64, 2, True]             \n",
            "  5                  -1  1     73984  ultralytics.nn.modules.conv.Conv             [64, 128, 3, 2]               \n",
            "  6                  -1  2    197632  ultralytics.nn.modules.block.C2f             [128, 128, 2, True]           \n",
            "  7                  -1  1    295424  ultralytics.nn.modules.conv.Conv             [128, 256, 3, 2]              \n",
            "  8                  -1  1    460288  ultralytics.nn.modules.block.C2f             [256, 256, 1, True]           \n",
            "  9                  -1  1    164608  ultralytics.nn.modules.block.SPPF            [256, 256, 5]                 \n",
            " 10                  -1  1         0  torch.nn.modules.upsampling.Upsample         [None, 2, 'nearest']          \n",
            " 11             [-1, 6]  1         0  ultralytics.nn.modules.conv.Concat           [1]                           \n",
            " 12                  -1  1    148224  ultralytics.nn.modules.block.C2f             [384, 128, 1]                 \n",
            " 13                  -1  1         0  torch.nn.modules.upsampling.Upsample         [None, 2, 'nearest']          \n",
            " 14             [-1, 4]  1         0  ultralytics.nn.modules.conv.Concat           [1]                           \n",
            " 15                  -1  1     37248  ultralytics.nn.modules.block.C2f             [192, 64, 1]                  \n",
            " 16                  -1  1     36992  ultralytics.nn.modules.conv.Conv             [64, 64, 3, 2]                \n",
            " 17            [-1, 12]  1         0  ultralytics.nn.modules.conv.Concat           [1]                           \n",
            " 18                  -1  1    123648  ultralytics.nn.modules.block.C2f             [192, 128, 1]                 \n",
            " 19                  -1  1    147712  ultralytics.nn.modules.conv.Conv             [128, 128, 3, 2]              \n",
            " 20             [-1, 9]  1         0  ultralytics.nn.modules.conv.Concat           [1]                           \n",
            " 21                  -1  1    493056  ultralytics.nn.modules.block.C2f             [384, 256, 1]                 \n",
            " 22        [15, 18, 21]  1    751507  ultralytics.nn.modules.head.Detect           [1, [64, 128, 256]]           \n"
          ]
        },
        {
          "output_type": "stream",
          "name": "stderr",
          "text": [
            "\n"
          ]
        },
        {
          "output_type": "stream",
          "name": "stdout",
          "text": [
            "Model summary: 129 layers, 3,011,043 parameters, 3,011,027 gradients, 8.2 GFLOPs\n",
            "\n",
            "Transferred 319/355 items from pretrained weights\n",
            "Freezing layer 'model.22.dfl.conv.weight'\n",
            "\u001b[34m\u001b[1mAMP: \u001b[0mrunning Automatic Mixed Precision (AMP) checks...\n",
            "Downloading https://github.com/ultralytics/assets/releases/download/v8.3.0/yolo11n.pt to 'yolo11n.pt'...\n"
          ]
        },
        {
          "output_type": "stream",
          "name": "stderr",
          "text": [
            "100%|██████████| 5.35M/5.35M [00:00<00:00, 341MB/s]\n"
          ]
        },
        {
          "output_type": "stream",
          "name": "stdout",
          "text": [
            "\u001b[34m\u001b[1mAMP: \u001b[0mchecks passed ✅\n",
            "\u001b[34m\u001b[1mtrain: \u001b[0mFast image access ✅ (ping: 0.4±0.1 ms, read: 8.6±5.3 MB/s, size: 57.5 KB)\n"
          ]
        },
        {
          "output_type": "stream",
          "name": "stderr",
          "text": [
            "\u001b[34m\u001b[1mtrain: \u001b[0mScanning /kaggle/input/top-view-vehicle-detection-image-dataset/Vehicle_Detection_Image_Dataset/train/labels... 536 images, 0 backgrounds, 0 corrupt: 100%|██████████| 536/536 [00:03<00:00, 135.68it/s]"
          ]
        },
        {
          "output_type": "stream",
          "name": "stdout",
          "text": [
            "WARNING ⚠️ \u001b[34m\u001b[1mtrain: \u001b[0mCache directory /kaggle/input/top-view-vehicle-detection-image-dataset/Vehicle_Detection_Image_Dataset/train is not writeable, cache not saved.\n"
          ]
        },
        {
          "output_type": "stream",
          "name": "stderr",
          "text": [
            "\n"
          ]
        },
        {
          "output_type": "stream",
          "name": "stdout",
          "text": [
            "\u001b[34m\u001b[1malbumentations: \u001b[0mBlur(p=0.01, blur_limit=(3, 7)), MedianBlur(p=0.01, blur_limit=(3, 7)), ToGray(p=0.01, method='weighted_average', num_output_channels=3), CLAHE(p=0.01, clip_limit=(1.0, 4.0), tile_grid_size=(8, 8))\n",
            "\u001b[34m\u001b[1mval: \u001b[0mFast image access ✅ (ping: 0.4±0.1 ms, read: 16.2±8.4 MB/s, size: 57.6 KB)\n"
          ]
        },
        {
          "output_type": "stream",
          "name": "stderr",
          "text": [
            "\u001b[34m\u001b[1mval: \u001b[0mScanning /kaggle/input/top-view-vehicle-detection-image-dataset/Vehicle_Detection_Image_Dataset/valid/labels... 90 images, 0 backgrounds, 0 corrupt: 100%|██████████| 90/90 [00:00<00:00, 134.16it/s]"
          ]
        },
        {
          "output_type": "stream",
          "name": "stdout",
          "text": [
            "WARNING ⚠️ \u001b[34m\u001b[1mval: \u001b[0mCache directory /kaggle/input/top-view-vehicle-detection-image-dataset/Vehicle_Detection_Image_Dataset/valid is not writeable, cache not saved.\n"
          ]
        },
        {
          "output_type": "stream",
          "name": "stderr",
          "text": [
            "\n"
          ]
        },
        {
          "output_type": "stream",
          "name": "stdout",
          "text": [
            "Plotting labels to runs/detect/train2/labels.jpg... \n",
            "\u001b[34m\u001b[1moptimizer:\u001b[0m 'optimizer=auto' found, ignoring 'lr0=0.01' and 'momentum=0.937' and determining best 'optimizer', 'lr0' and 'momentum' automatically... \n",
            "\u001b[34m\u001b[1moptimizer:\u001b[0m AdamW(lr=0.002, momentum=0.9) with parameter groups 57 weight(decay=0.0), 64 weight(decay=0.00046875), 63 bias(decay=0.0)\n",
            "Image sizes 640 train, 640 val\n",
            "Using 2 dataloader workers\n",
            "Logging results to \u001b[1mruns/detect/train2\u001b[0m\n",
            "Starting training for 15 epochs...\n",
            "\n",
            "      Epoch    GPU_mem   box_loss   cls_loss   dfl_loss  Instances       Size\n"
          ]
        },
        {
          "output_type": "stream",
          "name": "stderr",
          "text": [
            "       1/15      1.61G      1.272      1.646      1.028        148        640: 100%|██████████| 54/54 [00:13<00:00,  4.06it/s]\n",
            "                 Class     Images  Instances      Box(P          R      mAP50  mAP50-95): 100%|██████████| 5/5 [00:02<00:00,  2.46it/s]"
          ]
        },
        {
          "output_type": "stream",
          "name": "stdout",
          "text": [
            "                   all         90        937      0.959      0.273      0.648       0.42\n"
          ]
        },
        {
          "output_type": "stream",
          "name": "stderr",
          "text": [
            "\n"
          ]
        },
        {
          "output_type": "stream",
          "name": "stdout",
          "text": [
            "\n",
            "      Epoch    GPU_mem   box_loss   cls_loss   dfl_loss  Instances       Size\n"
          ]
        },
        {
          "output_type": "stream",
          "name": "stderr",
          "text": [
            "       2/15      1.73G      1.192       1.01       1.02         84        640: 100%|██████████| 54/54 [00:11<00:00,  4.58it/s]\n",
            "                 Class     Images  Instances      Box(P          R      mAP50  mAP50-95): 100%|██████████| 5/5 [00:01<00:00,  4.54it/s]"
          ]
        },
        {
          "output_type": "stream",
          "name": "stdout",
          "text": [
            "                   all         90        937      0.527      0.647      0.535      0.365\n"
          ]
        },
        {
          "output_type": "stream",
          "name": "stderr",
          "text": [
            "\n"
          ]
        },
        {
          "output_type": "stream",
          "name": "stdout",
          "text": [
            "\n",
            "      Epoch    GPU_mem   box_loss   cls_loss   dfl_loss  Instances       Size\n"
          ]
        },
        {
          "output_type": "stream",
          "name": "stderr",
          "text": [
            "       3/15      1.75G      1.188     0.9124      1.019         58        640: 100%|██████████| 54/54 [00:10<00:00,  4.99it/s]\n",
            "                 Class     Images  Instances      Box(P          R      mAP50  mAP50-95): 100%|██████████| 5/5 [00:00<00:00,  5.31it/s]"
          ]
        },
        {
          "output_type": "stream",
          "name": "stdout",
          "text": [
            "                   all         90        937      0.836      0.887      0.918      0.633\n"
          ]
        },
        {
          "output_type": "stream",
          "name": "stderr",
          "text": [
            "\n"
          ]
        },
        {
          "output_type": "stream",
          "name": "stdout",
          "text": [
            "\n",
            "      Epoch    GPU_mem   box_loss   cls_loss   dfl_loss  Instances       Size\n"
          ]
        },
        {
          "output_type": "stream",
          "name": "stderr",
          "text": [
            "       4/15      1.76G      1.132     0.8293     0.9933         98        640: 100%|██████████| 54/54 [00:10<00:00,  5.02it/s]\n",
            "                 Class     Images  Instances      Box(P          R      mAP50  mAP50-95): 100%|██████████| 5/5 [00:01<00:00,  4.76it/s]"
          ]
        },
        {
          "output_type": "stream",
          "name": "stdout",
          "text": [
            "                   all         90        937      0.867      0.905      0.937      0.656\n"
          ]
        },
        {
          "output_type": "stream",
          "name": "stderr",
          "text": [
            "\n"
          ]
        },
        {
          "output_type": "stream",
          "name": "stdout",
          "text": [
            "\n",
            "      Epoch    GPU_mem   box_loss   cls_loss   dfl_loss  Instances       Size\n"
          ]
        },
        {
          "output_type": "stream",
          "name": "stderr",
          "text": [
            "       5/15      1.78G      1.114     0.7975     0.9951         59        640: 100%|██████████| 54/54 [00:10<00:00,  5.06it/s]\n",
            "                 Class     Images  Instances      Box(P          R      mAP50  mAP50-95): 100%|██████████| 5/5 [00:01<00:00,  4.87it/s]"
          ]
        },
        {
          "output_type": "stream",
          "name": "stdout",
          "text": [
            "                   all         90        937      0.814      0.914      0.905      0.599\n"
          ]
        },
        {
          "output_type": "stream",
          "name": "stderr",
          "text": [
            "\n"
          ]
        },
        {
          "output_type": "stream",
          "name": "stdout",
          "text": [
            "Closing dataloader mosaic\n",
            "\u001b[34m\u001b[1malbumentations: \u001b[0mBlur(p=0.01, blur_limit=(3, 7)), MedianBlur(p=0.01, blur_limit=(3, 7)), ToGray(p=0.01, method='weighted_average', num_output_channels=3), CLAHE(p=0.01, clip_limit=(1.0, 4.0), tile_grid_size=(8, 8))\n",
            "\n",
            "      Epoch    GPU_mem   box_loss   cls_loss   dfl_loss  Instances       Size\n"
          ]
        },
        {
          "output_type": "stream",
          "name": "stderr",
          "text": [
            "       6/15       1.8G      1.089     0.8065     0.9946         39        640: 100%|██████████| 54/54 [00:11<00:00,  4.76it/s]\n",
            "                 Class     Images  Instances      Box(P          R      mAP50  mAP50-95): 100%|██████████| 5/5 [00:01<00:00,  4.98it/s]"
          ]
        },
        {
          "output_type": "stream",
          "name": "stdout",
          "text": [
            "                   all         90        937      0.879      0.879      0.936       0.65\n"
          ]
        },
        {
          "output_type": "stream",
          "name": "stderr",
          "text": [
            "\n"
          ]
        },
        {
          "output_type": "stream",
          "name": "stdout",
          "text": [
            "\n",
            "      Epoch    GPU_mem   box_loss   cls_loss   dfl_loss  Instances       Size\n"
          ]
        },
        {
          "output_type": "stream",
          "name": "stderr",
          "text": [
            "       7/15      1.82G      1.087     0.7457      0.999         39        640: 100%|██████████| 54/54 [00:10<00:00,  5.21it/s]\n",
            "                 Class     Images  Instances      Box(P          R      mAP50  mAP50-95): 100%|██████████| 5/5 [00:00<00:00,  5.44it/s]"
          ]
        },
        {
          "output_type": "stream",
          "name": "stdout",
          "text": [
            "                   all         90        937      0.864      0.892      0.944      0.658\n"
          ]
        },
        {
          "output_type": "stream",
          "name": "stderr",
          "text": [
            "\n"
          ]
        },
        {
          "output_type": "stream",
          "name": "stdout",
          "text": [
            "\n",
            "      Epoch    GPU_mem   box_loss   cls_loss   dfl_loss  Instances       Size\n"
          ]
        },
        {
          "output_type": "stream",
          "name": "stderr",
          "text": [
            "       8/15      1.83G      1.059     0.6947     0.9806         98        640: 100%|██████████| 54/54 [00:10<00:00,  5.33it/s]\n",
            "                 Class     Images  Instances      Box(P          R      mAP50  mAP50-95): 100%|██████████| 5/5 [00:00<00:00,  5.06it/s]"
          ]
        },
        {
          "output_type": "stream",
          "name": "stdout",
          "text": [
            "                   all         90        937      0.897      0.885       0.95       0.68\n"
          ]
        },
        {
          "output_type": "stream",
          "name": "stderr",
          "text": [
            "\n"
          ]
        },
        {
          "output_type": "stream",
          "name": "stdout",
          "text": [
            "\n",
            "      Epoch    GPU_mem   box_loss   cls_loss   dfl_loss  Instances       Size\n"
          ]
        },
        {
          "output_type": "stream",
          "name": "stderr",
          "text": [
            "       9/15      1.85G      1.058     0.6758     0.9819         73        640: 100%|██████████| 54/54 [00:10<00:00,  5.31it/s]\n",
            "                 Class     Images  Instances      Box(P          R      mAP50  mAP50-95): 100%|██████████| 5/5 [00:01<00:00,  4.75it/s]"
          ]
        },
        {
          "output_type": "stream",
          "name": "stdout",
          "text": [
            "                   all         90        937      0.907      0.911      0.964       0.68\n"
          ]
        },
        {
          "output_type": "stream",
          "name": "stderr",
          "text": [
            "\n"
          ]
        },
        {
          "output_type": "stream",
          "name": "stdout",
          "text": [
            "\n",
            "      Epoch    GPU_mem   box_loss   cls_loss   dfl_loss  Instances       Size\n"
          ]
        },
        {
          "output_type": "stream",
          "name": "stderr",
          "text": [
            "      10/15      1.87G      1.021     0.6332     0.9669         51        640: 100%|██████████| 54/54 [00:08<00:00,  6.04it/s]\n",
            "                 Class     Images  Instances      Box(P          R      mAP50  mAP50-95): 100%|██████████| 5/5 [00:01<00:00,  3.30it/s]"
          ]
        },
        {
          "output_type": "stream",
          "name": "stdout",
          "text": [
            "                   all         90        937       0.89      0.936       0.97      0.707\n"
          ]
        },
        {
          "output_type": "stream",
          "name": "stderr",
          "text": [
            "\n"
          ]
        },
        {
          "output_type": "stream",
          "name": "stdout",
          "text": [
            "\n",
            "      Epoch    GPU_mem   box_loss   cls_loss   dfl_loss  Instances       Size\n"
          ]
        },
        {
          "output_type": "stream",
          "name": "stderr",
          "text": [
            "      11/15      1.88G      1.009     0.6235     0.9682         72        640: 100%|██████████| 54/54 [00:09<00:00,  5.73it/s]\n",
            "                 Class     Images  Instances      Box(P          R      mAP50  mAP50-95): 100%|██████████| 5/5 [00:00<00:00,  5.93it/s]"
          ]
        },
        {
          "output_type": "stream",
          "name": "stdout",
          "text": [
            "                   all         90        937      0.914      0.911      0.968      0.701\n"
          ]
        },
        {
          "output_type": "stream",
          "name": "stderr",
          "text": [
            "\n"
          ]
        },
        {
          "output_type": "stream",
          "name": "stdout",
          "text": [
            "\n",
            "      Epoch    GPU_mem   box_loss   cls_loss   dfl_loss  Instances       Size\n"
          ]
        },
        {
          "output_type": "stream",
          "name": "stderr",
          "text": [
            "      12/15       1.9G     0.9966     0.6048     0.9629         56        640: 100%|██████████| 54/54 [00:10<00:00,  5.38it/s]\n",
            "                 Class     Images  Instances      Box(P          R      mAP50  mAP50-95): 100%|██████████| 5/5 [00:00<00:00,  5.41it/s]"
          ]
        },
        {
          "output_type": "stream",
          "name": "stdout",
          "text": [
            "                   all         90        937      0.905      0.924      0.964      0.703\n"
          ]
        },
        {
          "output_type": "stream",
          "name": "stderr",
          "text": [
            "\n"
          ]
        },
        {
          "output_type": "stream",
          "name": "stdout",
          "text": [
            "\n",
            "      Epoch    GPU_mem   box_loss   cls_loss   dfl_loss  Instances       Size\n"
          ]
        },
        {
          "output_type": "stream",
          "name": "stderr",
          "text": [
            "      13/15      1.92G     0.9808      0.589     0.9638         71        640: 100%|██████████| 54/54 [00:10<00:00,  5.28it/s]\n",
            "                 Class     Images  Instances      Box(P          R      mAP50  mAP50-95): 100%|██████████| 5/5 [00:00<00:00,  5.16it/s]"
          ]
        },
        {
          "output_type": "stream",
          "name": "stdout",
          "text": [
            "                   all         90        937      0.903      0.913      0.966      0.695\n",
            "\u001b[34m\u001b[1mEarlyStopping: \u001b[0mTraining stopped early as no improvement observed in last 3 epochs. Best results observed at epoch 10, best model saved as best.pt.\n",
            "To update EarlyStopping(patience=3) pass a new patience value, i.e. `patience=300` or use `patience=0` to disable EarlyStopping.\n"
          ]
        },
        {
          "output_type": "stream",
          "name": "stderr",
          "text": [
            "\n"
          ]
        },
        {
          "output_type": "stream",
          "name": "stdout",
          "text": [
            "\n",
            "13 epochs completed in 0.044 hours.\n",
            "Optimizer stripped from runs/detect/train2/weights/last.pt, 6.2MB\n",
            "Optimizer stripped from runs/detect/train2/weights/best.pt, 6.2MB\n",
            "\n",
            "Validating runs/detect/train2/weights/best.pt...\n",
            "Ultralytics 8.3.160 🚀 Python-3.11.13 torch-2.6.0+cu124 CUDA:0 (Tesla T4, 15095MiB)\n",
            "Model summary (fused): 72 layers, 3,005,843 parameters, 0 gradients, 8.1 GFLOPs\n"
          ]
        },
        {
          "output_type": "stream",
          "name": "stderr",
          "text": [
            "                 Class     Images  Instances      Box(P          R      mAP50  mAP50-95): 100%|██████████| 5/5 [00:03<00:00,  1.52it/s]\n"
          ]
        },
        {
          "output_type": "stream",
          "name": "stdout",
          "text": [
            "                   all         90        937       0.89      0.936       0.97      0.707\n",
            "Speed: 0.5ms preprocess, 3.6ms inference, 0.0ms loss, 6.3ms postprocess per image\n",
            "Results saved to \u001b[1mruns/detect/train2\u001b[0m\n"
          ]
        },
        {
          "output_type": "execute_result",
          "data": {
            "text/plain": [
              "ultralytics.utils.metrics.DetMetrics object with attributes:\n",
              "\n",
              "ap_class_index: array([0])\n",
              "box: ultralytics.utils.metrics.Metric object\n",
              "confusion_matrix: <ultralytics.utils.metrics.ConfusionMatrix object at 0x7db30ad76150>\n",
              "curves: ['Precision-Recall(B)', 'F1-Confidence(B)', 'Precision-Confidence(B)', 'Recall-Confidence(B)']\n",
              "curves_results: [[array([          0,    0.001001,    0.002002,    0.003003,    0.004004,    0.005005,    0.006006,    0.007007,    0.008008,    0.009009,     0.01001,    0.011011,    0.012012,    0.013013,    0.014014,    0.015015,    0.016016,    0.017017,    0.018018,    0.019019,     0.02002,    0.021021,    0.022022,    0.023023,\n",
              "          0.024024,    0.025025,    0.026026,    0.027027,    0.028028,    0.029029,     0.03003,    0.031031,    0.032032,    0.033033,    0.034034,    0.035035,    0.036036,    0.037037,    0.038038,    0.039039,     0.04004,    0.041041,    0.042042,    0.043043,    0.044044,    0.045045,    0.046046,    0.047047,\n",
              "          0.048048,    0.049049,     0.05005,    0.051051,    0.052052,    0.053053,    0.054054,    0.055055,    0.056056,    0.057057,    0.058058,    0.059059,     0.06006,    0.061061,    0.062062,    0.063063,    0.064064,    0.065065,    0.066066,    0.067067,    0.068068,    0.069069,     0.07007,    0.071071,\n",
              "          0.072072,    0.073073,    0.074074,    0.075075,    0.076076,    0.077077,    0.078078,    0.079079,     0.08008,    0.081081,    0.082082,    0.083083,    0.084084,    0.085085,    0.086086,    0.087087,    0.088088,    0.089089,     0.09009,    0.091091,    0.092092,    0.093093,    0.094094,    0.095095,\n",
              "          0.096096,    0.097097,    0.098098,    0.099099,      0.1001,      0.1011,      0.1021,      0.1031,      0.1041,     0.10511,     0.10611,     0.10711,     0.10811,     0.10911,     0.11011,     0.11111,     0.11211,     0.11311,     0.11411,     0.11512,     0.11612,     0.11712,     0.11812,     0.11912,\n",
              "           0.12012,     0.12112,     0.12212,     0.12312,     0.12412,     0.12513,     0.12613,     0.12713,     0.12813,     0.12913,     0.13013,     0.13113,     0.13213,     0.13313,     0.13413,     0.13514,     0.13614,     0.13714,     0.13814,     0.13914,     0.14014,     0.14114,     0.14214,     0.14314,\n",
              "           0.14414,     0.14515,     0.14615,     0.14715,     0.14815,     0.14915,     0.15015,     0.15115,     0.15215,     0.15315,     0.15415,     0.15516,     0.15616,     0.15716,     0.15816,     0.15916,     0.16016,     0.16116,     0.16216,     0.16316,     0.16416,     0.16517,     0.16617,     0.16717,\n",
              "           0.16817,     0.16917,     0.17017,     0.17117,     0.17217,     0.17317,     0.17417,     0.17518,     0.17618,     0.17718,     0.17818,     0.17918,     0.18018,     0.18118,     0.18218,     0.18318,     0.18418,     0.18519,     0.18619,     0.18719,     0.18819,     0.18919,     0.19019,     0.19119,\n",
              "           0.19219,     0.19319,     0.19419,      0.1952,      0.1962,      0.1972,      0.1982,      0.1992,      0.2002,      0.2012,      0.2022,      0.2032,      0.2042,     0.20521,     0.20621,     0.20721,     0.20821,     0.20921,     0.21021,     0.21121,     0.21221,     0.21321,     0.21421,     0.21522,\n",
              "           0.21622,     0.21722,     0.21822,     0.21922,     0.22022,     0.22122,     0.22222,     0.22322,     0.22422,     0.22523,     0.22623,     0.22723,     0.22823,     0.22923,     0.23023,     0.23123,     0.23223,     0.23323,     0.23423,     0.23524,     0.23624,     0.23724,     0.23824,     0.23924,\n",
              "           0.24024,     0.24124,     0.24224,     0.24324,     0.24424,     0.24525,     0.24625,     0.24725,     0.24825,     0.24925,     0.25025,     0.25125,     0.25225,     0.25325,     0.25425,     0.25526,     0.25626,     0.25726,     0.25826,     0.25926,     0.26026,     0.26126,     0.26226,     0.26326,\n",
              "           0.26426,     0.26527,     0.26627,     0.26727,     0.26827,     0.26927,     0.27027,     0.27127,     0.27227,     0.27327,     0.27427,     0.27528,     0.27628,     0.27728,     0.27828,     0.27928,     0.28028,     0.28128,     0.28228,     0.28328,     0.28428,     0.28529,     0.28629,     0.28729,\n",
              "           0.28829,     0.28929,     0.29029,     0.29129,     0.29229,     0.29329,     0.29429,      0.2953,      0.2963,      0.2973,      0.2983,      0.2993,      0.3003,      0.3013,      0.3023,      0.3033,      0.3043,     0.30531,     0.30631,     0.30731,     0.30831,     0.30931,     0.31031,     0.31131,\n",
              "           0.31231,     0.31331,     0.31431,     0.31532,     0.31632,     0.31732,     0.31832,     0.31932,     0.32032,     0.32132,     0.32232,     0.32332,     0.32432,     0.32533,     0.32633,     0.32733,     0.32833,     0.32933,     0.33033,     0.33133,     0.33233,     0.33333,     0.33433,     0.33534,\n",
              "           0.33634,     0.33734,     0.33834,     0.33934,     0.34034,     0.34134,     0.34234,     0.34334,     0.34434,     0.34535,     0.34635,     0.34735,     0.34835,     0.34935,     0.35035,     0.35135,     0.35235,     0.35335,     0.35435,     0.35536,     0.35636,     0.35736,     0.35836,     0.35936,\n",
              "           0.36036,     0.36136,     0.36236,     0.36336,     0.36436,     0.36537,     0.36637,     0.36737,     0.36837,     0.36937,     0.37037,     0.37137,     0.37237,     0.37337,     0.37437,     0.37538,     0.37638,     0.37738,     0.37838,     0.37938,     0.38038,     0.38138,     0.38238,     0.38338,\n",
              "           0.38438,     0.38539,     0.38639,     0.38739,     0.38839,     0.38939,     0.39039,     0.39139,     0.39239,     0.39339,     0.39439,      0.3954,      0.3964,      0.3974,      0.3984,      0.3994,      0.4004,      0.4014,      0.4024,      0.4034,      0.4044,     0.40541,     0.40641,     0.40741,\n",
              "           0.40841,     0.40941,     0.41041,     0.41141,     0.41241,     0.41341,     0.41441,     0.41542,     0.41642,     0.41742,     0.41842,     0.41942,     0.42042,     0.42142,     0.42242,     0.42342,     0.42442,     0.42543,     0.42643,     0.42743,     0.42843,     0.42943,     0.43043,     0.43143,\n",
              "           0.43243,     0.43343,     0.43443,     0.43544,     0.43644,     0.43744,     0.43844,     0.43944,     0.44044,     0.44144,     0.44244,     0.44344,     0.44444,     0.44545,     0.44645,     0.44745,     0.44845,     0.44945,     0.45045,     0.45145,     0.45245,     0.45345,     0.45445,     0.45546,\n",
              "           0.45646,     0.45746,     0.45846,     0.45946,     0.46046,     0.46146,     0.46246,     0.46346,     0.46446,     0.46547,     0.46647,     0.46747,     0.46847,     0.46947,     0.47047,     0.47147,     0.47247,     0.47347,     0.47447,     0.47548,     0.47648,     0.47748,     0.47848,     0.47948,\n",
              "           0.48048,     0.48148,     0.48248,     0.48348,     0.48448,     0.48549,     0.48649,     0.48749,     0.48849,     0.48949,     0.49049,     0.49149,     0.49249,     0.49349,     0.49449,      0.4955,      0.4965,      0.4975,      0.4985,      0.4995,      0.5005,      0.5015,      0.5025,      0.5035,\n",
              "            0.5045,     0.50551,     0.50651,     0.50751,     0.50851,     0.50951,     0.51051,     0.51151,     0.51251,     0.51351,     0.51451,     0.51552,     0.51652,     0.51752,     0.51852,     0.51952,     0.52052,     0.52152,     0.52252,     0.52352,     0.52452,     0.52553,     0.52653,     0.52753,\n",
              "           0.52853,     0.52953,     0.53053,     0.53153,     0.53253,     0.53353,     0.53453,     0.53554,     0.53654,     0.53754,     0.53854,     0.53954,     0.54054,     0.54154,     0.54254,     0.54354,     0.54454,     0.54555,     0.54655,     0.54755,     0.54855,     0.54955,     0.55055,     0.55155,\n",
              "           0.55255,     0.55355,     0.55455,     0.55556,     0.55656,     0.55756,     0.55856,     0.55956,     0.56056,     0.56156,     0.56256,     0.56356,     0.56456,     0.56557,     0.56657,     0.56757,     0.56857,     0.56957,     0.57057,     0.57157,     0.57257,     0.57357,     0.57457,     0.57558,\n",
              "           0.57658,     0.57758,     0.57858,     0.57958,     0.58058,     0.58158,     0.58258,     0.58358,     0.58458,     0.58559,     0.58659,     0.58759,     0.58859,     0.58959,     0.59059,     0.59159,     0.59259,     0.59359,     0.59459,      0.5956,      0.5966,      0.5976,      0.5986,      0.5996,\n",
              "            0.6006,      0.6016,      0.6026,      0.6036,      0.6046,     0.60561,     0.60661,     0.60761,     0.60861,     0.60961,     0.61061,     0.61161,     0.61261,     0.61361,     0.61461,     0.61562,     0.61662,     0.61762,     0.61862,     0.61962,     0.62062,     0.62162,     0.62262,     0.62362,\n",
              "           0.62462,     0.62563,     0.62663,     0.62763,     0.62863,     0.62963,     0.63063,     0.63163,     0.63263,     0.63363,     0.63463,     0.63564,     0.63664,     0.63764,     0.63864,     0.63964,     0.64064,     0.64164,     0.64264,     0.64364,     0.64464,     0.64565,     0.64665,     0.64765,\n",
              "           0.64865,     0.64965,     0.65065,     0.65165,     0.65265,     0.65365,     0.65465,     0.65566,     0.65666,     0.65766,     0.65866,     0.65966,     0.66066,     0.66166,     0.66266,     0.66366,     0.66466,     0.66567,     0.66667,     0.66767,     0.66867,     0.66967,     0.67067,     0.67167,\n",
              "           0.67267,     0.67367,     0.67467,     0.67568,     0.67668,     0.67768,     0.67868,     0.67968,     0.68068,     0.68168,     0.68268,     0.68368,     0.68468,     0.68569,     0.68669,     0.68769,     0.68869,     0.68969,     0.69069,     0.69169,     0.69269,     0.69369,     0.69469,      0.6957,\n",
              "            0.6967,      0.6977,      0.6987,      0.6997,      0.7007,      0.7017,      0.7027,      0.7037,      0.7047,     0.70571,     0.70671,     0.70771,     0.70871,     0.70971,     0.71071,     0.71171,     0.71271,     0.71371,     0.71471,     0.71572,     0.71672,     0.71772,     0.71872,     0.71972,\n",
              "           0.72072,     0.72172,     0.72272,     0.72372,     0.72472,     0.72573,     0.72673,     0.72773,     0.72873,     0.72973,     0.73073,     0.73173,     0.73273,     0.73373,     0.73473,     0.73574,     0.73674,     0.73774,     0.73874,     0.73974,     0.74074,     0.74174,     0.74274,     0.74374,\n",
              "           0.74474,     0.74575,     0.74675,     0.74775,     0.74875,     0.74975,     0.75075,     0.75175,     0.75275,     0.75375,     0.75475,     0.75576,     0.75676,     0.75776,     0.75876,     0.75976,     0.76076,     0.76176,     0.76276,     0.76376,     0.76476,     0.76577,     0.76677,     0.76777,\n",
              "           0.76877,     0.76977,     0.77077,     0.77177,     0.77277,     0.77377,     0.77477,     0.77578,     0.77678,     0.77778,     0.77878,     0.77978,     0.78078,     0.78178,     0.78278,     0.78378,     0.78478,     0.78579,     0.78679,     0.78779,     0.78879,     0.78979,     0.79079,     0.79179,\n",
              "           0.79279,     0.79379,     0.79479,      0.7958,      0.7968,      0.7978,      0.7988,      0.7998,      0.8008,      0.8018,      0.8028,      0.8038,      0.8048,     0.80581,     0.80681,     0.80781,     0.80881,     0.80981,     0.81081,     0.81181,     0.81281,     0.81381,     0.81481,     0.81582,\n",
              "           0.81682,     0.81782,     0.81882,     0.81982,     0.82082,     0.82182,     0.82282,     0.82382,     0.82482,     0.82583,     0.82683,     0.82783,     0.82883,     0.82983,     0.83083,     0.83183,     0.83283,     0.83383,     0.83483,     0.83584,     0.83684,     0.83784,     0.83884,     0.83984,\n",
              "           0.84084,     0.84184,     0.84284,     0.84384,     0.84484,     0.84585,     0.84685,     0.84785,     0.84885,     0.84985,     0.85085,     0.85185,     0.85285,     0.85385,     0.85485,     0.85586,     0.85686,     0.85786,     0.85886,     0.85986,     0.86086,     0.86186,     0.86286,     0.86386,\n",
              "           0.86486,     0.86587,     0.86687,     0.86787,     0.86887,     0.86987,     0.87087,     0.87187,     0.87287,     0.87387,     0.87487,     0.87588,     0.87688,     0.87788,     0.87888,     0.87988,     0.88088,     0.88188,     0.88288,     0.88388,     0.88488,     0.88589,     0.88689,     0.88789,\n",
              "           0.88889,     0.88989,     0.89089,     0.89189,     0.89289,     0.89389,     0.89489,      0.8959,      0.8969,      0.8979,      0.8989,      0.8999,      0.9009,      0.9019,      0.9029,      0.9039,      0.9049,     0.90591,     0.90691,     0.90791,     0.90891,     0.90991,     0.91091,     0.91191,\n",
              "           0.91291,     0.91391,     0.91491,     0.91592,     0.91692,     0.91792,     0.91892,     0.91992,     0.92092,     0.92192,     0.92292,     0.92392,     0.92492,     0.92593,     0.92693,     0.92793,     0.92893,     0.92993,     0.93093,     0.93193,     0.93293,     0.93393,     0.93493,     0.93594,\n",
              "           0.93694,     0.93794,     0.93894,     0.93994,     0.94094,     0.94194,     0.94294,     0.94394,     0.94494,     0.94595,     0.94695,     0.94795,     0.94895,     0.94995,     0.95095,     0.95195,     0.95295,     0.95395,     0.95495,     0.95596,     0.95696,     0.95796,     0.95896,     0.95996,\n",
              "           0.96096,     0.96196,     0.96296,     0.96396,     0.96496,     0.96597,     0.96697,     0.96797,     0.96897,     0.96997,     0.97097,     0.97197,     0.97297,     0.97397,     0.97497,     0.97598,     0.97698,     0.97798,     0.97898,     0.97998,     0.98098,     0.98198,     0.98298,     0.98398,\n",
              "           0.98498,     0.98599,     0.98699,     0.98799,     0.98899,     0.98999,     0.99099,     0.99199,     0.99299,     0.99399,     0.99499,       0.996,       0.997,       0.998,       0.999,           1]), array([[          1,           1,           1,           1,           1,           1,           1,           1,           1,           1,           1,           1,           1,           1,           1,           1,           1,           1,           1,           1,           1,           1,           1,\n",
              "                  1,           1,           1,           1,           1,           1,           1,           1,           1,           1,           1,           1,           1,           1,           1,           1,           1,           1,           1,           1,           1,           1,           1,\n",
              "                  1,           1,           1,           1,           1,           1,           1,           1,           1,           1,           1,           1,           1,           1,           1,           1,           1,           1,           1,           1,           1,           1,           1,\n",
              "                  1,           1,           1,           1,           1,           1,           1,           1,           1,           1,           1,           1,           1,           1,           1,           1,           1,           1,           1,           1,           1,           1,           1,\n",
              "                  1,           1,           1,           1,           1,           1,           1,           1,           1,           1,           1,           1,           1,           1,           1,           1,           1,           1,           1,           1,           1,           1,           1,\n",
              "                  1,           1,           1,           1,           1,           1,           1,           1,           1,           1,           1,           1,           1,           1,           1,           1,           1,           1,           1,           1,           1,           1,           1,\n",
              "                  1,           1,           1,           1,           1,           1,           1,           1,           1,           1,           1,           1,           1,           1,           1,           1,           1,           1,           1,           1,           1,           1,           1,\n",
              "                  1,           1,           1,           1,           1,           1,           1,           1,           1,           1,           1,           1,           1,           1,           1,           1,           1,           1,           1,           1,           1,           1,           1,\n",
              "                  1,           1,           1,           1,           1,           1,           1,           1,           1,           1,           1,           1,           1,           1,           1,           1,           1,           1,           1,           1,           1,           1,           1,\n",
              "                  1,           1,           1,           1,           1,           1,           1,           1,           1,           1,           1,           1,           1,           1,           1,           1,           1,           1,           1,           1,           1,           1,           1,\n",
              "                  1,           1,           1,           1,           1,           1,           1,           1,           1,           1,           1,           1,           1,           1,           1,           1,           1,           1,           1,           1,           1,           1,           1,\n",
              "                  1,           1,           1,           1,           1,           1,           1,           1,           1,           1,           1,           1,           1,           1,     0.99724,     0.99724,     0.99724,     0.99724,     0.99724,     0.99724,     0.99724,     0.99724,     0.99724,\n",
              "            0.99724,     0.99724,     0.99724,     0.99724,     0.99724,     0.99724,     0.99724,     0.99724,     0.99724,     0.99724,     0.99724,     0.99724,     0.99724,     0.99724,     0.99724,     0.99724,     0.99724,     0.99724,     0.99724,     0.99724,     0.99724,     0.99724,     0.99724,\n",
              "            0.99724,     0.99724,     0.99724,     0.99724,     0.99724,     0.99724,     0.99724,     0.99724,     0.99724,     0.99724,     0.99724,     0.99724,     0.99724,     0.99724,     0.99724,     0.99724,     0.99724,     0.99724,     0.99724,     0.99724,     0.99724,     0.99724,     0.99724,\n",
              "            0.99724,     0.99724,     0.99724,     0.99724,     0.99724,     0.99724,     0.99724,     0.99724,     0.99724,     0.99724,     0.99724,     0.99724,     0.99724,     0.99724,     0.99724,     0.99724,     0.99724,     0.99724,     0.99724,     0.99724,     0.99724,     0.99724,     0.99724,\n",
              "            0.99724,     0.99724,     0.99724,     0.99724,     0.99724,     0.99724,     0.99724,     0.99724,     0.99724,     0.99724,     0.99724,     0.99724,     0.99724,     0.99724,     0.99724,     0.99724,     0.99724,     0.99724,     0.99724,     0.99724,     0.99724,     0.99724,     0.99724,\n",
              "            0.99724,     0.99724,     0.99724,     0.99724,     0.99724,     0.99724,     0.99724,     0.99724,     0.99724,     0.99724,     0.99724,     0.99724,     0.99724,     0.99724,     0.99724,     0.99724,     0.99724,     0.99534,     0.99534,     0.99534,     0.99534,     0.99534,     0.99534,\n",
              "            0.99534,     0.99534,     0.99534,     0.99534,     0.99534,     0.99534,     0.99534,     0.99534,     0.99534,     0.99534,     0.99534,     0.99534,     0.99534,     0.99534,     0.99534,     0.99534,     0.99534,     0.99534,     0.99534,     0.99534,     0.99534,     0.99534,     0.99534,\n",
              "            0.99534,     0.99534,     0.99534,     0.99534,     0.99534,     0.99534,     0.99534,     0.99534,     0.99534,     0.99534,     0.99534,     0.99534,     0.99534,     0.99534,     0.99534,     0.99534,     0.99534,     0.99534,     0.99534,     0.99534,     0.99534,     0.99534,     0.99534,\n",
              "            0.99534,     0.99534,     0.99534,     0.99534,     0.99534,     0.99534,     0.99534,     0.99534,     0.99534,     0.99534,     0.99534,     0.99534,     0.99534,     0.99534,     0.99534,     0.99534,     0.99534,     0.99534,     0.99534,     0.99352,     0.99352,     0.99352,     0.99352,\n",
              "            0.99352,     0.99352,     0.99352,     0.99352,     0.99352,     0.99352,     0.99352,     0.99352,     0.99352,     0.99352,     0.99352,     0.99352,     0.99352,     0.99352,     0.99352,     0.99352,     0.99352,     0.99352,     0.99352,     0.99352,     0.99352,     0.99352,     0.99352,\n",
              "            0.99352,     0.99352,     0.99352,     0.99352,     0.99352,     0.99352,     0.99352,     0.99352,     0.99255,     0.99255,     0.99255,     0.99255,     0.99255,     0.99255,     0.99255,     0.99255,     0.99255,     0.99255,     0.99255,     0.99255,     0.99255,     0.99255,     0.99255,\n",
              "            0.99255,     0.99255,     0.99255,     0.99255,     0.99255,     0.99255,     0.99255,     0.99255,     0.99255,     0.99255,     0.99255,     0.99255,     0.99255,     0.99255,     0.99255,     0.99255,     0.99255,     0.99255,     0.99255,     0.99255,     0.99255,     0.99255,     0.99255,\n",
              "            0.99255,     0.99255,     0.99255,     0.99255,     0.99255,     0.99255,     0.99255,     0.99255,     0.99255,     0.99255,     0.99255,     0.99255,     0.99255,     0.99255,     0.99255,     0.99255,     0.99255,     0.99255,     0.99255,     0.99255,     0.99255,     0.99255,     0.99255,\n",
              "            0.99255,     0.99255,     0.99255,     0.99255,     0.99255,     0.99255,     0.99255,     0.99255,     0.99255,     0.99255,     0.99255,     0.99255,     0.99255,     0.99255,     0.99255,     0.99255,     0.99255,     0.99121,     0.99121,     0.99121,     0.99121,     0.99121,     0.99121,\n",
              "            0.99121,     0.99121,     0.99121,     0.99121,     0.99121,     0.99121,     0.99121,     0.99121,     0.99121,     0.99121,     0.99121,     0.99121,     0.99121,     0.99121,     0.99121,     0.99121,     0.99121,     0.99121,     0.99121,     0.99121,     0.99121,     0.99121,     0.99121,\n",
              "            0.99121,     0.99121,     0.99121,     0.99121,     0.99034,     0.99034,     0.99034,     0.99034,     0.99034,     0.99034,     0.99034,     0.99034,     0.99034,     0.99034,     0.99034,     0.99034,     0.99034,     0.99034,     0.99034,     0.99034,     0.99034,     0.99034,     0.99034,\n",
              "            0.99034,     0.99034,     0.99034,     0.99034,     0.99034,     0.99034,     0.99034,     0.99034,     0.99034,     0.99034,     0.99034,     0.99034,     0.99034,     0.99034,     0.99034,     0.99034,     0.99034,     0.99034,     0.99034,     0.99034,     0.99034,     0.99034,     0.99034,\n",
              "            0.99034,     0.99034,     0.99034,     0.99034,     0.99034,     0.99034,     0.99034,     0.99034,     0.99034,     0.99034,     0.99034,     0.99034,      0.9872,      0.9872,     0.98408,     0.98259,     0.98259,     0.98259,     0.98259,     0.98107,     0.98083,     0.98083,     0.98083,\n",
              "            0.98083,     0.98083,     0.98083,     0.98083,     0.98083,     0.98083,     0.98083,     0.98083,     0.98083,     0.98083,     0.98083,     0.98083,     0.98083,     0.98083,     0.98083,     0.98083,     0.98083,     0.98083,     0.98083,     0.98083,     0.98083,     0.98083,     0.98083,\n",
              "            0.98083,     0.98083,     0.98083,     0.98083,     0.98083,     0.98083,     0.98083,     0.98083,     0.98083,     0.98083,     0.98083,     0.98083,     0.98083,     0.98083,     0.98083,     0.98083,     0.98083,     0.98083,     0.98083,     0.98083,     0.97989,     0.97989,     0.97989,\n",
              "            0.97989,     0.97989,     0.97989,     0.97989,     0.97989,     0.97989,     0.97989,     0.97989,     0.97989,     0.97989,     0.97989,     0.97989,     0.97989,     0.97989,     0.97989,     0.97866,     0.97866,     0.97866,     0.97866,     0.97866,     0.97866,     0.97737,     0.97737,\n",
              "            0.97737,     0.97658,     0.97658,     0.97658,     0.97658,     0.97658,     0.97658,     0.97658,     0.97658,     0.97658,     0.97658,     0.97658,     0.97658,     0.97658,     0.97658,     0.97658,     0.97658,     0.97658,     0.97658,     0.97658,     0.97538,     0.97538,     0.97538,\n",
              "            0.97538,     0.97538,     0.97436,     0.97436,     0.97436,     0.97436,     0.97436,     0.97436,     0.97436,     0.97436,     0.97436,     0.97308,     0.97181,     0.97063,     0.97063,     0.97063,     0.97063,     0.97036,     0.97036,     0.97036,     0.97036,     0.97036,     0.97036,\n",
              "            0.97036,     0.97036,     0.97036,     0.97036,     0.97036,     0.97036,     0.97036,     0.97036,     0.97036,     0.97036,     0.97036,     0.97036,     0.97036,     0.97036,     0.97036,     0.97036,     0.97036,     0.97036,     0.97036,     0.97036,     0.97036,     0.96919,     0.96919,\n",
              "            0.96803,     0.96803,     0.96803,     0.96684,     0.96565,     0.96465,     0.96465,     0.96465,     0.96465,     0.96465,     0.96357,     0.96357,     0.96357,     0.96255,     0.96255,     0.96255,     0.96255,     0.96255,     0.96144,     0.96144,     0.96035,     0.96035,     0.95926,\n",
              "            0.95926,     0.95833,     0.95833,     0.95833,     0.95833,     0.95833,     0.95737,     0.95737,     0.95737,     0.95737,     0.95737,     0.95515,     0.95515,     0.95405,     0.95324,     0.95324,     0.95324,     0.95324,     0.95324,     0.95324,     0.95244,     0.95244,     0.95244,\n",
              "            0.95244,     0.95244,     0.95244,     0.95244,     0.95142,     0.95142,     0.94607,     0.94607,     0.94607,     0.94607,     0.94522,     0.94522,     0.94522,     0.94522,      0.9409,     0.94002,     0.94002,     0.94002,     0.93901,     0.93629,     0.93629,     0.93629,     0.93629,\n",
              "            0.93629,     0.93629,     0.93629,     0.93629,     0.93446,     0.93446,     0.93446,     0.93446,     0.93348,     0.92937,     0.92786,     0.92786,     0.92786,     0.92786,     0.92786,     0.92786,     0.92786,     0.92786,     0.92691,     0.92605,     0.92605,     0.92409,     0.92316,\n",
              "            0.92148,     0.92148,     0.92148,     0.92148,     0.91983,     0.91983,     0.91983,     0.91983,     0.91983,     0.91793,     0.91703,     0.91515,     0.91337,     0.91337,     0.90957,      0.9089,      0.9089,      0.9089,     0.90803,     0.90641,     0.90641,     0.90641,     0.90641,\n",
              "            0.90323,     0.90323,     0.90323,     0.90323,     0.90323,     0.90323,     0.90239,     0.89969,     0.89528,     0.89528,     0.89355,     0.89195,     0.89195,     0.89036,     0.89036,     0.89036,     0.88956,     0.88878,      0.8881,      0.8881,     0.88755,     0.88755,     0.88755,\n",
              "              0.885,     0.88247,     0.87996,     0.87921,     0.87255,     0.87255,     0.87012,      0.8694,      0.8694,     0.86712,     0.86712,     0.85742,     0.85742,     0.84783,     0.84637,     0.84413,     0.84127,     0.84127,     0.83057,     0.82844,     0.82784,     0.82423,     0.81402,\n",
              "            0.80766,     0.80766,     0.79528,     0.79528,     0.79149,     0.79149,     0.78929,     0.78929,     0.78929,     0.78879,      0.7883,     0.78712,     0.77797,      0.7775,     0.77572,     0.77136,     0.76642,     0.76642,      0.7603,     0.75614,     0.75326,     0.75223,     0.73223,\n",
              "            0.72557,     0.70272,     0.69145,     0.68557,     0.62383,     0.50928,     0.42493,     0.42079,     0.41107,     0.31517,           0]]), 'Recall', 'Precision'], [array([          0,    0.001001,    0.002002,    0.003003,    0.004004,    0.005005,    0.006006,    0.007007,    0.008008,    0.009009,     0.01001,    0.011011,    0.012012,    0.013013,    0.014014,    0.015015,    0.016016,    0.017017,    0.018018,    0.019019,     0.02002,    0.021021,    0.022022,    0.023023,\n",
              "          0.024024,    0.025025,    0.026026,    0.027027,    0.028028,    0.029029,     0.03003,    0.031031,    0.032032,    0.033033,    0.034034,    0.035035,    0.036036,    0.037037,    0.038038,    0.039039,     0.04004,    0.041041,    0.042042,    0.043043,    0.044044,    0.045045,    0.046046,    0.047047,\n",
              "          0.048048,    0.049049,     0.05005,    0.051051,    0.052052,    0.053053,    0.054054,    0.055055,    0.056056,    0.057057,    0.058058,    0.059059,     0.06006,    0.061061,    0.062062,    0.063063,    0.064064,    0.065065,    0.066066,    0.067067,    0.068068,    0.069069,     0.07007,    0.071071,\n",
              "          0.072072,    0.073073,    0.074074,    0.075075,    0.076076,    0.077077,    0.078078,    0.079079,     0.08008,    0.081081,    0.082082,    0.083083,    0.084084,    0.085085,    0.086086,    0.087087,    0.088088,    0.089089,     0.09009,    0.091091,    0.092092,    0.093093,    0.094094,    0.095095,\n",
              "          0.096096,    0.097097,    0.098098,    0.099099,      0.1001,      0.1011,      0.1021,      0.1031,      0.1041,     0.10511,     0.10611,     0.10711,     0.10811,     0.10911,     0.11011,     0.11111,     0.11211,     0.11311,     0.11411,     0.11512,     0.11612,     0.11712,     0.11812,     0.11912,\n",
              "           0.12012,     0.12112,     0.12212,     0.12312,     0.12412,     0.12513,     0.12613,     0.12713,     0.12813,     0.12913,     0.13013,     0.13113,     0.13213,     0.13313,     0.13413,     0.13514,     0.13614,     0.13714,     0.13814,     0.13914,     0.14014,     0.14114,     0.14214,     0.14314,\n",
              "           0.14414,     0.14515,     0.14615,     0.14715,     0.14815,     0.14915,     0.15015,     0.15115,     0.15215,     0.15315,     0.15415,     0.15516,     0.15616,     0.15716,     0.15816,     0.15916,     0.16016,     0.16116,     0.16216,     0.16316,     0.16416,     0.16517,     0.16617,     0.16717,\n",
              "           0.16817,     0.16917,     0.17017,     0.17117,     0.17217,     0.17317,     0.17417,     0.17518,     0.17618,     0.17718,     0.17818,     0.17918,     0.18018,     0.18118,     0.18218,     0.18318,     0.18418,     0.18519,     0.18619,     0.18719,     0.18819,     0.18919,     0.19019,     0.19119,\n",
              "           0.19219,     0.19319,     0.19419,      0.1952,      0.1962,      0.1972,      0.1982,      0.1992,      0.2002,      0.2012,      0.2022,      0.2032,      0.2042,     0.20521,     0.20621,     0.20721,     0.20821,     0.20921,     0.21021,     0.21121,     0.21221,     0.21321,     0.21421,     0.21522,\n",
              "           0.21622,     0.21722,     0.21822,     0.21922,     0.22022,     0.22122,     0.22222,     0.22322,     0.22422,     0.22523,     0.22623,     0.22723,     0.22823,     0.22923,     0.23023,     0.23123,     0.23223,     0.23323,     0.23423,     0.23524,     0.23624,     0.23724,     0.23824,     0.23924,\n",
              "           0.24024,     0.24124,     0.24224,     0.24324,     0.24424,     0.24525,     0.24625,     0.24725,     0.24825,     0.24925,     0.25025,     0.25125,     0.25225,     0.25325,     0.25425,     0.25526,     0.25626,     0.25726,     0.25826,     0.25926,     0.26026,     0.26126,     0.26226,     0.26326,\n",
              "           0.26426,     0.26527,     0.26627,     0.26727,     0.26827,     0.26927,     0.27027,     0.27127,     0.27227,     0.27327,     0.27427,     0.27528,     0.27628,     0.27728,     0.27828,     0.27928,     0.28028,     0.28128,     0.28228,     0.28328,     0.28428,     0.28529,     0.28629,     0.28729,\n",
              "           0.28829,     0.28929,     0.29029,     0.29129,     0.29229,     0.29329,     0.29429,      0.2953,      0.2963,      0.2973,      0.2983,      0.2993,      0.3003,      0.3013,      0.3023,      0.3033,      0.3043,     0.30531,     0.30631,     0.30731,     0.30831,     0.30931,     0.31031,     0.31131,\n",
              "           0.31231,     0.31331,     0.31431,     0.31532,     0.31632,     0.31732,     0.31832,     0.31932,     0.32032,     0.32132,     0.32232,     0.32332,     0.32432,     0.32533,     0.32633,     0.32733,     0.32833,     0.32933,     0.33033,     0.33133,     0.33233,     0.33333,     0.33433,     0.33534,\n",
              "           0.33634,     0.33734,     0.33834,     0.33934,     0.34034,     0.34134,     0.34234,     0.34334,     0.34434,     0.34535,     0.34635,     0.34735,     0.34835,     0.34935,     0.35035,     0.35135,     0.35235,     0.35335,     0.35435,     0.35536,     0.35636,     0.35736,     0.35836,     0.35936,\n",
              "           0.36036,     0.36136,     0.36236,     0.36336,     0.36436,     0.36537,     0.36637,     0.36737,     0.36837,     0.36937,     0.37037,     0.37137,     0.37237,     0.37337,     0.37437,     0.37538,     0.37638,     0.37738,     0.37838,     0.37938,     0.38038,     0.38138,     0.38238,     0.38338,\n",
              "           0.38438,     0.38539,     0.38639,     0.38739,     0.38839,     0.38939,     0.39039,     0.39139,     0.39239,     0.39339,     0.39439,      0.3954,      0.3964,      0.3974,      0.3984,      0.3994,      0.4004,      0.4014,      0.4024,      0.4034,      0.4044,     0.40541,     0.40641,     0.40741,\n",
              "           0.40841,     0.40941,     0.41041,     0.41141,     0.41241,     0.41341,     0.41441,     0.41542,     0.41642,     0.41742,     0.41842,     0.41942,     0.42042,     0.42142,     0.42242,     0.42342,     0.42442,     0.42543,     0.42643,     0.42743,     0.42843,     0.42943,     0.43043,     0.43143,\n",
              "           0.43243,     0.43343,     0.43443,     0.43544,     0.43644,     0.43744,     0.43844,     0.43944,     0.44044,     0.44144,     0.44244,     0.44344,     0.44444,     0.44545,     0.44645,     0.44745,     0.44845,     0.44945,     0.45045,     0.45145,     0.45245,     0.45345,     0.45445,     0.45546,\n",
              "           0.45646,     0.45746,     0.45846,     0.45946,     0.46046,     0.46146,     0.46246,     0.46346,     0.46446,     0.46547,     0.46647,     0.46747,     0.46847,     0.46947,     0.47047,     0.47147,     0.47247,     0.47347,     0.47447,     0.47548,     0.47648,     0.47748,     0.47848,     0.47948,\n",
              "           0.48048,     0.48148,     0.48248,     0.48348,     0.48448,     0.48549,     0.48649,     0.48749,     0.48849,     0.48949,     0.49049,     0.49149,     0.49249,     0.49349,     0.49449,      0.4955,      0.4965,      0.4975,      0.4985,      0.4995,      0.5005,      0.5015,      0.5025,      0.5035,\n",
              "            0.5045,     0.50551,     0.50651,     0.50751,     0.50851,     0.50951,     0.51051,     0.51151,     0.51251,     0.51351,     0.51451,     0.51552,     0.51652,     0.51752,     0.51852,     0.51952,     0.52052,     0.52152,     0.52252,     0.52352,     0.52452,     0.52553,     0.52653,     0.52753,\n",
              "           0.52853,     0.52953,     0.53053,     0.53153,     0.53253,     0.53353,     0.53453,     0.53554,     0.53654,     0.53754,     0.53854,     0.53954,     0.54054,     0.54154,     0.54254,     0.54354,     0.54454,     0.54555,     0.54655,     0.54755,     0.54855,     0.54955,     0.55055,     0.55155,\n",
              "           0.55255,     0.55355,     0.55455,     0.55556,     0.55656,     0.55756,     0.55856,     0.55956,     0.56056,     0.56156,     0.56256,     0.56356,     0.56456,     0.56557,     0.56657,     0.56757,     0.56857,     0.56957,     0.57057,     0.57157,     0.57257,     0.57357,     0.57457,     0.57558,\n",
              "           0.57658,     0.57758,     0.57858,     0.57958,     0.58058,     0.58158,     0.58258,     0.58358,     0.58458,     0.58559,     0.58659,     0.58759,     0.58859,     0.58959,     0.59059,     0.59159,     0.59259,     0.59359,     0.59459,      0.5956,      0.5966,      0.5976,      0.5986,      0.5996,\n",
              "            0.6006,      0.6016,      0.6026,      0.6036,      0.6046,     0.60561,     0.60661,     0.60761,     0.60861,     0.60961,     0.61061,     0.61161,     0.61261,     0.61361,     0.61461,     0.61562,     0.61662,     0.61762,     0.61862,     0.61962,     0.62062,     0.62162,     0.62262,     0.62362,\n",
              "           0.62462,     0.62563,     0.62663,     0.62763,     0.62863,     0.62963,     0.63063,     0.63163,     0.63263,     0.63363,     0.63463,     0.63564,     0.63664,     0.63764,     0.63864,     0.63964,     0.64064,     0.64164,     0.64264,     0.64364,     0.64464,     0.64565,     0.64665,     0.64765,\n",
              "           0.64865,     0.64965,     0.65065,     0.65165,     0.65265,     0.65365,     0.65465,     0.65566,     0.65666,     0.65766,     0.65866,     0.65966,     0.66066,     0.66166,     0.66266,     0.66366,     0.66466,     0.66567,     0.66667,     0.66767,     0.66867,     0.66967,     0.67067,     0.67167,\n",
              "           0.67267,     0.67367,     0.67467,     0.67568,     0.67668,     0.67768,     0.67868,     0.67968,     0.68068,     0.68168,     0.68268,     0.68368,     0.68468,     0.68569,     0.68669,     0.68769,     0.68869,     0.68969,     0.69069,     0.69169,     0.69269,     0.69369,     0.69469,      0.6957,\n",
              "            0.6967,      0.6977,      0.6987,      0.6997,      0.7007,      0.7017,      0.7027,      0.7037,      0.7047,     0.70571,     0.70671,     0.70771,     0.70871,     0.70971,     0.71071,     0.71171,     0.71271,     0.71371,     0.71471,     0.71572,     0.71672,     0.71772,     0.71872,     0.71972,\n",
              "           0.72072,     0.72172,     0.72272,     0.72372,     0.72472,     0.72573,     0.72673,     0.72773,     0.72873,     0.72973,     0.73073,     0.73173,     0.73273,     0.73373,     0.73473,     0.73574,     0.73674,     0.73774,     0.73874,     0.73974,     0.74074,     0.74174,     0.74274,     0.74374,\n",
              "           0.74474,     0.74575,     0.74675,     0.74775,     0.74875,     0.74975,     0.75075,     0.75175,     0.75275,     0.75375,     0.75475,     0.75576,     0.75676,     0.75776,     0.75876,     0.75976,     0.76076,     0.76176,     0.76276,     0.76376,     0.76476,     0.76577,     0.76677,     0.76777,\n",
              "           0.76877,     0.76977,     0.77077,     0.77177,     0.77277,     0.77377,     0.77477,     0.77578,     0.77678,     0.77778,     0.77878,     0.77978,     0.78078,     0.78178,     0.78278,     0.78378,     0.78478,     0.78579,     0.78679,     0.78779,     0.78879,     0.78979,     0.79079,     0.79179,\n",
              "           0.79279,     0.79379,     0.79479,      0.7958,      0.7968,      0.7978,      0.7988,      0.7998,      0.8008,      0.8018,      0.8028,      0.8038,      0.8048,     0.80581,     0.80681,     0.80781,     0.80881,     0.80981,     0.81081,     0.81181,     0.81281,     0.81381,     0.81481,     0.81582,\n",
              "           0.81682,     0.81782,     0.81882,     0.81982,     0.82082,     0.82182,     0.82282,     0.82382,     0.82482,     0.82583,     0.82683,     0.82783,     0.82883,     0.82983,     0.83083,     0.83183,     0.83283,     0.83383,     0.83483,     0.83584,     0.83684,     0.83784,     0.83884,     0.83984,\n",
              "           0.84084,     0.84184,     0.84284,     0.84384,     0.84484,     0.84585,     0.84685,     0.84785,     0.84885,     0.84985,     0.85085,     0.85185,     0.85285,     0.85385,     0.85485,     0.85586,     0.85686,     0.85786,     0.85886,     0.85986,     0.86086,     0.86186,     0.86286,     0.86386,\n",
              "           0.86486,     0.86587,     0.86687,     0.86787,     0.86887,     0.86987,     0.87087,     0.87187,     0.87287,     0.87387,     0.87487,     0.87588,     0.87688,     0.87788,     0.87888,     0.87988,     0.88088,     0.88188,     0.88288,     0.88388,     0.88488,     0.88589,     0.88689,     0.88789,\n",
              "           0.88889,     0.88989,     0.89089,     0.89189,     0.89289,     0.89389,     0.89489,      0.8959,      0.8969,      0.8979,      0.8989,      0.8999,      0.9009,      0.9019,      0.9029,      0.9039,      0.9049,     0.90591,     0.90691,     0.90791,     0.90891,     0.90991,     0.91091,     0.91191,\n",
              "           0.91291,     0.91391,     0.91491,     0.91592,     0.91692,     0.91792,     0.91892,     0.91992,     0.92092,     0.92192,     0.92292,     0.92392,     0.92492,     0.92593,     0.92693,     0.92793,     0.92893,     0.92993,     0.93093,     0.93193,     0.93293,     0.93393,     0.93493,     0.93594,\n",
              "           0.93694,     0.93794,     0.93894,     0.93994,     0.94094,     0.94194,     0.94294,     0.94394,     0.94494,     0.94595,     0.94695,     0.94795,     0.94895,     0.94995,     0.95095,     0.95195,     0.95295,     0.95395,     0.95495,     0.95596,     0.95696,     0.95796,     0.95896,     0.95996,\n",
              "           0.96096,     0.96196,     0.96296,     0.96396,     0.96496,     0.96597,     0.96697,     0.96797,     0.96897,     0.96997,     0.97097,     0.97197,     0.97297,     0.97397,     0.97497,     0.97598,     0.97698,     0.97798,     0.97898,     0.97998,     0.98098,     0.98198,     0.98298,     0.98398,\n",
              "           0.98498,     0.98599,     0.98699,     0.98799,     0.98899,     0.98999,     0.99099,     0.99199,     0.99299,     0.99399,     0.99499,       0.996,       0.997,       0.998,       0.999,           1]), array([[    0.06708,     0.06708,     0.12359,     0.32796,     0.42571,     0.47736,     0.51472,     0.53899,     0.56168,     0.57987,      0.5975,     0.60975,     0.61954,      0.6293,     0.63841,     0.64837,     0.65427,     0.66048,      0.6684,     0.67377,     0.67841,     0.68387,     0.68954,\n",
              "            0.69421,     0.69871,     0.70322,     0.70746,     0.71048,     0.71468,     0.71699,     0.71896,     0.72169,     0.72541,     0.72904,     0.73136,     0.73382,     0.73548,     0.73769,     0.74149,     0.74409,     0.74666,     0.74991,     0.75172,     0.75406,     0.75652,     0.75754,\n",
              "              0.759,     0.76095,     0.76274,     0.76395,     0.76605,      0.7676,     0.77022,     0.77205,     0.77435,     0.77528,     0.77547,     0.77696,     0.77798,      0.7798,     0.78081,     0.78206,     0.78328,     0.78387,     0.78428,     0.78562,     0.78689,     0.78798,     0.78867,\n",
              "            0.79034,     0.79099,     0.79136,     0.79309,     0.79391,     0.79566,     0.79621,     0.79657,     0.79747,     0.79788,     0.79921,     0.80155,     0.80295,      0.8031,     0.80325,     0.80373,     0.80388,     0.80412,     0.80457,     0.80566,     0.80591,      0.8062,     0.80714,\n",
              "            0.80892,     0.80996,     0.81072,     0.81191,     0.81302,     0.81477,     0.81487,     0.81456,     0.81524,     0.81641,     0.81653,     0.81665,     0.81685,     0.81766,     0.81872,     0.81961,     0.82009,     0.82039,     0.82055,      0.8208,     0.82153,     0.82203,     0.82241,\n",
              "            0.82217,     0.82234,     0.82242,     0.82251,     0.82259,     0.82267,     0.82336,     0.82389,     0.82414,      0.8257,     0.82591,     0.82688,     0.82759,     0.82802,     0.82878,     0.82926,     0.82949,     0.83007,     0.83041,     0.83148,     0.83187,     0.83333,     0.83381,\n",
              "            0.83461,     0.83508,     0.83608,     0.83624,      0.8364,     0.83741,     0.83729,     0.83778,      0.8393,     0.83949,      0.8397,     0.84013,     0.84144,     0.84115,      0.8413,      0.8415,     0.84197,     0.84266,      0.8431,     0.84451,     0.84468,     0.84485,     0.84504,\n",
              "            0.84523,     0.84559,     0.84595,      0.8463,     0.84768,     0.84811,     0.84836,     0.84896,     0.84942,     0.85077,       0.851,      0.8519,     0.85213,     0.85329,     0.85391,       0.854,     0.85409,     0.85418,     0.85405,     0.85419,     0.85439,     0.85416,     0.85441,\n",
              "            0.85463,      0.8549,     0.85534,     0.85577,     0.85557,     0.85552,     0.85563,     0.85574,     0.85601,     0.85644,     0.85732,      0.8581,     0.85769,      0.8586,     0.85892,     0.85958,     0.86104,     0.86116,     0.86136,     0.86241,     0.86388,     0.86442,     0.86486,\n",
              "            0.86527,      0.8663,     0.86638,     0.86647,     0.86656,     0.86665,     0.86687,     0.86698,     0.86683,     0.86692,     0.86713,     0.86799,     0.86814,      0.8683,     0.86872,     0.86931,     0.86993,     0.87015,      0.8703,     0.87052,     0.87154,     0.87179,     0.87194,\n",
              "            0.87209,     0.87257,     0.87231,     0.87245,     0.87265,     0.87246,     0.87222,     0.87198,     0.87136,     0.87099,     0.87144,     0.87207,     0.87234,     0.87253,     0.87239,      0.8716,     0.87281,     0.87339,     0.87376,     0.87329,     0.87296,     0.87345,     0.87374,\n",
              "            0.87403,     0.87427,     0.87441,     0.87456,     0.87469,      0.8748,     0.87492,     0.87503,     0.87549,     0.87562,     0.87575,     0.87589,     0.87683,     0.87783,     0.87884,     0.87932,     0.87943,     0.87954,     0.87965,      0.8799,     0.88022,     0.88033,     0.88044,\n",
              "            0.88055,     0.88037,     0.88005,     0.88023,     0.88042,      0.8808,     0.88141,     0.88152,     0.88163,     0.88174,     0.88191,     0.88208,     0.88231,     0.88261,      0.8831,     0.88322,     0.88333,     0.88345,     0.88382,     0.88352,     0.88434,     0.88463,     0.88507,\n",
              "            0.88599,     0.88617,     0.88635,     0.88696,     0.88714,     0.88773,     0.88786,     0.88799,     0.88812,     0.88909,     0.88927,     0.88911,     0.89008,      0.8903,     0.89043,     0.89056,     0.89074,     0.89099,     0.89093,     0.89082,     0.89066,      0.8905,     0.89048,\n",
              "            0.89058,     0.89068,     0.89078,     0.89133,     0.89151,     0.89169,     0.89136,     0.89163,     0.89189,      0.8922,     0.89258,     0.89276,     0.89294,     0.89316,     0.89339,     0.89364,     0.89388,     0.89405,     0.89421,     0.89483,     0.89501,     0.89566,     0.89654,\n",
              "             0.8967,     0.89687,     0.89709,     0.89643,     0.89659,     0.89721,     0.89744,     0.89766,     0.89779,     0.89792,     0.89806,     0.89792,     0.89764,     0.89767,     0.89783,     0.89801,     0.89858,     0.89885,      0.8987,     0.89855,      0.8984,     0.89909,      0.8992,\n",
              "            0.89912,     0.89904,     0.89896,     0.89888,     0.89881,     0.89873,     0.89883,     0.89906,     0.89926,     0.89942,     0.89959,      0.9014,     0.90167,     0.90191,     0.90206,     0.90222,     0.90293,     0.90333,     0.90359,     0.90384,     0.90407,     0.90391,     0.90303,\n",
              "            0.90313,     0.90323,     0.90333,     0.90343,     0.90366,     0.90445,     0.90456,     0.90468,      0.9048,     0.90517,     0.90544,     0.90559,     0.90575,     0.90617,     0.90664,     0.90678,     0.90688,     0.90698,     0.90708,     0.90718,     0.90728,     0.90738,     0.90748,\n",
              "            0.90758,     0.90776,       0.908,     0.90839,     0.90841,     0.90822,     0.90803,     0.90755,      0.9078,     0.90877,     0.90828,     0.90852,      0.9082,     0.90844,     0.90872,     0.90913,     0.90929,     0.90944,     0.90953,     0.90945,     0.90936,     0.90928,     0.90919,\n",
              "            0.90911,     0.90902,     0.90859,     0.90879,     0.90974,     0.91162,      0.9121,     0.91193,     0.91165,     0.91202,     0.91195,     0.91188,      0.9118,     0.91173,     0.91166,     0.91159,     0.91154,     0.91171,     0.91189,     0.91265,     0.91281,     0.91252,      0.9124,\n",
              "            0.91247,     0.91254,     0.91261,     0.91268,     0.91275,     0.91282,     0.91341,     0.91333,     0.91349,     0.91365,     0.91453,     0.91457,     0.91447,     0.91437,     0.91428,     0.91418,     0.91409,      0.9139,     0.91371,     0.91352,     0.91337,     0.91323,     0.91309,\n",
              "            0.91297,     0.91322,     0.91279,     0.91275,     0.91261,     0.91246,     0.91232,     0.91233,     0.91216,     0.91232,     0.91249,     0.91182,      0.9123,     0.91201,     0.91159,     0.91149,     0.91187,     0.91211,     0.91191,     0.91227,     0.91251,     0.91226,     0.91168,\n",
              "            0.91179,     0.91228,      0.9126,     0.91284,     0.91375,     0.91364,     0.91335,     0.91388,       0.914,     0.91412,     0.91425,     0.91471,     0.91419,     0.91464,     0.91436,     0.91406,     0.91377,     0.91348,     0.91318,     0.91285,     0.91232,     0.91213,     0.91193,\n",
              "            0.91132,     0.91269,     0.91286,     0.91302,     0.91249,      0.9123,      0.9121,     0.91161,     0.91212,     0.91202,     0.91142,     0.91102,     0.91083,     0.91063,     0.91091,     0.91072,     0.91052,     0.91077,     0.91127,     0.91154,      0.9117,     0.91187,     0.91203,\n",
              "             0.9122,     0.91237,     0.91214,     0.91184,     0.91146,     0.91195,     0.91185,     0.91208,      0.9122,     0.91233,     0.91245,     0.91216,     0.91202,     0.91219,     0.91236,     0.91275,     0.91249,     0.91189,     0.91129,     0.91125,      0.9115,     0.91105,      0.9107,\n",
              "             0.9104,     0.90983,      0.9095,      0.9092,     0.90968,     0.90988,     0.91008,     0.91012,     0.91002,     0.90992,     0.90982,     0.90971,     0.90961,     0.90994,     0.90993,     0.90973,     0.90953,     0.90969,     0.90994,     0.90996,     0.90935,     0.90959,     0.90952,\n",
              "             0.9093,     0.90956,     0.90878,     0.90818,     0.90719,     0.90699,     0.90679,     0.90633,     0.90585,     0.90611,     0.90651,     0.90702,     0.90753,     0.90772,     0.90745,     0.90773,     0.90752,     0.90732,     0.90703,     0.90662,     0.90645,     0.90629,     0.90614,\n",
              "            0.90591,     0.90637,     0.90606,     0.90574,     0.90533,     0.90478,     0.90437,     0.90406,     0.90292,      0.9023,     0.90224,     0.90236,     0.90247,     0.90258,     0.90285,     0.90319,     0.90353,     0.90296,     0.90203,     0.90173,     0.90213,     0.90264,     0.90298,\n",
              "            0.90343,     0.90312,     0.90199,     0.90131,     0.90152,     0.90153,     0.90028,     0.89978,      0.8996,     0.89942,     0.89924,     0.89967,     0.89995,     0.90021,     0.90081,     0.90098,     0.90115,     0.90151,     0.90151,      0.9011,     0.90089,     0.90068,     0.90067,\n",
              "            0.89997,     0.89871,     0.89835,      0.8981,     0.89773,     0.89698,     0.89579,     0.89536,      0.8944,     0.89408,     0.89442,      0.8941,     0.89418,      0.8937,     0.89293,      0.8926,     0.89227,     0.89184,     0.89178,     0.89064,     0.88911,     0.88949,      0.8893,\n",
              "            0.88911,     0.88893,     0.88841,     0.88789,     0.88756,     0.88719,     0.88675,     0.88699,     0.88672,     0.88627,     0.88508,     0.88451,     0.88407,     0.88291,     0.88258,     0.88164,     0.88138,     0.88114,     0.88105,     0.88097,     0.88088,     0.88079,      0.8807,\n",
              "            0.88061,     0.88052,     0.88043,     0.87958,     0.87993,     0.87888,     0.87706,     0.87679,     0.87651,     0.87513,     0.87417,     0.87363,     0.87318,     0.87272,     0.87212,     0.87118,     0.87084,     0.86957,     0.86873,     0.86704,     0.86613,     0.86467,      0.8633,\n",
              "            0.86221,     0.86175,     0.86107,     0.86055,     0.86034,      0.8606,     0.86052,     0.86017,     0.85774,     0.85708,     0.85661,     0.85546,     0.85344,     0.85297,     0.85232,     0.85047,     0.84999,     0.84883,     0.84731,     0.84651,     0.84559,     0.84523,     0.84482,\n",
              "            0.84434,     0.84291,     0.84185,     0.84015,     0.84049,     0.83823,     0.83598,      0.8351,     0.83431,     0.83394,     0.83158,     0.83109,     0.82916,     0.82787,     0.82725,     0.82688,     0.82428,     0.82379,      0.8234,     0.82303,     0.82116,     0.82078,     0.82021,\n",
              "            0.81799,     0.81517,     0.81381,     0.81276,     0.81126,     0.80901,     0.80567,     0.80516,      0.8037,     0.80086,     0.79959,     0.79907,     0.79538,     0.79296,     0.79151,     0.78915,      0.7895,     0.78871,     0.78899,     0.78853,     0.78821,     0.78699,     0.78587,\n",
              "              0.783,     0.77972,     0.77898,     0.77577,     0.77394,     0.77072,      0.7677,     0.76706,     0.76219,     0.76135,      0.7602,     0.75442,     0.74897,     0.74778,     0.74568,     0.73809,     0.73464,     0.73205,     0.72955,     0.72896,     0.72505,     0.72291,     0.71694,\n",
              "            0.71497,     0.71052,     0.70427,     0.70315,      0.7026,     0.70214,     0.69961,     0.69506,     0.68949,     0.68626,     0.68256,     0.67652,     0.66947,     0.66231,      0.6575,     0.65118,     0.64725,     0.64441,     0.64047,     0.63749,     0.63051,     0.62724,     0.62262,\n",
              "            0.61034,     0.60719,     0.60336,     0.59878,     0.59284,     0.58964,     0.58702,     0.58214,     0.57836,     0.56966,     0.56631,     0.55634,     0.55114,     0.54771,     0.54088,     0.53704,     0.53163,     0.52115,     0.51759,     0.51401,     0.50685,     0.49722,     0.48789,\n",
              "            0.48374,     0.47753,     0.46867,     0.46117,     0.45222,     0.44122,     0.43531,     0.42208,      0.4198,     0.41026,     0.40342,     0.39877,     0.39507,     0.38672,     0.38348,      0.3782,     0.36397,     0.35672,     0.35206,     0.34057,     0.33884,     0.33007,      0.3165,\n",
              "            0.31339,     0.30871,     0.28937,     0.27833,     0.27353,     0.25986,     0.24828,     0.23832,     0.22824,     0.21579,      0.2099,     0.20873,     0.19722,     0.19239,     0.18482,     0.17291,     0.16689,      0.1614,     0.15751,     0.15383,     0.14475,     0.14092,     0.13625,\n",
              "            0.13156,     0.12769,     0.12197,     0.11923,      0.1154,     0.11407,      0.1131,     0.10631,    0.096599,    0.094079,    0.084733,    0.080711,    0.074697,    0.070894,    0.066553,    0.065151,    0.064126,    0.058239,    0.054052,    0.047241,    0.045833,    0.043775,    0.042379,\n",
              "            0.04098,    0.039495,    0.037391,    0.031153,    0.029168,    0.027751,    0.024845,    0.024235,    0.023624,    0.022756,     0.02133,    0.020787,    0.020398,    0.020008,    0.019618,    0.019228,    0.018331,    0.014821,    0.014429,    0.014037,    0.013645,    0.013252,     0.01286,\n",
              "           0.010299,   0.0098179,   0.0093364,   0.0088546,    0.007921,    0.006129,   0.0052589,   0.0043879,    0.004012,   0.0037214,   0.0034308,     0.00314,   0.0028492,   0.0025582,   0.0022672,           0,           0,           0,           0,           0,           0,           0,           0,\n",
              "                  0,           0,           0,           0,           0,           0,           0,           0,           0,           0,           0]]), 'Confidence', 'F1'], [array([          0,    0.001001,    0.002002,    0.003003,    0.004004,    0.005005,    0.006006,    0.007007,    0.008008,    0.009009,     0.01001,    0.011011,    0.012012,    0.013013,    0.014014,    0.015015,    0.016016,    0.017017,    0.018018,    0.019019,     0.02002,    0.021021,    0.022022,    0.023023,\n",
              "          0.024024,    0.025025,    0.026026,    0.027027,    0.028028,    0.029029,     0.03003,    0.031031,    0.032032,    0.033033,    0.034034,    0.035035,    0.036036,    0.037037,    0.038038,    0.039039,     0.04004,    0.041041,    0.042042,    0.043043,    0.044044,    0.045045,    0.046046,    0.047047,\n",
              "          0.048048,    0.049049,     0.05005,    0.051051,    0.052052,    0.053053,    0.054054,    0.055055,    0.056056,    0.057057,    0.058058,    0.059059,     0.06006,    0.061061,    0.062062,    0.063063,    0.064064,    0.065065,    0.066066,    0.067067,    0.068068,    0.069069,     0.07007,    0.071071,\n",
              "          0.072072,    0.073073,    0.074074,    0.075075,    0.076076,    0.077077,    0.078078,    0.079079,     0.08008,    0.081081,    0.082082,    0.083083,    0.084084,    0.085085,    0.086086,    0.087087,    0.088088,    0.089089,     0.09009,    0.091091,    0.092092,    0.093093,    0.094094,    0.095095,\n",
              "          0.096096,    0.097097,    0.098098,    0.099099,      0.1001,      0.1011,      0.1021,      0.1031,      0.1041,     0.10511,     0.10611,     0.10711,     0.10811,     0.10911,     0.11011,     0.11111,     0.11211,     0.11311,     0.11411,     0.11512,     0.11612,     0.11712,     0.11812,     0.11912,\n",
              "           0.12012,     0.12112,     0.12212,     0.12312,     0.12412,     0.12513,     0.12613,     0.12713,     0.12813,     0.12913,     0.13013,     0.13113,     0.13213,     0.13313,     0.13413,     0.13514,     0.13614,     0.13714,     0.13814,     0.13914,     0.14014,     0.14114,     0.14214,     0.14314,\n",
              "           0.14414,     0.14515,     0.14615,     0.14715,     0.14815,     0.14915,     0.15015,     0.15115,     0.15215,     0.15315,     0.15415,     0.15516,     0.15616,     0.15716,     0.15816,     0.15916,     0.16016,     0.16116,     0.16216,     0.16316,     0.16416,     0.16517,     0.16617,     0.16717,\n",
              "           0.16817,     0.16917,     0.17017,     0.17117,     0.17217,     0.17317,     0.17417,     0.17518,     0.17618,     0.17718,     0.17818,     0.17918,     0.18018,     0.18118,     0.18218,     0.18318,     0.18418,     0.18519,     0.18619,     0.18719,     0.18819,     0.18919,     0.19019,     0.19119,\n",
              "           0.19219,     0.19319,     0.19419,      0.1952,      0.1962,      0.1972,      0.1982,      0.1992,      0.2002,      0.2012,      0.2022,      0.2032,      0.2042,     0.20521,     0.20621,     0.20721,     0.20821,     0.20921,     0.21021,     0.21121,     0.21221,     0.21321,     0.21421,     0.21522,\n",
              "           0.21622,     0.21722,     0.21822,     0.21922,     0.22022,     0.22122,     0.22222,     0.22322,     0.22422,     0.22523,     0.22623,     0.22723,     0.22823,     0.22923,     0.23023,     0.23123,     0.23223,     0.23323,     0.23423,     0.23524,     0.23624,     0.23724,     0.23824,     0.23924,\n",
              "           0.24024,     0.24124,     0.24224,     0.24324,     0.24424,     0.24525,     0.24625,     0.24725,     0.24825,     0.24925,     0.25025,     0.25125,     0.25225,     0.25325,     0.25425,     0.25526,     0.25626,     0.25726,     0.25826,     0.25926,     0.26026,     0.26126,     0.26226,     0.26326,\n",
              "           0.26426,     0.26527,     0.26627,     0.26727,     0.26827,     0.26927,     0.27027,     0.27127,     0.27227,     0.27327,     0.27427,     0.27528,     0.27628,     0.27728,     0.27828,     0.27928,     0.28028,     0.28128,     0.28228,     0.28328,     0.28428,     0.28529,     0.28629,     0.28729,\n",
              "           0.28829,     0.28929,     0.29029,     0.29129,     0.29229,     0.29329,     0.29429,      0.2953,      0.2963,      0.2973,      0.2983,      0.2993,      0.3003,      0.3013,      0.3023,      0.3033,      0.3043,     0.30531,     0.30631,     0.30731,     0.30831,     0.30931,     0.31031,     0.31131,\n",
              "           0.31231,     0.31331,     0.31431,     0.31532,     0.31632,     0.31732,     0.31832,     0.31932,     0.32032,     0.32132,     0.32232,     0.32332,     0.32432,     0.32533,     0.32633,     0.32733,     0.32833,     0.32933,     0.33033,     0.33133,     0.33233,     0.33333,     0.33433,     0.33534,\n",
              "           0.33634,     0.33734,     0.33834,     0.33934,     0.34034,     0.34134,     0.34234,     0.34334,     0.34434,     0.34535,     0.34635,     0.34735,     0.34835,     0.34935,     0.35035,     0.35135,     0.35235,     0.35335,     0.35435,     0.35536,     0.35636,     0.35736,     0.35836,     0.35936,\n",
              "           0.36036,     0.36136,     0.36236,     0.36336,     0.36436,     0.36537,     0.36637,     0.36737,     0.36837,     0.36937,     0.37037,     0.37137,     0.37237,     0.37337,     0.37437,     0.37538,     0.37638,     0.37738,     0.37838,     0.37938,     0.38038,     0.38138,     0.38238,     0.38338,\n",
              "           0.38438,     0.38539,     0.38639,     0.38739,     0.38839,     0.38939,     0.39039,     0.39139,     0.39239,     0.39339,     0.39439,      0.3954,      0.3964,      0.3974,      0.3984,      0.3994,      0.4004,      0.4014,      0.4024,      0.4034,      0.4044,     0.40541,     0.40641,     0.40741,\n",
              "           0.40841,     0.40941,     0.41041,     0.41141,     0.41241,     0.41341,     0.41441,     0.41542,     0.41642,     0.41742,     0.41842,     0.41942,     0.42042,     0.42142,     0.42242,     0.42342,     0.42442,     0.42543,     0.42643,     0.42743,     0.42843,     0.42943,     0.43043,     0.43143,\n",
              "           0.43243,     0.43343,     0.43443,     0.43544,     0.43644,     0.43744,     0.43844,     0.43944,     0.44044,     0.44144,     0.44244,     0.44344,     0.44444,     0.44545,     0.44645,     0.44745,     0.44845,     0.44945,     0.45045,     0.45145,     0.45245,     0.45345,     0.45445,     0.45546,\n",
              "           0.45646,     0.45746,     0.45846,     0.45946,     0.46046,     0.46146,     0.46246,     0.46346,     0.46446,     0.46547,     0.46647,     0.46747,     0.46847,     0.46947,     0.47047,     0.47147,     0.47247,     0.47347,     0.47447,     0.47548,     0.47648,     0.47748,     0.47848,     0.47948,\n",
              "           0.48048,     0.48148,     0.48248,     0.48348,     0.48448,     0.48549,     0.48649,     0.48749,     0.48849,     0.48949,     0.49049,     0.49149,     0.49249,     0.49349,     0.49449,      0.4955,      0.4965,      0.4975,      0.4985,      0.4995,      0.5005,      0.5015,      0.5025,      0.5035,\n",
              "            0.5045,     0.50551,     0.50651,     0.50751,     0.50851,     0.50951,     0.51051,     0.51151,     0.51251,     0.51351,     0.51451,     0.51552,     0.51652,     0.51752,     0.51852,     0.51952,     0.52052,     0.52152,     0.52252,     0.52352,     0.52452,     0.52553,     0.52653,     0.52753,\n",
              "           0.52853,     0.52953,     0.53053,     0.53153,     0.53253,     0.53353,     0.53453,     0.53554,     0.53654,     0.53754,     0.53854,     0.53954,     0.54054,     0.54154,     0.54254,     0.54354,     0.54454,     0.54555,     0.54655,     0.54755,     0.54855,     0.54955,     0.55055,     0.55155,\n",
              "           0.55255,     0.55355,     0.55455,     0.55556,     0.55656,     0.55756,     0.55856,     0.55956,     0.56056,     0.56156,     0.56256,     0.56356,     0.56456,     0.56557,     0.56657,     0.56757,     0.56857,     0.56957,     0.57057,     0.57157,     0.57257,     0.57357,     0.57457,     0.57558,\n",
              "           0.57658,     0.57758,     0.57858,     0.57958,     0.58058,     0.58158,     0.58258,     0.58358,     0.58458,     0.58559,     0.58659,     0.58759,     0.58859,     0.58959,     0.59059,     0.59159,     0.59259,     0.59359,     0.59459,      0.5956,      0.5966,      0.5976,      0.5986,      0.5996,\n",
              "            0.6006,      0.6016,      0.6026,      0.6036,      0.6046,     0.60561,     0.60661,     0.60761,     0.60861,     0.60961,     0.61061,     0.61161,     0.61261,     0.61361,     0.61461,     0.61562,     0.61662,     0.61762,     0.61862,     0.61962,     0.62062,     0.62162,     0.62262,     0.62362,\n",
              "           0.62462,     0.62563,     0.62663,     0.62763,     0.62863,     0.62963,     0.63063,     0.63163,     0.63263,     0.63363,     0.63463,     0.63564,     0.63664,     0.63764,     0.63864,     0.63964,     0.64064,     0.64164,     0.64264,     0.64364,     0.64464,     0.64565,     0.64665,     0.64765,\n",
              "           0.64865,     0.64965,     0.65065,     0.65165,     0.65265,     0.65365,     0.65465,     0.65566,     0.65666,     0.65766,     0.65866,     0.65966,     0.66066,     0.66166,     0.66266,     0.66366,     0.66466,     0.66567,     0.66667,     0.66767,     0.66867,     0.66967,     0.67067,     0.67167,\n",
              "           0.67267,     0.67367,     0.67467,     0.67568,     0.67668,     0.67768,     0.67868,     0.67968,     0.68068,     0.68168,     0.68268,     0.68368,     0.68468,     0.68569,     0.68669,     0.68769,     0.68869,     0.68969,     0.69069,     0.69169,     0.69269,     0.69369,     0.69469,      0.6957,\n",
              "            0.6967,      0.6977,      0.6987,      0.6997,      0.7007,      0.7017,      0.7027,      0.7037,      0.7047,     0.70571,     0.70671,     0.70771,     0.70871,     0.70971,     0.71071,     0.71171,     0.71271,     0.71371,     0.71471,     0.71572,     0.71672,     0.71772,     0.71872,     0.71972,\n",
              "           0.72072,     0.72172,     0.72272,     0.72372,     0.72472,     0.72573,     0.72673,     0.72773,     0.72873,     0.72973,     0.73073,     0.73173,     0.73273,     0.73373,     0.73473,     0.73574,     0.73674,     0.73774,     0.73874,     0.73974,     0.74074,     0.74174,     0.74274,     0.74374,\n",
              "           0.74474,     0.74575,     0.74675,     0.74775,     0.74875,     0.74975,     0.75075,     0.75175,     0.75275,     0.75375,     0.75475,     0.75576,     0.75676,     0.75776,     0.75876,     0.75976,     0.76076,     0.76176,     0.76276,     0.76376,     0.76476,     0.76577,     0.76677,     0.76777,\n",
              "           0.76877,     0.76977,     0.77077,     0.77177,     0.77277,     0.77377,     0.77477,     0.77578,     0.77678,     0.77778,     0.77878,     0.77978,     0.78078,     0.78178,     0.78278,     0.78378,     0.78478,     0.78579,     0.78679,     0.78779,     0.78879,     0.78979,     0.79079,     0.79179,\n",
              "           0.79279,     0.79379,     0.79479,      0.7958,      0.7968,      0.7978,      0.7988,      0.7998,      0.8008,      0.8018,      0.8028,      0.8038,      0.8048,     0.80581,     0.80681,     0.80781,     0.80881,     0.80981,     0.81081,     0.81181,     0.81281,     0.81381,     0.81481,     0.81582,\n",
              "           0.81682,     0.81782,     0.81882,     0.81982,     0.82082,     0.82182,     0.82282,     0.82382,     0.82482,     0.82583,     0.82683,     0.82783,     0.82883,     0.82983,     0.83083,     0.83183,     0.83283,     0.83383,     0.83483,     0.83584,     0.83684,     0.83784,     0.83884,     0.83984,\n",
              "           0.84084,     0.84184,     0.84284,     0.84384,     0.84484,     0.84585,     0.84685,     0.84785,     0.84885,     0.84985,     0.85085,     0.85185,     0.85285,     0.85385,     0.85485,     0.85586,     0.85686,     0.85786,     0.85886,     0.85986,     0.86086,     0.86186,     0.86286,     0.86386,\n",
              "           0.86486,     0.86587,     0.86687,     0.86787,     0.86887,     0.86987,     0.87087,     0.87187,     0.87287,     0.87387,     0.87487,     0.87588,     0.87688,     0.87788,     0.87888,     0.87988,     0.88088,     0.88188,     0.88288,     0.88388,     0.88488,     0.88589,     0.88689,     0.88789,\n",
              "           0.88889,     0.88989,     0.89089,     0.89189,     0.89289,     0.89389,     0.89489,      0.8959,      0.8969,      0.8979,      0.8989,      0.8999,      0.9009,      0.9019,      0.9029,      0.9039,      0.9049,     0.90591,     0.90691,     0.90791,     0.90891,     0.90991,     0.91091,     0.91191,\n",
              "           0.91291,     0.91391,     0.91491,     0.91592,     0.91692,     0.91792,     0.91892,     0.91992,     0.92092,     0.92192,     0.92292,     0.92392,     0.92492,     0.92593,     0.92693,     0.92793,     0.92893,     0.92993,     0.93093,     0.93193,     0.93293,     0.93393,     0.93493,     0.93594,\n",
              "           0.93694,     0.93794,     0.93894,     0.93994,     0.94094,     0.94194,     0.94294,     0.94394,     0.94494,     0.94595,     0.94695,     0.94795,     0.94895,     0.94995,     0.95095,     0.95195,     0.95295,     0.95395,     0.95495,     0.95596,     0.95696,     0.95796,     0.95896,     0.95996,\n",
              "           0.96096,     0.96196,     0.96296,     0.96396,     0.96496,     0.96597,     0.96697,     0.96797,     0.96897,     0.96997,     0.97097,     0.97197,     0.97297,     0.97397,     0.97497,     0.97598,     0.97698,     0.97798,     0.97898,     0.97998,     0.98098,     0.98198,     0.98298,     0.98398,\n",
              "           0.98498,     0.98599,     0.98699,     0.98799,     0.98899,     0.98999,     0.99099,     0.99199,     0.99299,     0.99399,     0.99499,       0.996,       0.997,       0.998,       0.999,           1]), array([[   0.034704,    0.034704,    0.065865,     0.19614,     0.27041,      0.3135,     0.34668,     0.36906,     0.39068,      0.4085,     0.42681,     0.43942,     0.44965,     0.46002,     0.46982,     0.48068,     0.48719,     0.49412,     0.50304,     0.50942,     0.51475,     0.52105,     0.52767,\n",
              "            0.53316,     0.53849,     0.54387,     0.54896,      0.5526,      0.5577,     0.56051,     0.56293,     0.56628,     0.57087,     0.57538,     0.57828,     0.58137,     0.58345,     0.58623,     0.59105,     0.59436,     0.59764,     0.60182,     0.60416,     0.60718,     0.61038,     0.61171,\n",
              "            0.61362,     0.61617,     0.61853,     0.62011,     0.62289,     0.62536,     0.62885,     0.63129,     0.63437,     0.63562,     0.63588,     0.63788,     0.63926,     0.64172,     0.64308,     0.64479,     0.64644,     0.64725,     0.64781,     0.64964,     0.65137,     0.65287,     0.65382,\n",
              "            0.65612,     0.65702,     0.65753,     0.65992,     0.66106,     0.66349,     0.66425,     0.66476,     0.66601,     0.66658,     0.66844,     0.67172,     0.67369,      0.6739,      0.6741,     0.67478,       0.675,     0.67534,     0.67597,     0.67752,     0.67786,     0.67827,     0.67961,\n",
              "            0.68213,     0.68361,      0.6847,      0.6869,      0.6885,     0.69101,     0.69136,     0.69122,     0.69221,      0.6939,     0.69407,     0.69424,     0.69453,     0.69571,     0.69724,     0.69853,     0.69923,     0.69967,     0.69991,     0.70026,     0.70132,     0.70206,     0.70269,\n",
              "            0.70259,     0.70305,     0.70317,     0.70329,     0.70341,     0.70353,     0.70453,     0.70532,     0.70569,     0.70797,     0.70828,      0.7097,     0.71076,     0.71139,     0.71251,     0.71322,     0.71356,     0.71442,     0.71492,     0.71651,     0.71709,     0.71927,     0.71997,\n",
              "            0.72117,     0.72187,     0.72336,     0.72361,     0.72385,     0.72536,     0.72546,     0.72649,     0.72878,     0.72908,     0.72939,     0.73004,     0.73217,     0.73216,     0.73239,     0.73269,     0.73341,     0.73446,     0.73513,     0.73727,     0.73753,     0.73778,     0.73807,\n",
              "            0.73837,     0.73891,     0.73946,        0.74,     0.74211,     0.74278,     0.74315,     0.74409,     0.74479,     0.74686,     0.74721,      0.7486,     0.74896,     0.75075,     0.75172,     0.75186,     0.75199,     0.75213,     0.75216,     0.75277,     0.75321,     0.75313,     0.75374,\n",
              "            0.75407,     0.75449,     0.75518,     0.75586,     0.75599,     0.75608,     0.75626,     0.75643,     0.75686,     0.75753,      0.7589,     0.76026,     0.76013,     0.76155,     0.76206,      0.7631,      0.7654,     0.76623,     0.76656,     0.76822,     0.77056,     0.77208,     0.77277,\n",
              "            0.77343,     0.77507,     0.77522,     0.77536,      0.7755,     0.77564,     0.77666,     0.77751,     0.77781,     0.77808,     0.77842,     0.77981,     0.78006,     0.78031,     0.78099,     0.78195,     0.78294,      0.7833,     0.78355,      0.7839,     0.78557,     0.78597,     0.78621,\n",
              "            0.78645,     0.78792,     0.78813,     0.78842,     0.78875,     0.78872,     0.78864,      0.7891,     0.78889,     0.78876,     0.78957,      0.7906,     0.79104,     0.79136,     0.79141,     0.79124,     0.79325,      0.7942,     0.79481,     0.79503,     0.79492,     0.79575,     0.79622,\n",
              "             0.7967,      0.7971,     0.79734,     0.79757,     0.79779,     0.79799,     0.79818,     0.79837,     0.79913,     0.79935,     0.79957,     0.79979,     0.80136,     0.80304,     0.80473,     0.80554,     0.80573,     0.80591,     0.80609,     0.80652,     0.80704,     0.80723,     0.80741,\n",
              "             0.8076,     0.80759,     0.80749,      0.8078,     0.80813,     0.80877,      0.8098,     0.80998,     0.81017,     0.81035,     0.81064,     0.81094,     0.81132,     0.81182,     0.81265,     0.81285,     0.81305,     0.81325,     0.81399,     0.81413,     0.81551,     0.81602,     0.81676,\n",
              "            0.81833,     0.81864,     0.81894,     0.81999,     0.82029,     0.82131,     0.82153,     0.82175,     0.82197,     0.82363,     0.82418,     0.82445,     0.82611,      0.8265,     0.82672,     0.82694,     0.82725,     0.82769,     0.82837,      0.8284,     0.82835,      0.8283,     0.82837,\n",
              "            0.82855,     0.82872,     0.82889,     0.82985,     0.83016,     0.83047,     0.83046,     0.83116,     0.83162,     0.83217,     0.83281,     0.83313,     0.83344,     0.83383,     0.83422,     0.83467,     0.83509,     0.83538,     0.83567,     0.83675,     0.83707,      0.8382,     0.83973,\n",
              "            0.84002,     0.84032,     0.84118,     0.84118,     0.84147,     0.84255,     0.84296,     0.84335,     0.84358,     0.84382,     0.84405,     0.84408,     0.84401,     0.84419,     0.84449,     0.84479,      0.8458,     0.84636,     0.84632,     0.84628,     0.84624,     0.84755,     0.84781,\n",
              "            0.84779,     0.84777,     0.84775,     0.84773,     0.84771,     0.84769,     0.84793,     0.84834,     0.84868,     0.84898,     0.84928,     0.85251,     0.85299,     0.85341,     0.85369,     0.85397,     0.85526,     0.85596,     0.85644,     0.85688,      0.8573,     0.85736,     0.85714,\n",
              "            0.85732,      0.8575,     0.85768,     0.85785,     0.85828,      0.8597,     0.85991,     0.86012,     0.86034,     0.86101,     0.86149,     0.86177,     0.86206,     0.86282,     0.86367,     0.86393,     0.86411,     0.86429,     0.86447,     0.86465,     0.86483,     0.86501,     0.86519,\n",
              "            0.86537,     0.86571,     0.86614,     0.86685,     0.86709,     0.86704,       0.867,     0.86689,     0.86754,     0.86938,     0.86932,     0.86975,     0.87006,     0.87049,     0.87102,     0.87176,     0.87205,     0.87235,     0.87254,     0.87252,     0.87251,     0.87249,     0.87247,\n",
              "            0.87245,     0.87243,     0.87233,     0.87295,     0.87469,     0.87817,     0.87907,     0.87916,      0.8791,     0.87995,     0.87993,     0.87992,      0.8799,     0.87989,     0.87987,     0.87986,     0.87987,     0.88019,     0.88052,     0.88195,     0.88244,     0.88238,     0.88241,\n",
              "            0.88254,     0.88267,      0.8828,     0.88293,     0.88306,     0.88319,     0.88492,     0.88509,     0.88539,     0.88569,     0.88734,     0.88754,     0.88752,      0.8875,     0.88748,     0.88746,     0.88744,      0.8874,     0.88736,     0.88732,      0.8873,     0.88727,     0.88724,\n",
              "            0.88725,     0.88771,     0.88798,     0.88877,     0.88874,     0.88871,     0.88869,      0.8889,     0.88954,     0.88985,     0.89016,      0.8902,     0.89193,     0.89187,     0.89179,     0.89215,     0.89286,     0.89333,     0.89394,     0.89462,     0.89509,     0.89521,      0.8951,\n",
              "            0.89567,     0.89662,     0.89724,     0.89771,     0.89947,     0.89965,      0.8996,     0.90071,     0.90095,     0.90119,     0.90143,     0.90233,     0.90229,     0.90321,     0.90317,     0.90312,     0.90307,     0.90302,     0.90297,     0.90291,     0.90282,     0.90278,     0.90275,\n",
              "            0.90284,     0.90555,     0.90587,      0.9062,      0.9063,     0.90627,     0.90624,     0.90651,     0.90799,     0.90838,     0.90875,     0.90869,     0.90866,     0.90862,     0.90956,     0.90952,     0.90949,     0.91012,     0.91112,     0.91165,     0.91198,     0.91232,     0.91265,\n",
              "            0.91298,     0.91332,     0.91333,     0.91328,     0.91322,      0.9151,     0.91551,     0.91706,     0.91731,     0.91756,     0.91782,     0.91787,     0.91804,     0.91838,     0.91872,     0.91952,     0.91976,     0.91968,     0.91959,     0.92088,     0.92139,     0.92141,     0.92136,\n",
              "            0.92132,     0.92123,     0.92118,     0.92114,     0.92214,     0.92256,     0.92297,     0.92315,     0.92314,     0.92312,     0.92311,      0.9231,     0.92308,      0.9238,     0.92407,     0.92404,     0.92401,     0.92442,     0.92495,     0.92598,     0.92589,     0.92651,     0.92687,\n",
              "            0.92707,      0.9276,     0.92774,     0.92765,     0.92752,     0.92749,     0.92747,      0.9274,     0.92734,     0.92853,     0.93056,     0.93164,     0.93271,     0.93346,     0.93374,     0.93445,     0.93443,      0.9344,     0.93437,     0.93432,      0.9343,     0.93428,     0.93426,\n",
              "            0.93527,     0.93629,     0.93625,     0.93621,     0.93616,      0.9361,     0.93605,     0.93601,     0.93587,      0.9358,     0.93597,     0.93621,     0.93646,      0.9367,     0.93728,     0.93924,     0.93998,     0.93996,     0.93985,     0.93983,     0.94197,     0.94307,     0.94382,\n",
              "             0.9452,     0.94517,     0.94505,     0.94527,     0.94573,     0.94606,     0.94593,     0.94588,     0.94586,     0.94584,     0.94582,     0.94681,     0.94745,     0.94802,     0.94935,     0.94973,     0.95011,     0.95091,      0.9514,     0.95136,     0.95134,     0.95132,     0.95168,\n",
              "            0.95234,     0.95223,     0.95219,     0.95217,     0.95214,     0.95316,     0.95306,     0.95302,     0.95293,      0.9529,     0.95404,     0.95401,     0.95456,     0.95622,     0.95726,     0.95724,     0.95721,     0.95717,      0.9583,     0.95821,      0.9583,     0.95926,     0.95924,\n",
              "            0.95923,     0.95921,     0.96032,     0.96143,     0.96141,     0.96138,     0.96135,     0.96253,     0.96251,     0.96248,     0.96239,     0.96352,     0.96349,     0.96459,     0.96457,      0.9645,     0.96448,     0.96447,     0.96446,     0.96445,     0.96445,     0.96444,     0.96443,\n",
              "            0.96443,     0.96442,     0.96728,     0.96829,     0.96914,     0.96913,     0.97024,     0.97022,     0.97021,     0.97012,     0.97007,     0.97004,     0.97001,     0.96998,     0.96995,     0.96989,     0.96987,     0.96979,     0.96975,     0.96964,     0.96959,      0.9695,     0.96942,\n",
              "            0.97062,     0.97059,     0.97055,     0.97179,     0.97211,     0.97278,     0.97307,     0.97305,     0.97422,     0.97418,     0.97416,      0.9741,      0.9753,     0.97528,     0.97657,     0.97648,     0.97646,      0.9764,     0.97633,     0.97629,     0.97625,     0.97623,     0.97621,\n",
              "            0.97619,     0.97612,     0.97607,     0.97605,       0.977,     0.97863,     0.97853,     0.97942,     0.97985,     0.97983,     0.97973,     0.97971,     0.97964,     0.97958,     0.97956,     0.97954,     0.97943,     0.97941,      0.9794,     0.97938,     0.98073,     0.98072,      0.9807,\n",
              "            0.98061,      0.9805,     0.98044,      0.9804,     0.98034,     0.98025,     0.98012,      0.9801,     0.98004,     0.97992,     0.97987,     0.97985,      0.9797,      0.9796,     0.98235,     0.98452,     0.98559,     0.98795,     0.98881,     0.99032,     0.99031,     0.99029,     0.99027,\n",
              "            0.99021,     0.99014,     0.99013,     0.99006,     0.99002,     0.98995,     0.98989,     0.98988,     0.98977,     0.98975,     0.98973,      0.9896,     0.98948,     0.99119,     0.99115,     0.99101,     0.99094,     0.99089,     0.99084,     0.99083,     0.99075,     0.99255,     0.99245,\n",
              "            0.99242,     0.99234,     0.99224,     0.99222,     0.99221,      0.9922,     0.99216,     0.99208,     0.99199,     0.99193,     0.99186,     0.99175,     0.99162,     0.99149,      0.9914,     0.99343,     0.99337,     0.99333,     0.99327,     0.99322,     0.99312,     0.99306,     0.99531,\n",
              "            0.99517,     0.99514,     0.99509,     0.99504,     0.99497,     0.99493,      0.9949,     0.99484,     0.99479,     0.99468,     0.99464,      0.9945,     0.99721,     0.99718,     0.99713,      0.9971,     0.99706,     0.99698,     0.99696,     0.99693,     0.99687,     0.99679,     0.99671,\n",
              "            0.99667,     0.99661,     0.99653,     0.99646,     0.99636,     0.99625,     0.99618,     0.99603,           1,           1,           1,           1,           1,           1,           1,           1,           1,           1,           1,           1,           1,           1,           1,\n",
              "                  1,           1,           1,           1,           1,           1,           1,           1,           1,           1,           1,           1,           1,           1,           1,           1,           1,           1,           1,           1,           1,           1,           1,\n",
              "                  1,           1,           1,           1,           1,           1,           1,           1,           1,           1,           1,           1,           1,           1,           1,           1,           1,           1,           1,           1,           1,           1,           1,\n",
              "                  1,           1,           1,           1,           1,           1,           1,           1,           1,           1,           1,           1,           1,           1,           1,           1,           1,           1,           1,           1,           1,           1,           1,\n",
              "                  1,           1,           1,           1,           1,           1,           1,           1,           1,           1,           1,           1,           1,           1,           1,           1,           1,           1,           1,           1,           1,           1,           1,\n",
              "                  1,           1,           1,           1,           1,           1,           1,           1,           1,           1,           1]]), 'Confidence', 'Precision'], [array([          0,    0.001001,    0.002002,    0.003003,    0.004004,    0.005005,    0.006006,    0.007007,    0.008008,    0.009009,     0.01001,    0.011011,    0.012012,    0.013013,    0.014014,    0.015015,    0.016016,    0.017017,    0.018018,    0.019019,     0.02002,    0.021021,    0.022022,    0.023023,\n",
              "          0.024024,    0.025025,    0.026026,    0.027027,    0.028028,    0.029029,     0.03003,    0.031031,    0.032032,    0.033033,    0.034034,    0.035035,    0.036036,    0.037037,    0.038038,    0.039039,     0.04004,    0.041041,    0.042042,    0.043043,    0.044044,    0.045045,    0.046046,    0.047047,\n",
              "          0.048048,    0.049049,     0.05005,    0.051051,    0.052052,    0.053053,    0.054054,    0.055055,    0.056056,    0.057057,    0.058058,    0.059059,     0.06006,    0.061061,    0.062062,    0.063063,    0.064064,    0.065065,    0.066066,    0.067067,    0.068068,    0.069069,     0.07007,    0.071071,\n",
              "          0.072072,    0.073073,    0.074074,    0.075075,    0.076076,    0.077077,    0.078078,    0.079079,     0.08008,    0.081081,    0.082082,    0.083083,    0.084084,    0.085085,    0.086086,    0.087087,    0.088088,    0.089089,     0.09009,    0.091091,    0.092092,    0.093093,    0.094094,    0.095095,\n",
              "          0.096096,    0.097097,    0.098098,    0.099099,      0.1001,      0.1011,      0.1021,      0.1031,      0.1041,     0.10511,     0.10611,     0.10711,     0.10811,     0.10911,     0.11011,     0.11111,     0.11211,     0.11311,     0.11411,     0.11512,     0.11612,     0.11712,     0.11812,     0.11912,\n",
              "           0.12012,     0.12112,     0.12212,     0.12312,     0.12412,     0.12513,     0.12613,     0.12713,     0.12813,     0.12913,     0.13013,     0.13113,     0.13213,     0.13313,     0.13413,     0.13514,     0.13614,     0.13714,     0.13814,     0.13914,     0.14014,     0.14114,     0.14214,     0.14314,\n",
              "           0.14414,     0.14515,     0.14615,     0.14715,     0.14815,     0.14915,     0.15015,     0.15115,     0.15215,     0.15315,     0.15415,     0.15516,     0.15616,     0.15716,     0.15816,     0.15916,     0.16016,     0.16116,     0.16216,     0.16316,     0.16416,     0.16517,     0.16617,     0.16717,\n",
              "           0.16817,     0.16917,     0.17017,     0.17117,     0.17217,     0.17317,     0.17417,     0.17518,     0.17618,     0.17718,     0.17818,     0.17918,     0.18018,     0.18118,     0.18218,     0.18318,     0.18418,     0.18519,     0.18619,     0.18719,     0.18819,     0.18919,     0.19019,     0.19119,\n",
              "           0.19219,     0.19319,     0.19419,      0.1952,      0.1962,      0.1972,      0.1982,      0.1992,      0.2002,      0.2012,      0.2022,      0.2032,      0.2042,     0.20521,     0.20621,     0.20721,     0.20821,     0.20921,     0.21021,     0.21121,     0.21221,     0.21321,     0.21421,     0.21522,\n",
              "           0.21622,     0.21722,     0.21822,     0.21922,     0.22022,     0.22122,     0.22222,     0.22322,     0.22422,     0.22523,     0.22623,     0.22723,     0.22823,     0.22923,     0.23023,     0.23123,     0.23223,     0.23323,     0.23423,     0.23524,     0.23624,     0.23724,     0.23824,     0.23924,\n",
              "           0.24024,     0.24124,     0.24224,     0.24324,     0.24424,     0.24525,     0.24625,     0.24725,     0.24825,     0.24925,     0.25025,     0.25125,     0.25225,     0.25325,     0.25425,     0.25526,     0.25626,     0.25726,     0.25826,     0.25926,     0.26026,     0.26126,     0.26226,     0.26326,\n",
              "           0.26426,     0.26527,     0.26627,     0.26727,     0.26827,     0.26927,     0.27027,     0.27127,     0.27227,     0.27327,     0.27427,     0.27528,     0.27628,     0.27728,     0.27828,     0.27928,     0.28028,     0.28128,     0.28228,     0.28328,     0.28428,     0.28529,     0.28629,     0.28729,\n",
              "           0.28829,     0.28929,     0.29029,     0.29129,     0.29229,     0.29329,     0.29429,      0.2953,      0.2963,      0.2973,      0.2983,      0.2993,      0.3003,      0.3013,      0.3023,      0.3033,      0.3043,     0.30531,     0.30631,     0.30731,     0.30831,     0.30931,     0.31031,     0.31131,\n",
              "           0.31231,     0.31331,     0.31431,     0.31532,     0.31632,     0.31732,     0.31832,     0.31932,     0.32032,     0.32132,     0.32232,     0.32332,     0.32432,     0.32533,     0.32633,     0.32733,     0.32833,     0.32933,     0.33033,     0.33133,     0.33233,     0.33333,     0.33433,     0.33534,\n",
              "           0.33634,     0.33734,     0.33834,     0.33934,     0.34034,     0.34134,     0.34234,     0.34334,     0.34434,     0.34535,     0.34635,     0.34735,     0.34835,     0.34935,     0.35035,     0.35135,     0.35235,     0.35335,     0.35435,     0.35536,     0.35636,     0.35736,     0.35836,     0.35936,\n",
              "           0.36036,     0.36136,     0.36236,     0.36336,     0.36436,     0.36537,     0.36637,     0.36737,     0.36837,     0.36937,     0.37037,     0.37137,     0.37237,     0.37337,     0.37437,     0.37538,     0.37638,     0.37738,     0.37838,     0.37938,     0.38038,     0.38138,     0.38238,     0.38338,\n",
              "           0.38438,     0.38539,     0.38639,     0.38739,     0.38839,     0.38939,     0.39039,     0.39139,     0.39239,     0.39339,     0.39439,      0.3954,      0.3964,      0.3974,      0.3984,      0.3994,      0.4004,      0.4014,      0.4024,      0.4034,      0.4044,     0.40541,     0.40641,     0.40741,\n",
              "           0.40841,     0.40941,     0.41041,     0.41141,     0.41241,     0.41341,     0.41441,     0.41542,     0.41642,     0.41742,     0.41842,     0.41942,     0.42042,     0.42142,     0.42242,     0.42342,     0.42442,     0.42543,     0.42643,     0.42743,     0.42843,     0.42943,     0.43043,     0.43143,\n",
              "           0.43243,     0.43343,     0.43443,     0.43544,     0.43644,     0.43744,     0.43844,     0.43944,     0.44044,     0.44144,     0.44244,     0.44344,     0.44444,     0.44545,     0.44645,     0.44745,     0.44845,     0.44945,     0.45045,     0.45145,     0.45245,     0.45345,     0.45445,     0.45546,\n",
              "           0.45646,     0.45746,     0.45846,     0.45946,     0.46046,     0.46146,     0.46246,     0.46346,     0.46446,     0.46547,     0.46647,     0.46747,     0.46847,     0.46947,     0.47047,     0.47147,     0.47247,     0.47347,     0.47447,     0.47548,     0.47648,     0.47748,     0.47848,     0.47948,\n",
              "           0.48048,     0.48148,     0.48248,     0.48348,     0.48448,     0.48549,     0.48649,     0.48749,     0.48849,     0.48949,     0.49049,     0.49149,     0.49249,     0.49349,     0.49449,      0.4955,      0.4965,      0.4975,      0.4985,      0.4995,      0.5005,      0.5015,      0.5025,      0.5035,\n",
              "            0.5045,     0.50551,     0.50651,     0.50751,     0.50851,     0.50951,     0.51051,     0.51151,     0.51251,     0.51351,     0.51451,     0.51552,     0.51652,     0.51752,     0.51852,     0.51952,     0.52052,     0.52152,     0.52252,     0.52352,     0.52452,     0.52553,     0.52653,     0.52753,\n",
              "           0.52853,     0.52953,     0.53053,     0.53153,     0.53253,     0.53353,     0.53453,     0.53554,     0.53654,     0.53754,     0.53854,     0.53954,     0.54054,     0.54154,     0.54254,     0.54354,     0.54454,     0.54555,     0.54655,     0.54755,     0.54855,     0.54955,     0.55055,     0.55155,\n",
              "           0.55255,     0.55355,     0.55455,     0.55556,     0.55656,     0.55756,     0.55856,     0.55956,     0.56056,     0.56156,     0.56256,     0.56356,     0.56456,     0.56557,     0.56657,     0.56757,     0.56857,     0.56957,     0.57057,     0.57157,     0.57257,     0.57357,     0.57457,     0.57558,\n",
              "           0.57658,     0.57758,     0.57858,     0.57958,     0.58058,     0.58158,     0.58258,     0.58358,     0.58458,     0.58559,     0.58659,     0.58759,     0.58859,     0.58959,     0.59059,     0.59159,     0.59259,     0.59359,     0.59459,      0.5956,      0.5966,      0.5976,      0.5986,      0.5996,\n",
              "            0.6006,      0.6016,      0.6026,      0.6036,      0.6046,     0.60561,     0.60661,     0.60761,     0.60861,     0.60961,     0.61061,     0.61161,     0.61261,     0.61361,     0.61461,     0.61562,     0.61662,     0.61762,     0.61862,     0.61962,     0.62062,     0.62162,     0.62262,     0.62362,\n",
              "           0.62462,     0.62563,     0.62663,     0.62763,     0.62863,     0.62963,     0.63063,     0.63163,     0.63263,     0.63363,     0.63463,     0.63564,     0.63664,     0.63764,     0.63864,     0.63964,     0.64064,     0.64164,     0.64264,     0.64364,     0.64464,     0.64565,     0.64665,     0.64765,\n",
              "           0.64865,     0.64965,     0.65065,     0.65165,     0.65265,     0.65365,     0.65465,     0.65566,     0.65666,     0.65766,     0.65866,     0.65966,     0.66066,     0.66166,     0.66266,     0.66366,     0.66466,     0.66567,     0.66667,     0.66767,     0.66867,     0.66967,     0.67067,     0.67167,\n",
              "           0.67267,     0.67367,     0.67467,     0.67568,     0.67668,     0.67768,     0.67868,     0.67968,     0.68068,     0.68168,     0.68268,     0.68368,     0.68468,     0.68569,     0.68669,     0.68769,     0.68869,     0.68969,     0.69069,     0.69169,     0.69269,     0.69369,     0.69469,      0.6957,\n",
              "            0.6967,      0.6977,      0.6987,      0.6997,      0.7007,      0.7017,      0.7027,      0.7037,      0.7047,     0.70571,     0.70671,     0.70771,     0.70871,     0.70971,     0.71071,     0.71171,     0.71271,     0.71371,     0.71471,     0.71572,     0.71672,     0.71772,     0.71872,     0.71972,\n",
              "           0.72072,     0.72172,     0.72272,     0.72372,     0.72472,     0.72573,     0.72673,     0.72773,     0.72873,     0.72973,     0.73073,     0.73173,     0.73273,     0.73373,     0.73473,     0.73574,     0.73674,     0.73774,     0.73874,     0.73974,     0.74074,     0.74174,     0.74274,     0.74374,\n",
              "           0.74474,     0.74575,     0.74675,     0.74775,     0.74875,     0.74975,     0.75075,     0.75175,     0.75275,     0.75375,     0.75475,     0.75576,     0.75676,     0.75776,     0.75876,     0.75976,     0.76076,     0.76176,     0.76276,     0.76376,     0.76476,     0.76577,     0.76677,     0.76777,\n",
              "           0.76877,     0.76977,     0.77077,     0.77177,     0.77277,     0.77377,     0.77477,     0.77578,     0.77678,     0.77778,     0.77878,     0.77978,     0.78078,     0.78178,     0.78278,     0.78378,     0.78478,     0.78579,     0.78679,     0.78779,     0.78879,     0.78979,     0.79079,     0.79179,\n",
              "           0.79279,     0.79379,     0.79479,      0.7958,      0.7968,      0.7978,      0.7988,      0.7998,      0.8008,      0.8018,      0.8028,      0.8038,      0.8048,     0.80581,     0.80681,     0.80781,     0.80881,     0.80981,     0.81081,     0.81181,     0.81281,     0.81381,     0.81481,     0.81582,\n",
              "           0.81682,     0.81782,     0.81882,     0.81982,     0.82082,     0.82182,     0.82282,     0.82382,     0.82482,     0.82583,     0.82683,     0.82783,     0.82883,     0.82983,     0.83083,     0.83183,     0.83283,     0.83383,     0.83483,     0.83584,     0.83684,     0.83784,     0.83884,     0.83984,\n",
              "           0.84084,     0.84184,     0.84284,     0.84384,     0.84484,     0.84585,     0.84685,     0.84785,     0.84885,     0.84985,     0.85085,     0.85185,     0.85285,     0.85385,     0.85485,     0.85586,     0.85686,     0.85786,     0.85886,     0.85986,     0.86086,     0.86186,     0.86286,     0.86386,\n",
              "           0.86486,     0.86587,     0.86687,     0.86787,     0.86887,     0.86987,     0.87087,     0.87187,     0.87287,     0.87387,     0.87487,     0.87588,     0.87688,     0.87788,     0.87888,     0.87988,     0.88088,     0.88188,     0.88288,     0.88388,     0.88488,     0.88589,     0.88689,     0.88789,\n",
              "           0.88889,     0.88989,     0.89089,     0.89189,     0.89289,     0.89389,     0.89489,      0.8959,      0.8969,      0.8979,      0.8989,      0.8999,      0.9009,      0.9019,      0.9029,      0.9039,      0.9049,     0.90591,     0.90691,     0.90791,     0.90891,     0.90991,     0.91091,     0.91191,\n",
              "           0.91291,     0.91391,     0.91491,     0.91592,     0.91692,     0.91792,     0.91892,     0.91992,     0.92092,     0.92192,     0.92292,     0.92392,     0.92492,     0.92593,     0.92693,     0.92793,     0.92893,     0.92993,     0.93093,     0.93193,     0.93293,     0.93393,     0.93493,     0.93594,\n",
              "           0.93694,     0.93794,     0.93894,     0.93994,     0.94094,     0.94194,     0.94294,     0.94394,     0.94494,     0.94595,     0.94695,     0.94795,     0.94895,     0.94995,     0.95095,     0.95195,     0.95295,     0.95395,     0.95495,     0.95596,     0.95696,     0.95796,     0.95896,     0.95996,\n",
              "           0.96096,     0.96196,     0.96296,     0.96396,     0.96496,     0.96597,     0.96697,     0.96797,     0.96897,     0.96997,     0.97097,     0.97197,     0.97297,     0.97397,     0.97497,     0.97598,     0.97698,     0.97798,     0.97898,     0.97998,     0.98098,     0.98198,     0.98298,     0.98398,\n",
              "           0.98498,     0.98599,     0.98699,     0.98799,     0.98899,     0.98999,     0.99099,     0.99199,     0.99299,     0.99399,     0.99499,       0.996,       0.997,       0.998,       0.999,           1]), array([[          1,           1,           1,           1,           1,           1,     0.99893,     0.99893,     0.99893,     0.99893,     0.99573,     0.99573,     0.99573,     0.99573,     0.99573,     0.99573,     0.99573,     0.99573,     0.99573,     0.99466,     0.99466,     0.99466,     0.99466,\n",
              "            0.99466,     0.99466,     0.99466,     0.99466,     0.99466,     0.99466,     0.99466,     0.99466,     0.99466,     0.99466,     0.99466,     0.99466,     0.99466,     0.99466,     0.99466,     0.99466,     0.99466,     0.99466,     0.99466,     0.99466,     0.99466,     0.99466,     0.99466,\n",
              "            0.99466,     0.99466,     0.99466,     0.99466,     0.99466,      0.9936,      0.9936,      0.9936,      0.9936,      0.9936,      0.9936,      0.9936,      0.9936,      0.9936,      0.9936,      0.9936,      0.9936,      0.9936,      0.9936,      0.9936,      0.9936,      0.9936,      0.9936,\n",
              "             0.9936,      0.9936,      0.9936,      0.9936,      0.9936,      0.9936,      0.9936,      0.9936,      0.9936,      0.9936,      0.9936,      0.9936,      0.9936,      0.9936,      0.9936,      0.9936,      0.9936,      0.9936,      0.9936,      0.9936,      0.9936,      0.9936,      0.9936,\n",
              "             0.9936,      0.9936,      0.9936,     0.99253,     0.99253,     0.99253,      0.9921,     0.99148,     0.99146,     0.99146,     0.99146,     0.99146,     0.99146,     0.99146,     0.99146,     0.99146,     0.99146,     0.99146,     0.99146,     0.99146,     0.99146,     0.99146,     0.99129,\n",
              "            0.99081,     0.99039,     0.99039,     0.99039,     0.99039,     0.99039,     0.99039,     0.99039,     0.99039,     0.99039,     0.99039,     0.99039,     0.99039,     0.99039,     0.99039,     0.99039,     0.99039,     0.99039,     0.99039,     0.99039,     0.99039,     0.99039,     0.99039,\n",
              "            0.99039,     0.99039,     0.99039,     0.99039,     0.99039,     0.99039,     0.98988,     0.98933,     0.98933,     0.98933,     0.98933,     0.98933,     0.98905,     0.98826,     0.98826,     0.98826,     0.98826,     0.98826,     0.98826,     0.98826,     0.98826,     0.98826,     0.98826,\n",
              "            0.98826,     0.98826,     0.98826,     0.98826,     0.98826,     0.98826,     0.98826,     0.98826,     0.98826,     0.98826,     0.98826,     0.98826,     0.98826,     0.98826,     0.98826,     0.98826,     0.98826,     0.98826,     0.98787,     0.98719,     0.98696,     0.98649,     0.98613,\n",
              "            0.98613,     0.98613,     0.98613,     0.98613,     0.98535,     0.98506,     0.98506,     0.98506,     0.98506,     0.98506,     0.98506,     0.98484,     0.98399,     0.98399,     0.98399,     0.98399,     0.98399,     0.98292,     0.98292,     0.98292,     0.98292,     0.98186,     0.98186,\n",
              "            0.98186,     0.98186,     0.98186,     0.98186,     0.98186,     0.98186,     0.98079,     0.97972,     0.97886,     0.97866,     0.97866,     0.97866,     0.97866,     0.97866,     0.97866,     0.97866,     0.97866,     0.97866,     0.97866,     0.97866,     0.97866,     0.97866,     0.97866,\n",
              "            0.97866,     0.97759,     0.97662,     0.97652,     0.97652,      0.9761,     0.97562,     0.97431,     0.97308,     0.97235,     0.97225,     0.97225,     0.97225,     0.97225,     0.97182,     0.97012,     0.97012,     0.97012,     0.97012,     0.96865,     0.96798,     0.96798,     0.96798,\n",
              "            0.96798,     0.96798,     0.96798,     0.96798,     0.96798,     0.96798,     0.96798,     0.96798,     0.96798,     0.96798,     0.96798,     0.96798,     0.96798,     0.96798,     0.96798,     0.96798,     0.96798,     0.96798,     0.96798,     0.96798,     0.96798,     0.96798,     0.96798,\n",
              "            0.96798,     0.96757,     0.96694,     0.96692,     0.96692,     0.96692,     0.96692,     0.96692,     0.96692,     0.96692,     0.96692,     0.96692,     0.96692,     0.96692,     0.96692,     0.96692,     0.96692,     0.96692,     0.96676,     0.96585,     0.96585,     0.96585,     0.96585,\n",
              "            0.96585,     0.96585,     0.96585,     0.96585,     0.96585,     0.96585,     0.96585,     0.96585,     0.96585,     0.96585,     0.96552,     0.96478,     0.96478,     0.96478,     0.96478,     0.96478,     0.96478,     0.96478,     0.96371,     0.96342,     0.96311,      0.9628,     0.96265,\n",
              "            0.96265,     0.96265,     0.96265,     0.96265,     0.96265,     0.96265,     0.96189,     0.96158,     0.96158,     0.96158,     0.96158,     0.96158,     0.96158,     0.96158,     0.96158,     0.96158,     0.96158,     0.96158,     0.96158,     0.96158,     0.96158,     0.96158,     0.96158,\n",
              "            0.96158,     0.96158,     0.96096,     0.95945,     0.95945,     0.95945,     0.95945,     0.95945,     0.95945,     0.95945,     0.95945,     0.95909,     0.95855,     0.95838,     0.95838,     0.95838,     0.95838,     0.95829,       0.958,     0.95771,     0.95741,     0.95731,     0.95721,\n",
              "            0.95706,     0.95691,     0.95676,     0.95661,     0.95646,      0.9563,     0.95624,     0.95624,     0.95624,     0.95624,     0.95624,     0.95624,     0.95624,     0.95624,     0.95624,     0.95624,     0.95624,     0.95624,     0.95624,     0.95624,     0.95624,      0.9558,     0.95411,\n",
              "            0.95411,     0.95411,     0.95411,     0.95411,     0.95411,     0.95411,     0.95411,     0.95411,     0.95411,     0.95411,     0.95411,     0.95411,     0.95411,     0.95411,     0.95411,     0.95411,     0.95411,     0.95411,     0.95411,     0.95411,     0.95411,     0.95411,     0.95411,\n",
              "            0.95411,     0.95411,     0.95411,     0.95411,     0.95386,     0.95349,     0.95313,      0.9522,     0.95197,     0.95188,     0.95091,     0.95091,     0.94984,     0.94984,     0.94984,     0.94984,     0.94984,     0.94984,     0.94979,     0.94963,     0.94947,      0.9493,     0.94914,\n",
              "            0.94898,     0.94882,     0.94799,     0.94771,     0.94771,     0.94771,     0.94771,     0.94725,      0.9467,     0.94652,     0.94638,     0.94624,     0.94611,     0.94597,     0.94583,      0.9457,     0.94557,     0.94557,     0.94557,     0.94557,     0.94534,     0.94479,      0.9445,\n",
              "             0.9445,      0.9445,      0.9445,      0.9445,      0.9445,      0.9445,      0.9438,     0.94344,     0.94344,     0.94344,     0.94344,      0.9433,     0.94311,     0.94293,     0.94275,     0.94257,     0.94238,     0.94204,     0.94167,     0.94131,     0.94103,     0.94076,     0.94049,\n",
              "            0.94023,     0.94023,     0.93902,     0.93806,     0.93778,     0.93751,     0.93724,     0.93703,     0.93597,     0.93597,     0.93597,     0.93451,     0.93362,     0.93308,      0.9323,      0.9317,      0.9317,      0.9317,     0.93063,     0.93063,     0.93063,     0.92998,     0.92888,\n",
              "             0.9285,      0.9285,      0.9285,      0.9285,      0.9285,     0.92807,     0.92753,     0.92743,     0.92743,     0.92743,     0.92743,     0.92743,      0.9264,     0.92636,     0.92582,     0.92527,     0.92473,     0.92418,     0.92363,     0.92301,     0.92203,     0.92167,      0.9213,\n",
              "            0.91996,     0.91996,     0.91996,     0.91996,     0.91877,     0.91841,     0.91804,     0.91676,     0.91629,     0.91569,      0.9141,     0.91337,     0.91301,     0.91264,     0.91228,     0.91191,     0.91155,     0.91142,     0.91142,     0.91142,     0.91142,     0.91142,     0.91142,\n",
              "            0.91142,     0.91142,     0.91096,     0.91041,      0.9097,     0.90882,     0.90822,     0.90715,     0.90715,     0.90715,     0.90715,     0.90652,     0.90608,     0.90608,     0.90608,     0.90608,     0.90532,     0.90423,     0.90313,     0.90181,     0.90181,     0.90092,     0.90029,\n",
              "            0.89974,      0.8987,     0.89811,     0.89756,     0.89755,     0.89755,     0.89755,     0.89744,     0.89726,     0.89708,      0.8969,     0.89672,     0.89653,     0.89648,     0.89621,     0.89585,     0.89549,     0.89541,     0.89541,     0.89449,     0.89339,     0.89328,     0.89281,\n",
              "            0.89221,     0.89221,     0.89059,      0.8895,     0.88774,     0.88737,     0.88701,     0.88619,     0.88533,     0.88474,     0.88367,     0.88367,     0.88367,     0.88336,      0.8826,     0.88248,     0.88212,     0.88175,     0.88124,     0.88051,     0.88021,     0.87994,     0.87967,\n",
              "            0.87834,      0.8783,     0.87775,     0.87719,     0.87646,     0.87549,     0.87476,     0.87422,     0.87221,     0.87111,     0.87086,     0.87086,     0.87086,     0.87086,     0.87086,      0.8698,      0.8698,     0.86877,     0.86713,      0.8666,     0.86553,     0.86553,     0.86553,\n",
              "             0.8652,     0.86465,     0.86268,     0.86126,     0.86126,       0.861,     0.85884,     0.85797,     0.85766,     0.85734,     0.85703,     0.85699,     0.85699,     0.85699,     0.85699,     0.85699,     0.85699,     0.85699,     0.85659,     0.85589,     0.85553,     0.85516,     0.85486,\n",
              "            0.85305,     0.85089,     0.85027,     0.84983,     0.84921,     0.84705,     0.84501,     0.84428,     0.84264,     0.84209,     0.84181,     0.84127,     0.84098,     0.83885,     0.83669,     0.83614,     0.83558,     0.83485,     0.83389,     0.83197,     0.82924,     0.82918,     0.82886,\n",
              "            0.82855,     0.82824,     0.82653,     0.82479,     0.82424,     0.82363,      0.8229,     0.82244,       0.822,     0.82125,     0.81927,     0.81747,     0.81674,     0.81398,     0.81344,     0.81189,     0.81145,     0.81107,     0.81093,     0.81078,     0.81063,     0.81049,     0.81034,\n",
              "             0.8102,     0.81005,      0.8079,     0.80576,     0.80576,     0.80401,     0.80022,     0.79978,     0.79931,     0.79708,     0.79552,     0.79465,     0.79392,     0.79319,     0.79222,     0.79071,     0.79016,     0.78811,     0.78677,     0.78408,     0.78262,     0.78029,     0.77813,\n",
              "            0.77558,     0.77485,     0.77378,     0.77215,     0.77161,     0.77161,     0.77131,     0.77076,     0.76615,     0.76511,     0.76438,     0.76258,     0.75865,     0.75792,     0.75612,     0.75326,     0.75253,     0.75073,     0.74841,     0.74718,     0.74577,     0.74523,      0.7446,\n",
              "            0.74387,     0.74169,     0.74008,     0.73746,     0.73746,     0.73306,     0.72968,     0.72785,     0.72642,     0.72587,     0.72234,     0.72162,     0.71875,     0.71684,     0.71593,     0.71538,     0.71157,     0.71084,     0.71028,     0.70973,     0.70625,      0.7057,     0.70486,\n",
              "            0.70163,     0.69755,     0.69558,     0.69408,     0.69192,     0.68869,     0.68394,     0.68321,     0.68114,     0.67713,     0.67533,      0.6746,     0.66943,     0.66607,     0.66275,     0.65848,     0.65848,     0.65635,     0.65635,     0.65505,     0.65461,     0.65295,     0.65142,\n",
              "             0.6475,     0.64307,     0.64206,     0.63774,     0.63528,     0.63098,     0.62697,     0.62613,      0.6197,      0.6186,     0.61709,     0.60956,     0.60251,     0.60035,     0.59766,     0.58803,     0.58368,     0.58043,     0.57731,     0.57658,     0.57173,     0.56847,     0.56116,\n",
              "            0.55876,     0.55337,     0.54585,     0.54451,     0.54385,     0.54331,      0.5403,     0.53491,     0.52837,      0.5246,     0.52031,     0.51335,     0.50531,     0.49723,     0.49184,     0.48432,        0.48,      0.4769,      0.4726,     0.46937,     0.46188,     0.45839,       0.453,\n",
              "            0.44014,     0.43688,     0.43293,     0.42824,      0.4222,     0.41897,     0.41634,     0.41145,     0.40769,     0.39912,     0.39585,     0.38619,      0.3808,     0.37754,     0.37109,     0.36748,     0.36244,     0.35278,     0.34953,     0.34627,     0.33981,     0.33122,       0.323,\n",
              "            0.31938,     0.31399,     0.30638,     0.30001,     0.29248,     0.28335,      0.2785,     0.26778,     0.26566,     0.25806,     0.25267,     0.24904,     0.24616,     0.23971,     0.23722,      0.2332,     0.22247,     0.21708,     0.21364,     0.20524,     0.20398,     0.19766,       0.188,\n",
              "            0.18581,     0.18253,     0.16916,     0.16166,     0.15843,     0.14934,     0.14173,     0.13528,     0.12882,     0.12095,     0.11726,     0.11653,      0.1094,     0.10643,     0.10182,    0.094639,     0.09104,    0.087785,    0.085488,    0.083327,    0.078019,    0.075803,    0.073108,\n",
              "           0.070413,    0.068201,    0.064945,    0.063396,    0.061235,    0.060487,     0.05994,     0.05614,    0.050751,    0.049362,    0.044241,    0.042053,    0.038798,     0.03675,    0.034422,    0.033672,    0.033125,    0.029993,    0.027776,    0.024192,    0.023454,    0.022377,    0.021648,\n",
              "           0.020919,    0.020146,    0.019052,    0.015823,      0.0148,    0.014071,    0.012579,    0.012266,    0.011953,    0.011509,     0.01078,    0.010503,    0.010304,    0.010105,   0.0099061,   0.0097072,   0.0092501,    0.007466,   0.0072671,   0.0070682,   0.0068693,   0.0066704,   0.0064715,\n",
              "          0.0051763,   0.0049332,   0.0046901,    0.004447,   0.0039762,   0.0030739,   0.0026364,   0.0021988,     0.00201,   0.0018642,   0.0017183,   0.0015725,   0.0014266,   0.0012808,   0.0011349,           0,           0,           0,           0,           0,           0,           0,           0,\n",
              "                  0,           0,           0,           0,           0,           0,           0,           0,           0,           0,           0]]), 'Confidence', 'Recall']]\n",
              "fitness: np.float64(0.7335196674102695)\n",
              "keys: ['metrics/precision(B)', 'metrics/recall(B)', 'metrics/mAP50(B)', 'metrics/mAP50-95(B)']\n",
              "maps: array([    0.70724])\n",
              "names: {0: 'Vehicle'}\n",
              "nt_per_class: array([937])\n",
              "nt_per_image: array([90])\n",
              "results_dict: {'metrics/precision(B)': np.float64(0.8898473374786428), 'metrics/recall(B)': np.float64(0.935965848452508), 'metrics/mAP50(B)': np.float64(0.9700372374836017), 'metrics/mAP50-95(B)': np.float64(0.7072399374021214), 'fitness': np.float64(0.7335196674102695)}\n",
              "save_dir: PosixPath('runs/detect/train2')\n",
              "speed: {'preprocess': 0.46682301111155133, 'inference': 3.6272143444446354, 'loss': 0.0006866777817372673, 'postprocess': 6.2735059666667645}\n",
              "stats: {'tp': [], 'conf': [], 'pred_cls': [], 'target_cls': [], 'target_img': []}\n",
              "task: 'detect'"
            ]
          },
          "metadata": {},
          "execution_count": 10
        }
      ]
    },
    {
      "cell_type": "code",
      "source": [
        "results = model.predict('/content/test.mp4', save=True, project='/content', name='output_video')\n"
      ],
      "metadata": {
        "collapsed": true,
        "id": "hvGPXXoqFsYL",
        "outputId": "7729ceca-6d91-47dc-da59-df9c57b8c3e1",
        "colab": {
          "base_uri": "https://localhost:8080/"
        }
      },
      "execution_count": 11,
      "outputs": [
        {
          "output_type": "stream",
          "name": "stdout",
          "text": [
            "\n",
            "WARNING ⚠️ \n",
            "inference results will accumulate in RAM unless `stream=True` is passed, causing potential out-of-memory\n",
            "errors for large sources or long-running streams and videos. See https://docs.ultralytics.com/modes/predict/ for help.\n",
            "\n",
            "Example:\n",
            "    results = model(source=..., stream=True)  # generator of Results objects\n",
            "    for r in results:\n",
            "        boxes = r.boxes  # Boxes object for bbox outputs\n",
            "        masks = r.masks  # Masks object for segment masks outputs\n",
            "        probs = r.probs  # Class probabilities for classification outputs\n",
            "\n",
            "video 1/1 (frame 1/652) /content/test.mp4: 352x640 10 Vehicles, 38.3ms\n",
            "video 1/1 (frame 2/652) /content/test.mp4: 352x640 12 Vehicles, 10.3ms\n",
            "video 1/1 (frame 3/652) /content/test.mp4: 352x640 11 Vehicles, 7.0ms\n",
            "video 1/1 (frame 4/652) /content/test.mp4: 352x640 11 Vehicles, 7.3ms\n",
            "video 1/1 (frame 5/652) /content/test.mp4: 352x640 12 Vehicles, 8.4ms\n",
            "video 1/1 (frame 6/652) /content/test.mp4: 352x640 12 Vehicles, 7.2ms\n",
            "video 1/1 (frame 7/652) /content/test.mp4: 352x640 12 Vehicles, 7.3ms\n",
            "video 1/1 (frame 8/652) /content/test.mp4: 352x640 11 Vehicles, 7.2ms\n",
            "video 1/1 (frame 9/652) /content/test.mp4: 352x640 11 Vehicles, 7.0ms\n",
            "video 1/1 (frame 10/652) /content/test.mp4: 352x640 12 Vehicles, 7.3ms\n",
            "video 1/1 (frame 11/652) /content/test.mp4: 352x640 11 Vehicles, 6.9ms\n",
            "video 1/1 (frame 12/652) /content/test.mp4: 352x640 12 Vehicles, 7.7ms\n",
            "video 1/1 (frame 13/652) /content/test.mp4: 352x640 12 Vehicles, 9.5ms\n",
            "video 1/1 (frame 14/652) /content/test.mp4: 352x640 12 Vehicles, 12.0ms\n",
            "video 1/1 (frame 15/652) /content/test.mp4: 352x640 12 Vehicles, 6.9ms\n",
            "video 1/1 (frame 16/652) /content/test.mp4: 352x640 11 Vehicles, 7.1ms\n",
            "video 1/1 (frame 17/652) /content/test.mp4: 352x640 12 Vehicles, 7.0ms\n",
            "video 1/1 (frame 18/652) /content/test.mp4: 352x640 12 Vehicles, 7.2ms\n",
            "video 1/1 (frame 19/652) /content/test.mp4: 352x640 12 Vehicles, 7.4ms\n",
            "video 1/1 (frame 20/652) /content/test.mp4: 352x640 11 Vehicles, 7.7ms\n",
            "video 1/1 (frame 21/652) /content/test.mp4: 352x640 12 Vehicles, 7.5ms\n",
            "video 1/1 (frame 22/652) /content/test.mp4: 352x640 12 Vehicles, 9.3ms\n",
            "video 1/1 (frame 23/652) /content/test.mp4: 352x640 11 Vehicles, 6.6ms\n",
            "video 1/1 (frame 24/652) /content/test.mp4: 352x640 11 Vehicles, 7.3ms\n",
            "video 1/1 (frame 25/652) /content/test.mp4: 352x640 12 Vehicles, 8.1ms\n",
            "video 1/1 (frame 26/652) /content/test.mp4: 352x640 12 Vehicles, 7.8ms\n",
            "video 1/1 (frame 27/652) /content/test.mp4: 352x640 11 Vehicles, 7.0ms\n",
            "video 1/1 (frame 28/652) /content/test.mp4: 352x640 10 Vehicles, 7.2ms\n",
            "video 1/1 (frame 29/652) /content/test.mp4: 352x640 12 Vehicles, 7.7ms\n",
            "video 1/1 (frame 30/652) /content/test.mp4: 352x640 12 Vehicles, 10.4ms\n",
            "video 1/1 (frame 31/652) /content/test.mp4: 352x640 12 Vehicles, 7.2ms\n",
            "video 1/1 (frame 32/652) /content/test.mp4: 352x640 11 Vehicles, 8.2ms\n",
            "video 1/1 (frame 33/652) /content/test.mp4: 352x640 11 Vehicles, 6.9ms\n",
            "video 1/1 (frame 34/652) /content/test.mp4: 352x640 11 Vehicles, 6.9ms\n",
            "video 1/1 (frame 35/652) /content/test.mp4: 352x640 11 Vehicles, 7.1ms\n",
            "video 1/1 (frame 36/652) /content/test.mp4: 352x640 12 Vehicles, 7.3ms\n",
            "video 1/1 (frame 37/652) /content/test.mp4: 352x640 12 Vehicles, 6.7ms\n",
            "video 1/1 (frame 38/652) /content/test.mp4: 352x640 11 Vehicles, 6.8ms\n",
            "video 1/1 (frame 39/652) /content/test.mp4: 352x640 12 Vehicles, 6.6ms\n",
            "video 1/1 (frame 40/652) /content/test.mp4: 352x640 13 Vehicles, 7.0ms\n",
            "video 1/1 (frame 41/652) /content/test.mp4: 352x640 15 Vehicles, 8.7ms\n",
            "video 1/1 (frame 42/652) /content/test.mp4: 352x640 15 Vehicles, 8.0ms\n",
            "video 1/1 (frame 43/652) /content/test.mp4: 352x640 15 Vehicles, 7.9ms\n",
            "video 1/1 (frame 44/652) /content/test.mp4: 352x640 12 Vehicles, 7.3ms\n",
            "video 1/1 (frame 45/652) /content/test.mp4: 352x640 13 Vehicles, 8.1ms\n",
            "video 1/1 (frame 46/652) /content/test.mp4: 352x640 13 Vehicles, 7.8ms\n",
            "video 1/1 (frame 47/652) /content/test.mp4: 352x640 12 Vehicles, 7.4ms\n",
            "video 1/1 (frame 48/652) /content/test.mp4: 352x640 12 Vehicles, 7.5ms\n",
            "video 1/1 (frame 49/652) /content/test.mp4: 352x640 11 Vehicles, 7.6ms\n",
            "video 1/1 (frame 50/652) /content/test.mp4: 352x640 9 Vehicles, 7.7ms\n",
            "video 1/1 (frame 51/652) /content/test.mp4: 352x640 9 Vehicles, 7.8ms\n",
            "video 1/1 (frame 52/652) /content/test.mp4: 352x640 9 Vehicles, 7.4ms\n",
            "video 1/1 (frame 53/652) /content/test.mp4: 352x640 12 Vehicles, 7.0ms\n",
            "video 1/1 (frame 54/652) /content/test.mp4: 352x640 11 Vehicles, 8.0ms\n",
            "video 1/1 (frame 55/652) /content/test.mp4: 352x640 10 Vehicles, 7.9ms\n",
            "video 1/1 (frame 56/652) /content/test.mp4: 352x640 13 Vehicles, 11.7ms\n",
            "video 1/1 (frame 57/652) /content/test.mp4: 352x640 12 Vehicles, 7.1ms\n",
            "video 1/1 (frame 58/652) /content/test.mp4: 352x640 12 Vehicles, 7.7ms\n",
            "video 1/1 (frame 59/652) /content/test.mp4: 352x640 11 Vehicles, 6.8ms\n",
            "video 1/1 (frame 60/652) /content/test.mp4: 352x640 11 Vehicles, 7.2ms\n",
            "video 1/1 (frame 61/652) /content/test.mp4: 352x640 11 Vehicles, 7.1ms\n",
            "video 1/1 (frame 62/652) /content/test.mp4: 352x640 11 Vehicles, 7.7ms\n",
            "video 1/1 (frame 63/652) /content/test.mp4: 352x640 11 Vehicles, 6.9ms\n",
            "video 1/1 (frame 64/652) /content/test.mp4: 352x640 11 Vehicles, 8.9ms\n",
            "video 1/1 (frame 65/652) /content/test.mp4: 352x640 11 Vehicles, 7.2ms\n",
            "video 1/1 (frame 66/652) /content/test.mp4: 352x640 11 Vehicles, 10.0ms\n",
            "video 1/1 (frame 67/652) /content/test.mp4: 352x640 13 Vehicles, 7.6ms\n",
            "video 1/1 (frame 68/652) /content/test.mp4: 352x640 12 Vehicles, 7.4ms\n",
            "video 1/1 (frame 69/652) /content/test.mp4: 352x640 15 Vehicles, 7.9ms\n",
            "video 1/1 (frame 70/652) /content/test.mp4: 352x640 14 Vehicles, 6.9ms\n",
            "video 1/1 (frame 71/652) /content/test.mp4: 352x640 15 Vehicles, 8.8ms\n",
            "video 1/1 (frame 72/652) /content/test.mp4: 352x640 15 Vehicles, 7.0ms\n",
            "video 1/1 (frame 73/652) /content/test.mp4: 352x640 15 Vehicles, 8.1ms\n",
            "video 1/1 (frame 74/652) /content/test.mp4: 352x640 15 Vehicles, 7.6ms\n",
            "video 1/1 (frame 75/652) /content/test.mp4: 352x640 14 Vehicles, 6.7ms\n",
            "video 1/1 (frame 76/652) /content/test.mp4: 352x640 15 Vehicles, 6.9ms\n",
            "video 1/1 (frame 77/652) /content/test.mp4: 352x640 15 Vehicles, 7.8ms\n",
            "video 1/1 (frame 78/652) /content/test.mp4: 352x640 14 Vehicles, 7.1ms\n",
            "video 1/1 (frame 79/652) /content/test.mp4: 352x640 13 Vehicles, 7.3ms\n",
            "video 1/1 (frame 80/652) /content/test.mp4: 352x640 13 Vehicles, 6.9ms\n",
            "video 1/1 (frame 81/652) /content/test.mp4: 352x640 12 Vehicles, 9.0ms\n",
            "video 1/1 (frame 82/652) /content/test.mp4: 352x640 13 Vehicles, 6.6ms\n",
            "video 1/1 (frame 83/652) /content/test.mp4: 352x640 14 Vehicles, 7.7ms\n",
            "video 1/1 (frame 84/652) /content/test.mp4: 352x640 13 Vehicles, 6.8ms\n",
            "video 1/1 (frame 85/652) /content/test.mp4: 352x640 15 Vehicles, 7.9ms\n",
            "video 1/1 (frame 86/652) /content/test.mp4: 352x640 14 Vehicles, 6.8ms\n",
            "video 1/1 (frame 87/652) /content/test.mp4: 352x640 13 Vehicles, 6.8ms\n",
            "video 1/1 (frame 88/652) /content/test.mp4: 352x640 15 Vehicles, 7.3ms\n",
            "video 1/1 (frame 89/652) /content/test.mp4: 352x640 13 Vehicles, 7.1ms\n",
            "video 1/1 (frame 90/652) /content/test.mp4: 352x640 13 Vehicles, 7.0ms\n",
            "video 1/1 (frame 91/652) /content/test.mp4: 352x640 13 Vehicles, 6.9ms\n",
            "video 1/1 (frame 92/652) /content/test.mp4: 352x640 13 Vehicles, 6.9ms\n",
            "video 1/1 (frame 93/652) /content/test.mp4: 352x640 13 Vehicles, 8.1ms\n",
            "video 1/1 (frame 94/652) /content/test.mp4: 352x640 14 Vehicles, 6.8ms\n",
            "video 1/1 (frame 95/652) /content/test.mp4: 352x640 14 Vehicles, 7.7ms\n",
            "video 1/1 (frame 96/652) /content/test.mp4: 352x640 14 Vehicles, 9.1ms\n",
            "video 1/1 (frame 97/652) /content/test.mp4: 352x640 13 Vehicles, 12.9ms\n",
            "video 1/1 (frame 98/652) /content/test.mp4: 352x640 14 Vehicles, 7.2ms\n",
            "video 1/1 (frame 99/652) /content/test.mp4: 352x640 15 Vehicles, 7.2ms\n",
            "video 1/1 (frame 100/652) /content/test.mp4: 352x640 15 Vehicles, 7.2ms\n",
            "video 1/1 (frame 101/652) /content/test.mp4: 352x640 15 Vehicles, 7.8ms\n",
            "video 1/1 (frame 102/652) /content/test.mp4: 352x640 15 Vehicles, 8.5ms\n",
            "video 1/1 (frame 103/652) /content/test.mp4: 352x640 13 Vehicles, 15.3ms\n",
            "video 1/1 (frame 104/652) /content/test.mp4: 352x640 14 Vehicles, 13.0ms\n",
            "video 1/1 (frame 105/652) /content/test.mp4: 352x640 15 Vehicles, 13.3ms\n",
            "video 1/1 (frame 106/652) /content/test.mp4: 352x640 15 Vehicles, 11.8ms\n",
            "video 1/1 (frame 107/652) /content/test.mp4: 352x640 16 Vehicles, 11.9ms\n",
            "video 1/1 (frame 108/652) /content/test.mp4: 352x640 17 Vehicles, 12.5ms\n",
            "video 1/1 (frame 109/652) /content/test.mp4: 352x640 15 Vehicles, 10.9ms\n",
            "video 1/1 (frame 110/652) /content/test.mp4: 352x640 14 Vehicles, 14.6ms\n",
            "video 1/1 (frame 111/652) /content/test.mp4: 352x640 18 Vehicles, 13.0ms\n",
            "video 1/1 (frame 112/652) /content/test.mp4: 352x640 18 Vehicles, 17.1ms\n",
            "video 1/1 (frame 113/652) /content/test.mp4: 352x640 14 Vehicles, 12.7ms\n",
            "video 1/1 (frame 114/652) /content/test.mp4: 352x640 16 Vehicles, 12.9ms\n",
            "video 1/1 (frame 115/652) /content/test.mp4: 352x640 17 Vehicles, 9.2ms\n",
            "video 1/1 (frame 116/652) /content/test.mp4: 352x640 16 Vehicles, 9.0ms\n",
            "video 1/1 (frame 117/652) /content/test.mp4: 352x640 16 Vehicles, 9.2ms\n",
            "video 1/1 (frame 118/652) /content/test.mp4: 352x640 16 Vehicles, 11.1ms\n",
            "video 1/1 (frame 119/652) /content/test.mp4: 352x640 16 Vehicles, 9.6ms\n",
            "video 1/1 (frame 120/652) /content/test.mp4: 352x640 16 Vehicles, 9.1ms\n",
            "video 1/1 (frame 121/652) /content/test.mp4: 352x640 16 Vehicles, 8.6ms\n",
            "video 1/1 (frame 122/652) /content/test.mp4: 352x640 14 Vehicles, 9.4ms\n",
            "video 1/1 (frame 123/652) /content/test.mp4: 352x640 15 Vehicles, 8.6ms\n",
            "video 1/1 (frame 124/652) /content/test.mp4: 352x640 17 Vehicles, 8.8ms\n",
            "video 1/1 (frame 125/652) /content/test.mp4: 352x640 16 Vehicles, 8.7ms\n",
            "video 1/1 (frame 126/652) /content/test.mp4: 352x640 15 Vehicles, 9.0ms\n",
            "video 1/1 (frame 127/652) /content/test.mp4: 352x640 16 Vehicles, 16.0ms\n",
            "video 1/1 (frame 128/652) /content/test.mp4: 352x640 14 Vehicles, 11.1ms\n",
            "video 1/1 (frame 129/652) /content/test.mp4: 352x640 14 Vehicles, 9.5ms\n",
            "video 1/1 (frame 130/652) /content/test.mp4: 352x640 13 Vehicles, 8.5ms\n",
            "video 1/1 (frame 131/652) /content/test.mp4: 352x640 16 Vehicles, 8.3ms\n",
            "video 1/1 (frame 132/652) /content/test.mp4: 352x640 16 Vehicles, 9.2ms\n",
            "video 1/1 (frame 133/652) /content/test.mp4: 352x640 14 Vehicles, 9.7ms\n",
            "video 1/1 (frame 134/652) /content/test.mp4: 352x640 17 Vehicles, 8.5ms\n",
            "video 1/1 (frame 135/652) /content/test.mp4: 352x640 16 Vehicles, 8.7ms\n",
            "video 1/1 (frame 136/652) /content/test.mp4: 352x640 15 Vehicles, 8.9ms\n",
            "video 1/1 (frame 137/652) /content/test.mp4: 352x640 15 Vehicles, 10.2ms\n",
            "video 1/1 (frame 138/652) /content/test.mp4: 352x640 15 Vehicles, 8.6ms\n",
            "video 1/1 (frame 139/652) /content/test.mp4: 352x640 15 Vehicles, 9.0ms\n",
            "video 1/1 (frame 140/652) /content/test.mp4: 352x640 15 Vehicles, 8.3ms\n",
            "video 1/1 (frame 141/652) /content/test.mp4: 352x640 15 Vehicles, 8.7ms\n",
            "video 1/1 (frame 142/652) /content/test.mp4: 352x640 15 Vehicles, 8.6ms\n",
            "video 1/1 (frame 143/652) /content/test.mp4: 352x640 15 Vehicles, 8.8ms\n",
            "video 1/1 (frame 144/652) /content/test.mp4: 352x640 15 Vehicles, 13.5ms\n",
            "video 1/1 (frame 145/652) /content/test.mp4: 352x640 15 Vehicles, 12.5ms\n",
            "video 1/1 (frame 146/652) /content/test.mp4: 352x640 15 Vehicles, 12.1ms\n",
            "video 1/1 (frame 147/652) /content/test.mp4: 352x640 16 Vehicles, 9.3ms\n",
            "video 1/1 (frame 148/652) /content/test.mp4: 352x640 16 Vehicles, 10.1ms\n",
            "video 1/1 (frame 149/652) /content/test.mp4: 352x640 15 Vehicles, 9.6ms\n",
            "video 1/1 (frame 150/652) /content/test.mp4: 352x640 17 Vehicles, 10.7ms\n",
            "video 1/1 (frame 151/652) /content/test.mp4: 352x640 17 Vehicles, 9.8ms\n",
            "video 1/1 (frame 152/652) /content/test.mp4: 352x640 17 Vehicles, 12.8ms\n",
            "video 1/1 (frame 153/652) /content/test.mp4: 352x640 17 Vehicles, 15.0ms\n",
            "video 1/1 (frame 154/652) /content/test.mp4: 352x640 17 Vehicles, 12.4ms\n",
            "video 1/1 (frame 155/652) /content/test.mp4: 352x640 16 Vehicles, 9.1ms\n",
            "video 1/1 (frame 156/652) /content/test.mp4: 352x640 16 Vehicles, 17.1ms\n",
            "video 1/1 (frame 157/652) /content/test.mp4: 352x640 15 Vehicles, 14.1ms\n",
            "video 1/1 (frame 158/652) /content/test.mp4: 352x640 15 Vehicles, 14.5ms\n",
            "video 1/1 (frame 159/652) /content/test.mp4: 352x640 15 Vehicles, 13.0ms\n",
            "video 1/1 (frame 160/652) /content/test.mp4: 352x640 15 Vehicles, 13.7ms\n",
            "video 1/1 (frame 161/652) /content/test.mp4: 352x640 15 Vehicles, 13.2ms\n",
            "video 1/1 (frame 162/652) /content/test.mp4: 352x640 15 Vehicles, 12.1ms\n",
            "video 1/1 (frame 163/652) /content/test.mp4: 352x640 16 Vehicles, 12.1ms\n",
            "video 1/1 (frame 164/652) /content/test.mp4: 352x640 17 Vehicles, 13.8ms\n",
            "video 1/1 (frame 165/652) /content/test.mp4: 352x640 17 Vehicles, 7.3ms\n",
            "video 1/1 (frame 166/652) /content/test.mp4: 352x640 16 Vehicles, 7.0ms\n",
            "video 1/1 (frame 167/652) /content/test.mp4: 352x640 16 Vehicles, 6.9ms\n",
            "video 1/1 (frame 168/652) /content/test.mp4: 352x640 14 Vehicles, 6.9ms\n",
            "video 1/1 (frame 169/652) /content/test.mp4: 352x640 15 Vehicles, 6.6ms\n",
            "video 1/1 (frame 170/652) /content/test.mp4: 352x640 14 Vehicles, 7.3ms\n",
            "video 1/1 (frame 171/652) /content/test.mp4: 352x640 14 Vehicles, 7.0ms\n",
            "video 1/1 (frame 172/652) /content/test.mp4: 352x640 13 Vehicles, 7.3ms\n",
            "video 1/1 (frame 173/652) /content/test.mp4: 352x640 14 Vehicles, 6.9ms\n",
            "video 1/1 (frame 174/652) /content/test.mp4: 352x640 16 Vehicles, 8.5ms\n",
            "video 1/1 (frame 175/652) /content/test.mp4: 352x640 18 Vehicles, 7.0ms\n",
            "video 1/1 (frame 176/652) /content/test.mp4: 352x640 19 Vehicles, 7.1ms\n",
            "video 1/1 (frame 177/652) /content/test.mp4: 352x640 16 Vehicles, 7.6ms\n",
            "video 1/1 (frame 178/652) /content/test.mp4: 352x640 18 Vehicles, 7.5ms\n",
            "video 1/1 (frame 179/652) /content/test.mp4: 352x640 16 Vehicles, 7.1ms\n",
            "video 1/1 (frame 180/652) /content/test.mp4: 352x640 16 Vehicles, 8.0ms\n",
            "video 1/1 (frame 181/652) /content/test.mp4: 352x640 15 Vehicles, 6.9ms\n",
            "video 1/1 (frame 182/652) /content/test.mp4: 352x640 16 Vehicles, 8.7ms\n",
            "video 1/1 (frame 183/652) /content/test.mp4: 352x640 16 Vehicles, 7.3ms\n",
            "video 1/1 (frame 184/652) /content/test.mp4: 352x640 15 Vehicles, 7.2ms\n",
            "video 1/1 (frame 185/652) /content/test.mp4: 352x640 14 Vehicles, 6.8ms\n",
            "video 1/1 (frame 186/652) /content/test.mp4: 352x640 15 Vehicles, 7.4ms\n",
            "video 1/1 (frame 187/652) /content/test.mp4: 352x640 13 Vehicles, 8.0ms\n",
            "video 1/1 (frame 188/652) /content/test.mp4: 352x640 14 Vehicles, 7.2ms\n",
            "video 1/1 (frame 189/652) /content/test.mp4: 352x640 14 Vehicles, 7.3ms\n",
            "video 1/1 (frame 190/652) /content/test.mp4: 352x640 14 Vehicles, 6.9ms\n",
            "video 1/1 (frame 191/652) /content/test.mp4: 352x640 14 Vehicles, 7.1ms\n",
            "video 1/1 (frame 192/652) /content/test.mp4: 352x640 13 Vehicles, 10.9ms\n",
            "video 1/1 (frame 193/652) /content/test.mp4: 352x640 14 Vehicles, 8.9ms\n",
            "video 1/1 (frame 194/652) /content/test.mp4: 352x640 13 Vehicles, 7.9ms\n",
            "video 1/1 (frame 195/652) /content/test.mp4: 352x640 15 Vehicles, 8.2ms\n",
            "video 1/1 (frame 196/652) /content/test.mp4: 352x640 16 Vehicles, 7.6ms\n",
            "video 1/1 (frame 197/652) /content/test.mp4: 352x640 16 Vehicles, 7.6ms\n",
            "video 1/1 (frame 198/652) /content/test.mp4: 352x640 16 Vehicles, 7.0ms\n",
            "video 1/1 (frame 199/652) /content/test.mp4: 352x640 13 Vehicles, 10.5ms\n",
            "video 1/1 (frame 200/652) /content/test.mp4: 352x640 14 Vehicles, 8.3ms\n",
            "video 1/1 (frame 201/652) /content/test.mp4: 352x640 15 Vehicles, 7.4ms\n",
            "video 1/1 (frame 202/652) /content/test.mp4: 352x640 14 Vehicles, 7.4ms\n",
            "video 1/1 (frame 203/652) /content/test.mp4: 352x640 16 Vehicles, 7.4ms\n",
            "video 1/1 (frame 204/652) /content/test.mp4: 352x640 13 Vehicles, 7.4ms\n",
            "video 1/1 (frame 205/652) /content/test.mp4: 352x640 16 Vehicles, 7.3ms\n",
            "video 1/1 (frame 206/652) /content/test.mp4: 352x640 14 Vehicles, 8.5ms\n",
            "video 1/1 (frame 207/652) /content/test.mp4: 352x640 16 Vehicles, 8.2ms\n",
            "video 1/1 (frame 208/652) /content/test.mp4: 352x640 15 Vehicles, 7.5ms\n",
            "video 1/1 (frame 209/652) /content/test.mp4: 352x640 17 Vehicles, 7.6ms\n",
            "video 1/1 (frame 210/652) /content/test.mp4: 352x640 17 Vehicles, 9.2ms\n",
            "video 1/1 (frame 211/652) /content/test.mp4: 352x640 14 Vehicles, 7.0ms\n",
            "video 1/1 (frame 212/652) /content/test.mp4: 352x640 15 Vehicles, 7.5ms\n",
            "video 1/1 (frame 213/652) /content/test.mp4: 352x640 13 Vehicles, 7.5ms\n",
            "video 1/1 (frame 214/652) /content/test.mp4: 352x640 13 Vehicles, 7.6ms\n",
            "video 1/1 (frame 215/652) /content/test.mp4: 352x640 13 Vehicles, 7.2ms\n",
            "video 1/1 (frame 216/652) /content/test.mp4: 352x640 15 Vehicles, 8.2ms\n",
            "video 1/1 (frame 217/652) /content/test.mp4: 352x640 13 Vehicles, 7.0ms\n",
            "video 1/1 (frame 218/652) /content/test.mp4: 352x640 14 Vehicles, 7.5ms\n",
            "video 1/1 (frame 219/652) /content/test.mp4: 352x640 14 Vehicles, 7.0ms\n",
            "video 1/1 (frame 220/652) /content/test.mp4: 352x640 14 Vehicles, 9.9ms\n",
            "video 1/1 (frame 221/652) /content/test.mp4: 352x640 17 Vehicles, 8.1ms\n",
            "video 1/1 (frame 222/652) /content/test.mp4: 352x640 15 Vehicles, 7.7ms\n",
            "video 1/1 (frame 223/652) /content/test.mp4: 352x640 16 Vehicles, 7.6ms\n",
            "video 1/1 (frame 224/652) /content/test.mp4: 352x640 17 Vehicles, 8.8ms\n",
            "video 1/1 (frame 225/652) /content/test.mp4: 352x640 18 Vehicles, 7.3ms\n",
            "video 1/1 (frame 226/652) /content/test.mp4: 352x640 15 Vehicles, 6.8ms\n",
            "video 1/1 (frame 227/652) /content/test.mp4: 352x640 14 Vehicles, 7.1ms\n",
            "video 1/1 (frame 228/652) /content/test.mp4: 352x640 16 Vehicles, 6.7ms\n",
            "video 1/1 (frame 229/652) /content/test.mp4: 352x640 16 Vehicles, 7.1ms\n",
            "video 1/1 (frame 230/652) /content/test.mp4: 352x640 16 Vehicles, 14.1ms\n",
            "video 1/1 (frame 231/652) /content/test.mp4: 352x640 15 Vehicles, 7.3ms\n",
            "video 1/1 (frame 232/652) /content/test.mp4: 352x640 15 Vehicles, 7.1ms\n",
            "video 1/1 (frame 233/652) /content/test.mp4: 352x640 15 Vehicles, 7.7ms\n",
            "video 1/1 (frame 234/652) /content/test.mp4: 352x640 15 Vehicles, 7.0ms\n",
            "video 1/1 (frame 235/652) /content/test.mp4: 352x640 16 Vehicles, 7.4ms\n",
            "video 1/1 (frame 236/652) /content/test.mp4: 352x640 16 Vehicles, 7.1ms\n",
            "video 1/1 (frame 237/652) /content/test.mp4: 352x640 16 Vehicles, 7.0ms\n",
            "video 1/1 (frame 238/652) /content/test.mp4: 352x640 16 Vehicles, 6.8ms\n",
            "video 1/1 (frame 239/652) /content/test.mp4: 352x640 16 Vehicles, 7.0ms\n",
            "video 1/1 (frame 240/652) /content/test.mp4: 352x640 16 Vehicles, 7.5ms\n",
            "video 1/1 (frame 241/652) /content/test.mp4: 352x640 16 Vehicles, 6.9ms\n",
            "video 1/1 (frame 242/652) /content/test.mp4: 352x640 17 Vehicles, 7.0ms\n",
            "video 1/1 (frame 243/652) /content/test.mp4: 352x640 15 Vehicles, 8.0ms\n",
            "video 1/1 (frame 244/652) /content/test.mp4: 352x640 15 Vehicles, 7.3ms\n",
            "video 1/1 (frame 245/652) /content/test.mp4: 352x640 16 Vehicles, 7.0ms\n",
            "video 1/1 (frame 246/652) /content/test.mp4: 352x640 16 Vehicles, 7.4ms\n",
            "video 1/1 (frame 247/652) /content/test.mp4: 352x640 18 Vehicles, 6.7ms\n",
            "video 1/1 (frame 248/652) /content/test.mp4: 352x640 15 Vehicles, 8.2ms\n",
            "video 1/1 (frame 249/652) /content/test.mp4: 352x640 17 Vehicles, 7.4ms\n",
            "video 1/1 (frame 250/652) /content/test.mp4: 352x640 18 Vehicles, 6.8ms\n",
            "video 1/1 (frame 251/652) /content/test.mp4: 352x640 18 Vehicles, 6.7ms\n",
            "video 1/1 (frame 252/652) /content/test.mp4: 352x640 18 Vehicles, 6.7ms\n",
            "video 1/1 (frame 253/652) /content/test.mp4: 352x640 19 Vehicles, 7.0ms\n",
            "video 1/1 (frame 254/652) /content/test.mp4: 352x640 21 Vehicles, 8.0ms\n",
            "video 1/1 (frame 255/652) /content/test.mp4: 352x640 22 Vehicles, 7.3ms\n",
            "video 1/1 (frame 256/652) /content/test.mp4: 352x640 19 Vehicles, 8.6ms\n",
            "video 1/1 (frame 257/652) /content/test.mp4: 352x640 20 Vehicles, 7.0ms\n",
            "video 1/1 (frame 258/652) /content/test.mp4: 352x640 23 Vehicles, 8.2ms\n",
            "video 1/1 (frame 259/652) /content/test.mp4: 352x640 18 Vehicles, 10.1ms\n",
            "video 1/1 (frame 260/652) /content/test.mp4: 352x640 19 Vehicles, 6.9ms\n",
            "video 1/1 (frame 261/652) /content/test.mp4: 352x640 18 Vehicles, 6.9ms\n",
            "video 1/1 (frame 262/652) /content/test.mp4: 352x640 22 Vehicles, 7.2ms\n",
            "video 1/1 (frame 263/652) /content/test.mp4: 352x640 19 Vehicles, 7.2ms\n",
            "video 1/1 (frame 264/652) /content/test.mp4: 352x640 20 Vehicles, 7.0ms\n",
            "video 1/1 (frame 265/652) /content/test.mp4: 352x640 20 Vehicles, 8.0ms\n",
            "video 1/1 (frame 266/652) /content/test.mp4: 352x640 19 Vehicles, 6.7ms\n",
            "video 1/1 (frame 267/652) /content/test.mp4: 352x640 19 Vehicles, 7.4ms\n",
            "video 1/1 (frame 268/652) /content/test.mp4: 352x640 18 Vehicles, 12.9ms\n",
            "video 1/1 (frame 269/652) /content/test.mp4: 352x640 20 Vehicles, 9.4ms\n",
            "video 1/1 (frame 270/652) /content/test.mp4: 352x640 19 Vehicles, 7.0ms\n",
            "video 1/1 (frame 271/652) /content/test.mp4: 352x640 18 Vehicles, 7.8ms\n",
            "video 1/1 (frame 272/652) /content/test.mp4: 352x640 18 Vehicles, 6.8ms\n",
            "video 1/1 (frame 273/652) /content/test.mp4: 352x640 18 Vehicles, 11.3ms\n",
            "video 1/1 (frame 274/652) /content/test.mp4: 352x640 15 Vehicles, 6.9ms\n",
            "video 1/1 (frame 275/652) /content/test.mp4: 352x640 15 Vehicles, 7.1ms\n",
            "video 1/1 (frame 276/652) /content/test.mp4: 352x640 16 Vehicles, 10.1ms\n",
            "video 1/1 (frame 277/652) /content/test.mp4: 352x640 16 Vehicles, 7.5ms\n",
            "video 1/1 (frame 278/652) /content/test.mp4: 352x640 18 Vehicles, 7.0ms\n",
            "video 1/1 (frame 279/652) /content/test.mp4: 352x640 15 Vehicles, 7.5ms\n",
            "video 1/1 (frame 280/652) /content/test.mp4: 352x640 15 Vehicles, 7.2ms\n",
            "video 1/1 (frame 281/652) /content/test.mp4: 352x640 17 Vehicles, 6.9ms\n",
            "video 1/1 (frame 282/652) /content/test.mp4: 352x640 18 Vehicles, 7.2ms\n",
            "video 1/1 (frame 283/652) /content/test.mp4: 352x640 15 Vehicles, 7.1ms\n",
            "video 1/1 (frame 284/652) /content/test.mp4: 352x640 15 Vehicles, 7.6ms\n",
            "video 1/1 (frame 285/652) /content/test.mp4: 352x640 14 Vehicles, 7.7ms\n",
            "video 1/1 (frame 286/652) /content/test.mp4: 352x640 16 Vehicles, 7.1ms\n",
            "video 1/1 (frame 287/652) /content/test.mp4: 352x640 16 Vehicles, 7.3ms\n",
            "video 1/1 (frame 288/652) /content/test.mp4: 352x640 14 Vehicles, 7.0ms\n",
            "video 1/1 (frame 289/652) /content/test.mp4: 352x640 15 Vehicles, 7.8ms\n",
            "video 1/1 (frame 290/652) /content/test.mp4: 352x640 17 Vehicles, 7.8ms\n",
            "video 1/1 (frame 291/652) /content/test.mp4: 352x640 16 Vehicles, 7.2ms\n",
            "video 1/1 (frame 292/652) /content/test.mp4: 352x640 16 Vehicles, 7.6ms\n",
            "video 1/1 (frame 293/652) /content/test.mp4: 352x640 13 Vehicles, 6.9ms\n",
            "video 1/1 (frame 294/652) /content/test.mp4: 352x640 15 Vehicles, 7.6ms\n",
            "video 1/1 (frame 295/652) /content/test.mp4: 352x640 15 Vehicles, 7.0ms\n",
            "video 1/1 (frame 296/652) /content/test.mp4: 352x640 14 Vehicles, 8.5ms\n",
            "video 1/1 (frame 297/652) /content/test.mp4: 352x640 15 Vehicles, 6.8ms\n",
            "video 1/1 (frame 298/652) /content/test.mp4: 352x640 15 Vehicles, 7.4ms\n",
            "video 1/1 (frame 299/652) /content/test.mp4: 352x640 15 Vehicles, 9.0ms\n",
            "video 1/1 (frame 300/652) /content/test.mp4: 352x640 16 Vehicles, 7.7ms\n",
            "video 1/1 (frame 301/652) /content/test.mp4: 352x640 15 Vehicles, 6.9ms\n",
            "video 1/1 (frame 302/652) /content/test.mp4: 352x640 15 Vehicles, 6.9ms\n",
            "video 1/1 (frame 303/652) /content/test.mp4: 352x640 16 Vehicles, 7.6ms\n",
            "video 1/1 (frame 304/652) /content/test.mp4: 352x640 14 Vehicles, 6.9ms\n",
            "video 1/1 (frame 305/652) /content/test.mp4: 352x640 16 Vehicles, 7.4ms\n",
            "video 1/1 (frame 306/652) /content/test.mp4: 352x640 18 Vehicles, 6.9ms\n",
            "video 1/1 (frame 307/652) /content/test.mp4: 352x640 14 Vehicles, 10.2ms\n",
            "video 1/1 (frame 308/652) /content/test.mp4: 352x640 13 Vehicles, 7.4ms\n",
            "video 1/1 (frame 309/652) /content/test.mp4: 352x640 15 Vehicles, 11.0ms\n",
            "video 1/1 (frame 310/652) /content/test.mp4: 352x640 15 Vehicles, 8.0ms\n",
            "video 1/1 (frame 311/652) /content/test.mp4: 352x640 13 Vehicles, 8.1ms\n",
            "video 1/1 (frame 312/652) /content/test.mp4: 352x640 13 Vehicles, 7.0ms\n",
            "video 1/1 (frame 313/652) /content/test.mp4: 352x640 13 Vehicles, 7.5ms\n",
            "video 1/1 (frame 314/652) /content/test.mp4: 352x640 13 Vehicles, 10.3ms\n",
            "video 1/1 (frame 315/652) /content/test.mp4: 352x640 13 Vehicles, 7.0ms\n",
            "video 1/1 (frame 316/652) /content/test.mp4: 352x640 13 Vehicles, 7.0ms\n",
            "video 1/1 (frame 317/652) /content/test.mp4: 352x640 13 Vehicles, 6.9ms\n",
            "video 1/1 (frame 318/652) /content/test.mp4: 352x640 13 Vehicles, 7.5ms\n",
            "video 1/1 (frame 319/652) /content/test.mp4: 352x640 13 Vehicles, 7.3ms\n",
            "video 1/1 (frame 320/652) /content/test.mp4: 352x640 12 Vehicles, 7.2ms\n",
            "video 1/1 (frame 321/652) /content/test.mp4: 352x640 12 Vehicles, 6.9ms\n",
            "video 1/1 (frame 322/652) /content/test.mp4: 352x640 11 Vehicles, 7.8ms\n",
            "video 1/1 (frame 323/652) /content/test.mp4: 352x640 12 Vehicles, 7.8ms\n",
            "video 1/1 (frame 324/652) /content/test.mp4: 352x640 12 Vehicles, 8.3ms\n",
            "video 1/1 (frame 325/652) /content/test.mp4: 352x640 11 Vehicles, 7.4ms\n",
            "video 1/1 (frame 326/652) /content/test.mp4: 352x640 14 Vehicles, 9.1ms\n",
            "video 1/1 (frame 327/652) /content/test.mp4: 352x640 13 Vehicles, 7.6ms\n",
            "video 1/1 (frame 328/652) /content/test.mp4: 352x640 13 Vehicles, 7.3ms\n",
            "video 1/1 (frame 329/652) /content/test.mp4: 352x640 11 Vehicles, 9.4ms\n",
            "video 1/1 (frame 330/652) /content/test.mp4: 352x640 12 Vehicles, 9.9ms\n",
            "video 1/1 (frame 331/652) /content/test.mp4: 352x640 12 Vehicles, 7.2ms\n",
            "video 1/1 (frame 332/652) /content/test.mp4: 352x640 11 Vehicles, 6.9ms\n",
            "video 1/1 (frame 333/652) /content/test.mp4: 352x640 11 Vehicles, 7.1ms\n",
            "video 1/1 (frame 334/652) /content/test.mp4: 352x640 12 Vehicles, 7.1ms\n",
            "video 1/1 (frame 335/652) /content/test.mp4: 352x640 14 Vehicles, 7.0ms\n",
            "video 1/1 (frame 336/652) /content/test.mp4: 352x640 14 Vehicles, 7.2ms\n",
            "video 1/1 (frame 337/652) /content/test.mp4: 352x640 13 Vehicles, 6.8ms\n",
            "video 1/1 (frame 338/652) /content/test.mp4: 352x640 14 Vehicles, 7.4ms\n",
            "video 1/1 (frame 339/652) /content/test.mp4: 352x640 14 Vehicles, 9.5ms\n",
            "video 1/1 (frame 340/652) /content/test.mp4: 352x640 15 Vehicles, 6.8ms\n",
            "video 1/1 (frame 341/652) /content/test.mp4: 352x640 14 Vehicles, 7.1ms\n",
            "video 1/1 (frame 342/652) /content/test.mp4: 352x640 14 Vehicles, 6.7ms\n",
            "video 1/1 (frame 343/652) /content/test.mp4: 352x640 13 Vehicles, 7.2ms\n",
            "video 1/1 (frame 344/652) /content/test.mp4: 352x640 13 Vehicles, 8.2ms\n",
            "video 1/1 (frame 345/652) /content/test.mp4: 352x640 13 Vehicles, 13.0ms\n",
            "video 1/1 (frame 346/652) /content/test.mp4: 352x640 13 Vehicles, 7.7ms\n",
            "video 1/1 (frame 347/652) /content/test.mp4: 352x640 13 Vehicles, 9.5ms\n",
            "video 1/1 (frame 348/652) /content/test.mp4: 352x640 13 Vehicles, 8.1ms\n",
            "video 1/1 (frame 349/652) /content/test.mp4: 352x640 13 Vehicles, 7.2ms\n",
            "video 1/1 (frame 350/652) /content/test.mp4: 352x640 13 Vehicles, 6.8ms\n",
            "video 1/1 (frame 351/652) /content/test.mp4: 352x640 14 Vehicles, 7.0ms\n",
            "video 1/1 (frame 352/652) /content/test.mp4: 352x640 13 Vehicles, 6.8ms\n",
            "video 1/1 (frame 353/652) /content/test.mp4: 352x640 16 Vehicles, 7.3ms\n",
            "video 1/1 (frame 354/652) /content/test.mp4: 352x640 15 Vehicles, 7.2ms\n",
            "video 1/1 (frame 355/652) /content/test.mp4: 352x640 15 Vehicles, 7.8ms\n",
            "video 1/1 (frame 356/652) /content/test.mp4: 352x640 13 Vehicles, 7.7ms\n",
            "video 1/1 (frame 357/652) /content/test.mp4: 352x640 13 Vehicles, 6.8ms\n",
            "video 1/1 (frame 358/652) /content/test.mp4: 352x640 13 Vehicles, 8.5ms\n",
            "video 1/1 (frame 359/652) /content/test.mp4: 352x640 15 Vehicles, 8.7ms\n",
            "video 1/1 (frame 360/652) /content/test.mp4: 352x640 13 Vehicles, 7.2ms\n",
            "video 1/1 (frame 361/652) /content/test.mp4: 352x640 13 Vehicles, 6.9ms\n",
            "video 1/1 (frame 362/652) /content/test.mp4: 352x640 13 Vehicles, 6.7ms\n",
            "video 1/1 (frame 363/652) /content/test.mp4: 352x640 11 Vehicles, 6.9ms\n",
            "video 1/1 (frame 364/652) /content/test.mp4: 352x640 13 Vehicles, 7.1ms\n",
            "video 1/1 (frame 365/652) /content/test.mp4: 352x640 13 Vehicles, 7.2ms\n",
            "video 1/1 (frame 366/652) /content/test.mp4: 352x640 13 Vehicles, 7.2ms\n",
            "video 1/1 (frame 367/652) /content/test.mp4: 352x640 12 Vehicles, 7.2ms\n",
            "video 1/1 (frame 368/652) /content/test.mp4: 352x640 14 Vehicles, 9.3ms\n",
            "video 1/1 (frame 369/652) /content/test.mp4: 352x640 13 Vehicles, 7.1ms\n",
            "video 1/1 (frame 370/652) /content/test.mp4: 352x640 13 Vehicles, 10.6ms\n",
            "video 1/1 (frame 371/652) /content/test.mp4: 352x640 12 Vehicles, 7.2ms\n",
            "video 1/1 (frame 372/652) /content/test.mp4: 352x640 12 Vehicles, 8.3ms\n",
            "video 1/1 (frame 373/652) /content/test.mp4: 352x640 12 Vehicles, 8.2ms\n",
            "video 1/1 (frame 374/652) /content/test.mp4: 352x640 10 Vehicles, 7.1ms\n",
            "video 1/1 (frame 375/652) /content/test.mp4: 352x640 10 Vehicles, 7.5ms\n",
            "video 1/1 (frame 376/652) /content/test.mp4: 352x640 10 Vehicles, 7.2ms\n",
            "video 1/1 (frame 377/652) /content/test.mp4: 352x640 9 Vehicles, 7.1ms\n",
            "video 1/1 (frame 378/652) /content/test.mp4: 352x640 10 Vehicles, 8.4ms\n",
            "video 1/1 (frame 379/652) /content/test.mp4: 352x640 8 Vehicles, 7.2ms\n",
            "video 1/1 (frame 380/652) /content/test.mp4: 352x640 8 Vehicles, 10.0ms\n",
            "video 1/1 (frame 381/652) /content/test.mp4: 352x640 9 Vehicles, 7.7ms\n",
            "video 1/1 (frame 382/652) /content/test.mp4: 352x640 8 Vehicles, 6.7ms\n",
            "video 1/1 (frame 383/652) /content/test.mp4: 352x640 8 Vehicles, 6.7ms\n",
            "video 1/1 (frame 384/652) /content/test.mp4: 352x640 8 Vehicles, 9.3ms\n",
            "video 1/1 (frame 385/652) /content/test.mp4: 352x640 10 Vehicles, 14.7ms\n",
            "video 1/1 (frame 386/652) /content/test.mp4: 352x640 12 Vehicles, 7.5ms\n",
            "video 1/1 (frame 387/652) /content/test.mp4: 352x640 14 Vehicles, 7.7ms\n",
            "video 1/1 (frame 388/652) /content/test.mp4: 352x640 16 Vehicles, 7.1ms\n",
            "video 1/1 (frame 389/652) /content/test.mp4: 352x640 13 Vehicles, 6.8ms\n",
            "video 1/1 (frame 390/652) /content/test.mp4: 352x640 15 Vehicles, 7.7ms\n",
            "video 1/1 (frame 391/652) /content/test.mp4: 352x640 15 Vehicles, 7.1ms\n",
            "video 1/1 (frame 392/652) /content/test.mp4: 352x640 14 Vehicles, 7.4ms\n",
            "video 1/1 (frame 393/652) /content/test.mp4: 352x640 12 Vehicles, 7.9ms\n",
            "video 1/1 (frame 394/652) /content/test.mp4: 352x640 12 Vehicles, 7.3ms\n",
            "video 1/1 (frame 395/652) /content/test.mp4: 352x640 11 Vehicles, 7.1ms\n",
            "video 1/1 (frame 396/652) /content/test.mp4: 352x640 13 Vehicles, 7.2ms\n",
            "video 1/1 (frame 397/652) /content/test.mp4: 352x640 12 Vehicles, 7.8ms\n",
            "video 1/1 (frame 398/652) /content/test.mp4: 352x640 11 Vehicles, 8.6ms\n",
            "video 1/1 (frame 399/652) /content/test.mp4: 352x640 10 Vehicles, 7.2ms\n",
            "video 1/1 (frame 400/652) /content/test.mp4: 352x640 12 Vehicles, 7.4ms\n",
            "video 1/1 (frame 401/652) /content/test.mp4: 352x640 12 Vehicles, 7.2ms\n",
            "video 1/1 (frame 402/652) /content/test.mp4: 352x640 14 Vehicles, 7.3ms\n",
            "video 1/1 (frame 403/652) /content/test.mp4: 352x640 12 Vehicles, 7.0ms\n",
            "video 1/1 (frame 404/652) /content/test.mp4: 352x640 12 Vehicles, 6.9ms\n",
            "video 1/1 (frame 405/652) /content/test.mp4: 352x640 12 Vehicles, 6.8ms\n",
            "video 1/1 (frame 406/652) /content/test.mp4: 352x640 11 Vehicles, 7.1ms\n",
            "video 1/1 (frame 407/652) /content/test.mp4: 352x640 12 Vehicles, 9.0ms\n",
            "video 1/1 (frame 408/652) /content/test.mp4: 352x640 12 Vehicles, 6.6ms\n",
            "video 1/1 (frame 409/652) /content/test.mp4: 352x640 12 Vehicles, 7.1ms\n",
            "video 1/1 (frame 410/652) /content/test.mp4: 352x640 12 Vehicles, 7.3ms\n",
            "video 1/1 (frame 411/652) /content/test.mp4: 352x640 12 Vehicles, 6.6ms\n",
            "video 1/1 (frame 412/652) /content/test.mp4: 352x640 12 Vehicles, 8.0ms\n",
            "video 1/1 (frame 413/652) /content/test.mp4: 352x640 13 Vehicles, 7.4ms\n",
            "video 1/1 (frame 414/652) /content/test.mp4: 352x640 12 Vehicles, 6.9ms\n",
            "video 1/1 (frame 415/652) /content/test.mp4: 352x640 11 Vehicles, 7.0ms\n",
            "video 1/1 (frame 416/652) /content/test.mp4: 352x640 13 Vehicles, 6.9ms\n",
            "video 1/1 (frame 417/652) /content/test.mp4: 352x640 12 Vehicles, 7.7ms\n",
            "video 1/1 (frame 418/652) /content/test.mp4: 352x640 12 Vehicles, 7.2ms\n",
            "video 1/1 (frame 419/652) /content/test.mp4: 352x640 12 Vehicles, 6.9ms\n",
            "video 1/1 (frame 420/652) /content/test.mp4: 352x640 11 Vehicles, 6.6ms\n",
            "video 1/1 (frame 421/652) /content/test.mp4: 352x640 11 Vehicles, 7.0ms\n",
            "video 1/1 (frame 422/652) /content/test.mp4: 352x640 13 Vehicles, 6.7ms\n",
            "video 1/1 (frame 423/652) /content/test.mp4: 352x640 11 Vehicles, 7.1ms\n",
            "video 1/1 (frame 424/652) /content/test.mp4: 352x640 12 Vehicles, 14.9ms\n",
            "video 1/1 (frame 425/652) /content/test.mp4: 352x640 11 Vehicles, 7.7ms\n",
            "video 1/1 (frame 426/652) /content/test.mp4: 352x640 12 Vehicles, 7.4ms\n",
            "video 1/1 (frame 427/652) /content/test.mp4: 352x640 11 Vehicles, 7.8ms\n",
            "video 1/1 (frame 428/652) /content/test.mp4: 352x640 12 Vehicles, 7.1ms\n",
            "video 1/1 (frame 429/652) /content/test.mp4: 352x640 11 Vehicles, 7.3ms\n",
            "video 1/1 (frame 430/652) /content/test.mp4: 352x640 12 Vehicles, 7.8ms\n",
            "video 1/1 (frame 431/652) /content/test.mp4: 352x640 12 Vehicles, 8.8ms\n",
            "video 1/1 (frame 432/652) /content/test.mp4: 352x640 12 Vehicles, 7.2ms\n",
            "video 1/1 (frame 433/652) /content/test.mp4: 352x640 12 Vehicles, 7.0ms\n",
            "video 1/1 (frame 434/652) /content/test.mp4: 352x640 13 Vehicles, 7.0ms\n",
            "video 1/1 (frame 435/652) /content/test.mp4: 352x640 (no detections), 6.7ms\n",
            "video 1/1 (frame 436/652) /content/test.mp4: 352x640 (no detections), 6.9ms\n",
            "video 1/1 (frame 437/652) /content/test.mp4: 352x640 (no detections), 8.5ms\n",
            "video 1/1 (frame 438/652) /content/test.mp4: 352x640 (no detections), 7.2ms\n",
            "video 1/1 (frame 439/652) /content/test.mp4: 352x640 (no detections), 6.5ms\n",
            "video 1/1 (frame 440/652) /content/test.mp4: 352x640 (no detections), 7.2ms\n",
            "video 1/1 (frame 441/652) /content/test.mp4: 352x640 2 Vehicles, 6.9ms\n",
            "video 1/1 (frame 442/652) /content/test.mp4: 352x640 3 Vehicles, 7.3ms\n",
            "video 1/1 (frame 443/652) /content/test.mp4: 352x640 3 Vehicles, 7.4ms\n",
            "video 1/1 (frame 444/652) /content/test.mp4: 352x640 3 Vehicles, 7.0ms\n",
            "video 1/1 (frame 445/652) /content/test.mp4: 352x640 3 Vehicles, 7.3ms\n",
            "video 1/1 (frame 446/652) /content/test.mp4: 352x640 (no detections), 7.6ms\n",
            "video 1/1 (frame 447/652) /content/test.mp4: 352x640 (no detections), 7.1ms\n",
            "video 1/1 (frame 448/652) /content/test.mp4: 352x640 (no detections), 7.2ms\n",
            "video 1/1 (frame 449/652) /content/test.mp4: 352x640 (no detections), 6.9ms\n",
            "video 1/1 (frame 450/652) /content/test.mp4: 352x640 (no detections), 9.1ms\n",
            "video 1/1 (frame 451/652) /content/test.mp4: 352x640 (no detections), 8.6ms\n",
            "video 1/1 (frame 452/652) /content/test.mp4: 352x640 (no detections), 10.6ms\n",
            "video 1/1 (frame 453/652) /content/test.mp4: 352x640 (no detections), 8.1ms\n",
            "video 1/1 (frame 454/652) /content/test.mp4: 352x640 (no detections), 7.2ms\n",
            "video 1/1 (frame 455/652) /content/test.mp4: 352x640 (no detections), 7.1ms\n",
            "video 1/1 (frame 456/652) /content/test.mp4: 352x640 (no detections), 6.9ms\n",
            "video 1/1 (frame 457/652) /content/test.mp4: 352x640 (no detections), 8.0ms\n",
            "video 1/1 (frame 458/652) /content/test.mp4: 352x640 (no detections), 8.0ms\n",
            "video 1/1 (frame 459/652) /content/test.mp4: 352x640 (no detections), 7.4ms\n",
            "video 1/1 (frame 460/652) /content/test.mp4: 352x640 (no detections), 7.0ms\n",
            "video 1/1 (frame 461/652) /content/test.mp4: 352x640 (no detections), 8.2ms\n",
            "video 1/1 (frame 462/652) /content/test.mp4: 352x640 (no detections), 7.2ms\n",
            "video 1/1 (frame 463/652) /content/test.mp4: 352x640 (no detections), 7.3ms\n",
            "video 1/1 (frame 464/652) /content/test.mp4: 352x640 (no detections), 7.0ms\n",
            "video 1/1 (frame 465/652) /content/test.mp4: 352x640 (no detections), 9.4ms\n",
            "video 1/1 (frame 466/652) /content/test.mp4: 352x640 (no detections), 7.6ms\n",
            "video 1/1 (frame 467/652) /content/test.mp4: 352x640 (no detections), 6.8ms\n",
            "video 1/1 (frame 468/652) /content/test.mp4: 352x640 (no detections), 6.9ms\n",
            "video 1/1 (frame 469/652) /content/test.mp4: 352x640 (no detections), 8.7ms\n",
            "video 1/1 (frame 470/652) /content/test.mp4: 352x640 (no detections), 6.6ms\n",
            "video 1/1 (frame 471/652) /content/test.mp4: 352x640 (no detections), 6.6ms\n",
            "video 1/1 (frame 472/652) /content/test.mp4: 352x640 (no detections), 7.0ms\n",
            "video 1/1 (frame 473/652) /content/test.mp4: 352x640 (no detections), 8.2ms\n",
            "video 1/1 (frame 474/652) /content/test.mp4: 352x640 (no detections), 7.4ms\n",
            "video 1/1 (frame 475/652) /content/test.mp4: 352x640 (no detections), 11.6ms\n",
            "video 1/1 (frame 476/652) /content/test.mp4: 352x640 (no detections), 13.9ms\n",
            "video 1/1 (frame 477/652) /content/test.mp4: 352x640 (no detections), 6.8ms\n",
            "video 1/1 (frame 478/652) /content/test.mp4: 352x640 (no detections), 7.0ms\n",
            "video 1/1 (frame 479/652) /content/test.mp4: 352x640 (no detections), 8.0ms\n",
            "video 1/1 (frame 480/652) /content/test.mp4: 352x640 (no detections), 6.8ms\n",
            "video 1/1 (frame 481/652) /content/test.mp4: 352x640 (no detections), 8.3ms\n",
            "video 1/1 (frame 482/652) /content/test.mp4: 352x640 (no detections), 7.2ms\n",
            "video 1/1 (frame 483/652) /content/test.mp4: 352x640 (no detections), 7.3ms\n",
            "video 1/1 (frame 484/652) /content/test.mp4: 352x640 (no detections), 6.6ms\n",
            "video 1/1 (frame 485/652) /content/test.mp4: 352x640 (no detections), 9.1ms\n",
            "video 1/1 (frame 486/652) /content/test.mp4: 352x640 (no detections), 7.3ms\n",
            "video 1/1 (frame 487/652) /content/test.mp4: 352x640 (no detections), 6.9ms\n",
            "video 1/1 (frame 488/652) /content/test.mp4: 352x640 (no detections), 7.2ms\n",
            "video 1/1 (frame 489/652) /content/test.mp4: 352x640 (no detections), 8.8ms\n",
            "video 1/1 (frame 490/652) /content/test.mp4: 352x640 (no detections), 6.6ms\n",
            "video 1/1 (frame 491/652) /content/test.mp4: 352x640 (no detections), 7.7ms\n",
            "video 1/1 (frame 492/652) /content/test.mp4: 352x640 (no detections), 7.0ms\n",
            "video 1/1 (frame 493/652) /content/test.mp4: 352x640 (no detections), 10.3ms\n",
            "video 1/1 (frame 494/652) /content/test.mp4: 352x640 (no detections), 6.9ms\n",
            "video 1/1 (frame 495/652) /content/test.mp4: 352x640 (no detections), 7.5ms\n",
            "video 1/1 (frame 496/652) /content/test.mp4: 352x640 (no detections), 6.6ms\n",
            "video 1/1 (frame 497/652) /content/test.mp4: 352x640 (no detections), 6.9ms\n",
            "video 1/1 (frame 498/652) /content/test.mp4: 352x640 (no detections), 7.6ms\n",
            "video 1/1 (frame 499/652) /content/test.mp4: 352x640 (no detections), 8.5ms\n",
            "video 1/1 (frame 500/652) /content/test.mp4: 352x640 (no detections), 8.0ms\n",
            "video 1/1 (frame 501/652) /content/test.mp4: 352x640 (no detections), 7.1ms\n",
            "video 1/1 (frame 502/652) /content/test.mp4: 352x640 (no detections), 9.6ms\n",
            "video 1/1 (frame 503/652) /content/test.mp4: 352x640 (no detections), 7.4ms\n",
            "video 1/1 (frame 504/652) /content/test.mp4: 352x640 (no detections), 6.7ms\n",
            "video 1/1 (frame 505/652) /content/test.mp4: 352x640 (no detections), 6.9ms\n",
            "video 1/1 (frame 506/652) /content/test.mp4: 352x640 (no detections), 8.6ms\n",
            "video 1/1 (frame 507/652) /content/test.mp4: 352x640 (no detections), 9.3ms\n",
            "video 1/1 (frame 508/652) /content/test.mp4: 352x640 (no detections), 7.6ms\n",
            "video 1/1 (frame 509/652) /content/test.mp4: 352x640 (no detections), 7.3ms\n",
            "video 1/1 (frame 510/652) /content/test.mp4: 352x640 (no detections), 9.3ms\n",
            "video 1/1 (frame 511/652) /content/test.mp4: 352x640 (no detections), 7.3ms\n",
            "video 1/1 (frame 512/652) /content/test.mp4: 352x640 (no detections), 7.3ms\n",
            "video 1/1 (frame 513/652) /content/test.mp4: 352x640 (no detections), 7.4ms\n",
            "video 1/1 (frame 514/652) /content/test.mp4: 352x640 (no detections), 8.6ms\n",
            "video 1/1 (frame 515/652) /content/test.mp4: 352x640 (no detections), 7.1ms\n",
            "video 1/1 (frame 516/652) /content/test.mp4: 352x640 (no detections), 7.6ms\n",
            "video 1/1 (frame 517/652) /content/test.mp4: 352x640 (no detections), 7.1ms\n",
            "video 1/1 (frame 518/652) /content/test.mp4: 352x640 (no detections), 8.6ms\n",
            "video 1/1 (frame 519/652) /content/test.mp4: 352x640 (no detections), 7.3ms\n",
            "video 1/1 (frame 520/652) /content/test.mp4: 352x640 (no detections), 8.0ms\n",
            "video 1/1 (frame 521/652) /content/test.mp4: 352x640 (no detections), 7.6ms\n",
            "video 1/1 (frame 522/652) /content/test.mp4: 352x640 (no detections), 8.0ms\n",
            "video 1/1 (frame 523/652) /content/test.mp4: 352x640 (no detections), 7.0ms\n",
            "video 1/1 (frame 524/652) /content/test.mp4: 352x640 (no detections), 6.8ms\n",
            "video 1/1 (frame 525/652) /content/test.mp4: 352x640 (no detections), 7.0ms\n",
            "video 1/1 (frame 526/652) /content/test.mp4: 352x640 (no detections), 8.0ms\n",
            "video 1/1 (frame 527/652) /content/test.mp4: 352x640 (no detections), 8.9ms\n",
            "video 1/1 (frame 528/652) /content/test.mp4: 352x640 (no detections), 7.1ms\n",
            "video 1/1 (frame 529/652) /content/test.mp4: 352x640 (no detections), 6.7ms\n",
            "video 1/1 (frame 530/652) /content/test.mp4: 352x640 (no detections), 8.6ms\n",
            "video 1/1 (frame 531/652) /content/test.mp4: 352x640 (no detections), 13.2ms\n",
            "video 1/1 (frame 532/652) /content/test.mp4: 352x640 (no detections), 7.4ms\n",
            "video 1/1 (frame 533/652) /content/test.mp4: 352x640 (no detections), 7.3ms\n",
            "video 1/1 (frame 534/652) /content/test.mp4: 352x640 (no detections), 7.1ms\n",
            "video 1/1 (frame 535/652) /content/test.mp4: 352x640 (no detections), 8.1ms\n",
            "video 1/1 (frame 536/652) /content/test.mp4: 352x640 (no detections), 8.0ms\n",
            "video 1/1 (frame 537/652) /content/test.mp4: 352x640 (no detections), 6.7ms\n",
            "video 1/1 (frame 538/652) /content/test.mp4: 352x640 (no detections), 6.8ms\n",
            "video 1/1 (frame 539/652) /content/test.mp4: 352x640 (no detections), 7.3ms\n",
            "video 1/1 (frame 540/652) /content/test.mp4: 352x640 (no detections), 9.9ms\n",
            "video 1/1 (frame 541/652) /content/test.mp4: 352x640 (no detections), 7.2ms\n",
            "video 1/1 (frame 542/652) /content/test.mp4: 352x640 (no detections), 8.5ms\n",
            "video 1/1 (frame 543/652) /content/test.mp4: 352x640 (no detections), 7.3ms\n",
            "video 1/1 (frame 544/652) /content/test.mp4: 352x640 (no detections), 8.6ms\n",
            "video 1/1 (frame 545/652) /content/test.mp4: 352x640 (no detections), 6.9ms\n",
            "video 1/1 (frame 546/652) /content/test.mp4: 352x640 (no detections), 7.4ms\n",
            "video 1/1 (frame 547/652) /content/test.mp4: 352x640 (no detections), 7.7ms\n",
            "video 1/1 (frame 548/652) /content/test.mp4: 352x640 (no detections), 8.7ms\n",
            "video 1/1 (frame 549/652) /content/test.mp4: 352x640 (no detections), 8.2ms\n",
            "video 1/1 (frame 550/652) /content/test.mp4: 352x640 (no detections), 7.2ms\n",
            "video 1/1 (frame 551/652) /content/test.mp4: 352x640 (no detections), 7.0ms\n",
            "video 1/1 (frame 552/652) /content/test.mp4: 352x640 (no detections), 8.1ms\n",
            "video 1/1 (frame 553/652) /content/test.mp4: 352x640 (no detections), 7.0ms\n",
            "video 1/1 (frame 554/652) /content/test.mp4: 352x640 (no detections), 7.3ms\n",
            "video 1/1 (frame 555/652) /content/test.mp4: 352x640 (no detections), 7.3ms\n",
            "video 1/1 (frame 556/652) /content/test.mp4: 352x640 (no detections), 8.3ms\n",
            "video 1/1 (frame 557/652) /content/test.mp4: 352x640 (no detections), 8.9ms\n",
            "video 1/1 (frame 558/652) /content/test.mp4: 352x640 (no detections), 7.0ms\n",
            "video 1/1 (frame 559/652) /content/test.mp4: 352x640 (no detections), 7.1ms\n",
            "video 1/1 (frame 560/652) /content/test.mp4: 352x640 (no detections), 8.7ms\n",
            "video 1/1 (frame 561/652) /content/test.mp4: 352x640 (no detections), 6.9ms\n",
            "video 1/1 (frame 562/652) /content/test.mp4: 352x640 (no detections), 7.1ms\n",
            "video 1/1 (frame 563/652) /content/test.mp4: 352x640 (no detections), 8.7ms\n",
            "video 1/1 (frame 564/652) /content/test.mp4: 352x640 (no detections), 9.0ms\n",
            "video 1/1 (frame 565/652) /content/test.mp4: 352x640 (no detections), 7.7ms\n",
            "video 1/1 (frame 566/652) /content/test.mp4: 352x640 (no detections), 7.2ms\n",
            "video 1/1 (frame 567/652) /content/test.mp4: 352x640 (no detections), 6.7ms\n",
            "video 1/1 (frame 568/652) /content/test.mp4: 352x640 (no detections), 7.4ms\n",
            "video 1/1 (frame 569/652) /content/test.mp4: 352x640 (no detections), 7.0ms\n",
            "video 1/1 (frame 570/652) /content/test.mp4: 352x640 (no detections), 6.8ms\n",
            "video 1/1 (frame 571/652) /content/test.mp4: 352x640 (no detections), 6.7ms\n",
            "video 1/1 (frame 572/652) /content/test.mp4: 352x640 (no detections), 8.3ms\n",
            "video 1/1 (frame 573/652) /content/test.mp4: 352x640 (no detections), 8.6ms\n",
            "video 1/1 (frame 574/652) /content/test.mp4: 352x640 (no detections), 7.3ms\n",
            "video 1/1 (frame 575/652) /content/test.mp4: 352x640 (no detections), 6.9ms\n",
            "video 1/1 (frame 576/652) /content/test.mp4: 352x640 (no detections), 7.9ms\n",
            "video 1/1 (frame 577/652) /content/test.mp4: 352x640 (no detections), 7.6ms\n",
            "video 1/1 (frame 578/652) /content/test.mp4: 352x640 (no detections), 7.1ms\n",
            "video 1/1 (frame 579/652) /content/test.mp4: 352x640 (no detections), 7.3ms\n",
            "video 1/1 (frame 580/652) /content/test.mp4: 352x640 (no detections), 8.2ms\n",
            "video 1/1 (frame 581/652) /content/test.mp4: 352x640 (no detections), 9.3ms\n",
            "video 1/1 (frame 582/652) /content/test.mp4: 352x640 (no detections), 8.8ms\n",
            "video 1/1 (frame 583/652) /content/test.mp4: 352x640 (no detections), 7.6ms\n",
            "video 1/1 (frame 584/652) /content/test.mp4: 352x640 (no detections), 13.6ms\n",
            "video 1/1 (frame 585/652) /content/test.mp4: 352x640 (no detections), 11.9ms\n",
            "video 1/1 (frame 586/652) /content/test.mp4: 352x640 (no detections), 16.1ms\n",
            "video 1/1 (frame 587/652) /content/test.mp4: 352x640 (no detections), 12.0ms\n",
            "video 1/1 (frame 588/652) /content/test.mp4: 352x640 (no detections), 13.5ms\n",
            "video 1/1 (frame 589/652) /content/test.mp4: 352x640 (no detections), 10.3ms\n",
            "video 1/1 (frame 590/652) /content/test.mp4: 352x640 (no detections), 11.7ms\n",
            "video 1/1 (frame 591/652) /content/test.mp4: 352x640 (no detections), 11.0ms\n",
            "video 1/1 (frame 592/652) /content/test.mp4: 352x640 (no detections), 11.1ms\n",
            "video 1/1 (frame 593/652) /content/test.mp4: 352x640 (no detections), 9.1ms\n",
            "video 1/1 (frame 594/652) /content/test.mp4: 352x640 (no detections), 10.1ms\n",
            "video 1/1 (frame 595/652) /content/test.mp4: 352x640 (no detections), 13.1ms\n",
            "video 1/1 (frame 596/652) /content/test.mp4: 352x640 (no detections), 13.2ms\n",
            "video 1/1 (frame 597/652) /content/test.mp4: 352x640 (no detections), 13.4ms\n",
            "video 1/1 (frame 598/652) /content/test.mp4: 352x640 (no detections), 14.0ms\n",
            "video 1/1 (frame 599/652) /content/test.mp4: 352x640 (no detections), 11.2ms\n",
            "video 1/1 (frame 600/652) /content/test.mp4: 352x640 (no detections), 10.6ms\n",
            "video 1/1 (frame 601/652) /content/test.mp4: 352x640 (no detections), 14.3ms\n",
            "video 1/1 (frame 602/652) /content/test.mp4: 352x640 (no detections), 12.1ms\n",
            "video 1/1 (frame 603/652) /content/test.mp4: 352x640 (no detections), 14.9ms\n",
            "video 1/1 (frame 604/652) /content/test.mp4: 352x640 (no detections), 11.9ms\n",
            "video 1/1 (frame 605/652) /content/test.mp4: 352x640 (no detections), 10.1ms\n",
            "video 1/1 (frame 606/652) /content/test.mp4: 352x640 (no detections), 9.6ms\n",
            "video 1/1 (frame 607/652) /content/test.mp4: 352x640 (no detections), 13.4ms\n",
            "video 1/1 (frame 608/652) /content/test.mp4: 352x640 (no detections), 10.1ms\n",
            "video 1/1 (frame 609/652) /content/test.mp4: 352x640 (no detections), 9.1ms\n",
            "video 1/1 (frame 610/652) /content/test.mp4: 352x640 (no detections), 9.4ms\n",
            "video 1/1 (frame 611/652) /content/test.mp4: 352x640 (no detections), 9.3ms\n",
            "video 1/1 (frame 612/652) /content/test.mp4: 352x640 (no detections), 9.6ms\n",
            "video 1/1 (frame 613/652) /content/test.mp4: 352x640 (no detections), 9.5ms\n",
            "video 1/1 (frame 614/652) /content/test.mp4: 352x640 (no detections), 9.7ms\n",
            "video 1/1 (frame 615/652) /content/test.mp4: 352x640 (no detections), 9.3ms\n",
            "video 1/1 (frame 616/652) /content/test.mp4: 352x640 (no detections), 9.3ms\n",
            "video 1/1 (frame 617/652) /content/test.mp4: 352x640 (no detections), 10.0ms\n",
            "video 1/1 (frame 618/652) /content/test.mp4: 352x640 (no detections), 11.0ms\n",
            "video 1/1 (frame 619/652) /content/test.mp4: 352x640 (no detections), 10.2ms\n",
            "video 1/1 (frame 620/652) /content/test.mp4: 352x640 (no detections), 12.6ms\n",
            "video 1/1 (frame 621/652) /content/test.mp4: 352x640 (no detections), 9.6ms\n",
            "video 1/1 (frame 622/652) /content/test.mp4: 352x640 (no detections), 9.7ms\n",
            "video 1/1 (frame 623/652) /content/test.mp4: 352x640 (no detections), 9.4ms\n",
            "video 1/1 (frame 624/652) /content/test.mp4: 352x640 (no detections), 14.8ms\n",
            "video 1/1 (frame 625/652) /content/test.mp4: 352x640 (no detections), 17.7ms\n",
            "video 1/1 (frame 626/652) /content/test.mp4: 352x640 (no detections), 14.0ms\n",
            "video 1/1 (frame 627/652) /content/test.mp4: 352x640 (no detections), 10.0ms\n",
            "video 1/1 (frame 628/652) /content/test.mp4: 352x640 (no detections), 9.0ms\n",
            "video 1/1 (frame 629/652) /content/test.mp4: 352x640 (no detections), 9.0ms\n",
            "video 1/1 (frame 630/652) /content/test.mp4: 352x640 (no detections), 9.0ms\n",
            "video 1/1 (frame 631/652) /content/test.mp4: 352x640 (no detections), 8.6ms\n",
            "video 1/1 (frame 632/652) /content/test.mp4: 352x640 (no detections), 8.9ms\n",
            "video 1/1 (frame 633/652) /content/test.mp4: 352x640 (no detections), 8.6ms\n",
            "video 1/1 (frame 634/652) /content/test.mp4: 352x640 (no detections), 8.5ms\n",
            "video 1/1 (frame 635/652) /content/test.mp4: 352x640 (no detections), 8.0ms\n",
            "video 1/1 (frame 636/652) /content/test.mp4: 352x640 (no detections), 11.5ms\n",
            "video 1/1 (frame 637/652) /content/test.mp4: 352x640 (no detections), 8.4ms\n",
            "video 1/1 (frame 638/652) /content/test.mp4: 352x640 (no detections), 10.4ms\n",
            "video 1/1 (frame 639/652) /content/test.mp4: 352x640 (no detections), 8.4ms\n",
            "video 1/1 (frame 640/652) /content/test.mp4: 352x640 (no detections), 8.6ms\n",
            "video 1/1 (frame 641/652) /content/test.mp4: 352x640 (no detections), 12.8ms\n",
            "video 1/1 (frame 642/652) /content/test.mp4: 352x640 (no detections), 11.2ms\n",
            "video 1/1 (frame 643/652) /content/test.mp4: 352x640 (no detections), 11.3ms\n",
            "video 1/1 (frame 644/652) /content/test.mp4: 352x640 (no detections), 11.0ms\n",
            "video 1/1 (frame 645/652) /content/test.mp4: 352x640 (no detections), 9.2ms\n",
            "video 1/1 (frame 646/652) /content/test.mp4: 352x640 (no detections), 11.5ms\n",
            "video 1/1 (frame 647/652) /content/test.mp4: 352x640 (no detections), 8.9ms\n",
            "video 1/1 (frame 648/652) /content/test.mp4: 352x640 (no detections), 9.8ms\n",
            "video 1/1 (frame 649/652) /content/test.mp4: 352x640 (no detections), 9.1ms\n",
            "video 1/1 (frame 650/652) /content/test.mp4: 352x640 (no detections), 14.0ms\n",
            "video 1/1 (frame 651/652) /content/test.mp4: 352x640 (no detections), 12.1ms\n",
            "video 1/1 (frame 652/652) /content/test.mp4: 352x640 (no detections), 14.3ms\n",
            "Speed: 2.4ms preprocess, 8.4ms inference, 1.4ms postprocess per image at shape (1, 3, 352, 640)\n",
            "Results saved to \u001b[1m/content/output_video\u001b[0m\n"
          ]
        }
      ]
    },
    {
      "cell_type": "code",
      "source": [
        "from google.colab import files\n",
        "\n",
        "files.download('/content/output_video/test.avi')"
      ],
      "metadata": {
        "id": "0kvOqf3NF0Nq",
        "outputId": "d0164b83-e14d-4fa2-bc49-b5ee7a95e37f",
        "colab": {
          "base_uri": "https://localhost:8080/",
          "height": 34
        }
      },
      "execution_count": 12,
      "outputs": [
        {
          "output_type": "display_data",
          "data": {
            "text/plain": [
              "<IPython.core.display.Javascript object>"
            ],
            "application/javascript": [
              "\n",
              "    async function download(id, filename, size) {\n",
              "      if (!google.colab.kernel.accessAllowed) {\n",
              "        return;\n",
              "      }\n",
              "      const div = document.createElement('div');\n",
              "      const label = document.createElement('label');\n",
              "      label.textContent = `Downloading \"${filename}\": `;\n",
              "      div.appendChild(label);\n",
              "      const progress = document.createElement('progress');\n",
              "      progress.max = size;\n",
              "      div.appendChild(progress);\n",
              "      document.body.appendChild(div);\n",
              "\n",
              "      const buffers = [];\n",
              "      let downloaded = 0;\n",
              "\n",
              "      const channel = await google.colab.kernel.comms.open(id);\n",
              "      // Send a message to notify the kernel that we're ready.\n",
              "      channel.send({})\n",
              "\n",
              "      for await (const message of channel.messages) {\n",
              "        // Send a message to notify the kernel that we're ready.\n",
              "        channel.send({})\n",
              "        if (message.buffers) {\n",
              "          for (const buffer of message.buffers) {\n",
              "            buffers.push(buffer);\n",
              "            downloaded += buffer.byteLength;\n",
              "            progress.value = downloaded;\n",
              "          }\n",
              "        }\n",
              "      }\n",
              "      const blob = new Blob(buffers, {type: 'application/binary'});\n",
              "      const a = document.createElement('a');\n",
              "      a.href = window.URL.createObjectURL(blob);\n",
              "      a.download = filename;\n",
              "      div.appendChild(a);\n",
              "      a.click();\n",
              "      div.remove();\n",
              "    }\n",
              "  "
            ]
          },
          "metadata": {}
        },
        {
          "output_type": "display_data",
          "data": {
            "text/plain": [
              "<IPython.core.display.Javascript object>"
            ],
            "application/javascript": [
              "download(\"download_aafee7d2-41cd-4343-99c7-efb033d12a67\", \"test.avi\", 50370448)"
            ]
          },
          "metadata": {}
        }
      ]
    },
    {
      "cell_type": "code",
      "source": [],
      "metadata": {
        "id": "irj1LwbQIG86"
      },
      "execution_count": null,
      "outputs": []
    }
  ]
}